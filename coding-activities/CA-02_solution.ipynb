{
 "cells": [
  {
   "cell_type": "markdown",
   "id": "f4b610c4-9c92-490c-8b4c-e23a3f963885",
   "metadata": {},
   "source": [
    "# Coding Activity 2 - *Solution*\n",
    "\n",
    "For this assignment you will create a collection of functions that calculate probabilities."
   ]
  },
  {
   "cell_type": "markdown",
   "id": "ca20ec02-4546-49b7-8e6c-ff883f8726af",
   "metadata": {
    "jp-MarkdownHeadingCollapsed": true
   },
   "source": [
    "## Assignment Details"
   ]
  },
  {
   "cell_type": "markdown",
   "id": "16483af4-1062-48f2-96b8-a03dfbaf24b5",
   "metadata": {
    "jp-MarkdownHeadingCollapsed": true
   },
   "source": [
    "### Motivation\n",
    "\n",
    "The goal of this assignment is to have you working with functions to understand how to simplify your code and avoid repeating yourself via copy and pasting code.\n",
    "\n",
    "### Expectations\n",
    "Your code must meet the required conditions.\n",
    "\n",
    "* Write all of your function definitions in a single code cell.\n",
    "* Write definitions for each of the 5 calculations defined in lecture 2.1.\n",
    "* Include code that demonstrates you testing the output of your function definitions. Using the examples from the lecture notes are a good start as you know the output you should expect. \n",
    "\n",
    "### Recommendations & Reminders\n",
    "\n",
    "* Talk through your code with your classmates, outline the logic you think you'll use before writing any code.\n",
    "\n",
    "### Activity Assessment\n",
    "\n",
    "This coding assignment will be graded on effort alone. That means it's okay if it doesn't completely work to get full credit. Just attempt something and be sure that you're asking questions so that you can get it as far as possible in the available time.\n",
    "\n",
    "You will get full points even if your code does not work or you do not finish, as long as you have attempted meeting the expectations listed above.\n",
    "\n",
    "### Activity Submission\n",
    "\n",
    "You'll have until the end of class time today to do this assignment. You will submit what you have, regardless of whether it is complete or not.\n",
    "\n",
    "Please add your last name to the end of your file name. For example mine woud be named\n",
    "\n",
    "`CA-02_DePiero.ipynb`\n",
    "\n",
    "Once your file is properly named, upload your .ipynb file to the assignment in Moodle. "
   ]
  },
  {
   "cell_type": "markdown",
   "id": "bea25477-9176-46f9-b4bd-8923efa1fd7c",
   "metadata": {},
   "source": [
    "## Probability Function Module\n",
    "\n",
    "The start of your code is given below. You should write all of your code in the single code cell below.\n",
    "\n",
    "I chose to write my versions with a print options. Tests reflect the two different outputs."
   ]
  },
  {
   "cell_type": "code",
   "execution_count": 15,
   "id": "4361828a-6244-4cdd-a952-175c8f679b1e",
   "metadata": {},
   "outputs": [],
   "source": [
    "# write all of your function definitions in this cell\n",
    "def basic_probability(number_of_outcomes, total_outcomes, printer=False):\n",
    "\n",
    "    probability = number_of_outcomes / total_outcomes\n",
    "    \n",
    "    if printer == True:\n",
    "        print('Number of outcomes: ', number_of_outcomes)\n",
    "        print('Total outcomes: ', total_outcomes)\n",
    "        print(f'Probability: {probability:.4f} or {probability:2.2%}')\n",
    "    else:\n",
    "        return probability\n",
    "\n",
    "# calculates the complement probability: 1 - P(A)\n",
    "def complement_probability(number_of_outcomes, total_outcomes, printer=False):\n",
    "\n",
    "    probability = 1 - basic_probability(number_of_outcomes, total_outcomes)\n",
    "\n",
    "    if printer == True:\n",
    "        print('Number of outcomes: ', number_of_outcomes)\n",
    "        print('Total outcomes: ', total_outcomes)\n",
    "        print(f'Complement Probability: {probability:.4f} or {probability:2.2%}')\n",
    "    else:\n",
    "        return probability\n",
    "\n",
    "# calculates the probability P(A and B) = P(A) * P(B)\n",
    "def probability_both_A_B(probability_A, probability_B, printer=False):\n",
    "    \n",
    "    probability = probability_A * probability_B\n",
    "\n",
    "    if printer == True:\n",
    "        print('Probability A : ', probability_A)\n",
    "        print('Probability B: ', probability_B)\n",
    "        print(f'Probability of A and B: {probability:.4f} or {probability:2.2%}')\n",
    "    else:\n",
    "        return probability\n",
    "\n",
    "# calculates the probability P(A or B) = P(A) + P(B) - P(A) * P(B)\n",
    "def probability_either_A_B(probability_A, probability_B, printer=False):\n",
    "    \n",
    "    probability = probability_A + probability_B - probability_both_A_B(probability_A, probability_B)\n",
    "\n",
    "    if printer == True:\n",
    "        print('Probability A : ', probability_A)\n",
    "        print('Probability B: ', probability_B)\n",
    "        print(f'Probability of A or B: {probability:.4f} or {probability:2.2%}')\n",
    "    else:\n",
    "        return probability\n",
    "\n",
    "# calculates the conditional probability (A and B not independent: P(A and B) = P(A) * P(B | A)\n",
    "def conditional_probability(probability_A, probability_B_given_A, printer=False):\n",
    "    \n",
    "    probability = probability_A * probability_B_given_A\n",
    "    \n",
    "    if printer == True:\n",
    "        print('Probability A : ', probability_A)\n",
    "        print('Probability B given A: ', probability_B_given_A)\n",
    "        print(f'Conditional Probability P(A and B): {probability:.4f} or {probability:2.2%}')\n",
    "    else:\n",
    "        return probability\n"
   ]
  },
  {
   "cell_type": "markdown",
   "id": "30d75085-471c-44b4-8a5c-1b6733851f69",
   "metadata": {},
   "source": [
    "## Function Tests"
   ]
  },
  {
   "cell_type": "code",
   "execution_count": 13,
   "id": "61abfe3f-c112-4267-baa6-31157588a3f4",
   "metadata": {},
   "outputs": [
    {
     "data": {
      "text/plain": [
       "0.16666666666666666"
      ]
     },
     "execution_count": 13,
     "metadata": {},
     "output_type": "execute_result"
    }
   ],
   "source": [
    "## write your test cases in the cells below (add more if you need them)\n",
    "basic_probability(1, 6)"
   ]
  },
  {
   "cell_type": "code",
   "execution_count": 20,
   "id": "de0c9501-4c8c-4c70-bd7b-60be43b773ed",
   "metadata": {},
   "outputs": [
    {
     "name": "stdout",
     "output_type": "stream",
     "text": [
      "Number of outcomes:  1\n",
      "Total outcomes:  6\n",
      "Probability: 0.1667 or 16.67%\n"
     ]
    }
   ],
   "source": [
    "basic_probability(1, 6, printer=True)"
   ]
  },
  {
   "cell_type": "code",
   "execution_count": 16,
   "id": "ad0ebc37-d4ba-44bd-b0df-461deec05e86",
   "metadata": {},
   "outputs": [
    {
     "data": {
      "text/plain": [
       "0.75"
      ]
     },
     "execution_count": 16,
     "metadata": {},
     "output_type": "execute_result"
    }
   ],
   "source": [
    "complement_probability(1, 4)"
   ]
  },
  {
   "cell_type": "code",
   "execution_count": 21,
   "id": "0f35686a-654b-435f-8e46-fded9329a152",
   "metadata": {},
   "outputs": [
    {
     "name": "stdout",
     "output_type": "stream",
     "text": [
      "Number of outcomes:  1\n",
      "Total outcomes:  4\n",
      "Complement Probability: 0.7500 or 75.00%\n"
     ]
    }
   ],
   "source": [
    "complement_probability(1, 4, printer=True)"
   ]
  },
  {
   "cell_type": "code",
   "execution_count": 17,
   "id": "019ae43c-2b1a-4e2c-8533-3fdb6606e608",
   "metadata": {},
   "outputs": [
    {
     "data": {
      "text/plain": [
       "0.125"
      ]
     },
     "execution_count": 17,
     "metadata": {},
     "output_type": "execute_result"
    }
   ],
   "source": [
    "probability_both_A_B(1/2, 1/4)"
   ]
  },
  {
   "cell_type": "code",
   "execution_count": 22,
   "id": "ae3ab1d7-d6e3-4c19-a892-0c4b7c424bea",
   "metadata": {},
   "outputs": [
    {
     "name": "stdout",
     "output_type": "stream",
     "text": [
      "Probability A :  0.5\n",
      "Probability B:  0.25\n",
      "Probability of A and B: 0.1250 or 12.50%\n"
     ]
    }
   ],
   "source": [
    "probability_both_A_B(1/2, 1/4, printer=True)"
   ]
  },
  {
   "cell_type": "code",
   "execution_count": 18,
   "id": "3de714bf-6192-42ff-9ed8-f63ded0eb1be",
   "metadata": {},
   "outputs": [
    {
     "data": {
      "text/plain": [
       "0.625"
      ]
     },
     "execution_count": 18,
     "metadata": {},
     "output_type": "execute_result"
    }
   ],
   "source": [
    "probability_either_A_B(1/2, 1/4)"
   ]
  },
  {
   "cell_type": "code",
   "execution_count": 23,
   "id": "d88f0954-160f-4585-b657-8cd26a3c5af9",
   "metadata": {},
   "outputs": [
    {
     "name": "stdout",
     "output_type": "stream",
     "text": [
      "Probability A :  0.5\n",
      "Probability B:  0.25\n",
      "Probability of A or B: 0.6250 or 62.50%\n"
     ]
    }
   ],
   "source": [
    "probability_either_A_B(1/2, 1/4, printer=True)"
   ]
  },
  {
   "cell_type": "code",
   "execution_count": 19,
   "id": "a0de00fe-88cb-4193-8932-35f7c26e0cab",
   "metadata": {},
   "outputs": [
    {
     "data": {
      "text/plain": [
       "0.058823529411764705"
      ]
     },
     "execution_count": 19,
     "metadata": {},
     "output_type": "execute_result"
    }
   ],
   "source": [
    "conditional_probability(13/52, 12/51)"
   ]
  },
  {
   "cell_type": "code",
   "execution_count": 24,
   "id": "ff6c3d57-d676-4051-ab58-df2c1ce5f794",
   "metadata": {},
   "outputs": [
    {
     "name": "stdout",
     "output_type": "stream",
     "text": [
      "Probability A :  0.25\n",
      "Probability B given A:  0.23529411764705882\n",
      "Conditional Probability P(A and B): 0.0588 or 5.88%\n"
     ]
    }
   ],
   "source": [
    "conditional_probability(13/52, 12/51, printer=True)"
   ]
  },
  {
   "cell_type": "code",
   "execution_count": null,
   "id": "57a0d845-131b-4918-aa6a-85636bfdab1f",
   "metadata": {},
   "outputs": [],
   "source": []
  }
 ],
 "metadata": {
  "kernelspec": {
   "display_name": "Python 3 (ipykernel)",
   "language": "python",
   "name": "python3"
  },
  "language_info": {
   "codemirror_mode": {
    "name": "ipython",
    "version": 3
   },
   "file_extension": ".py",
   "mimetype": "text/x-python",
   "name": "python",
   "nbconvert_exporter": "python",
   "pygments_lexer": "ipython3",
   "version": "3.10.13"
  }
 },
 "nbformat": 4,
 "nbformat_minor": 5
}
