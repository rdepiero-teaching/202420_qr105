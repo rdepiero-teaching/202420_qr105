{
 "cells": [
  {
   "cell_type": "markdown",
   "id": "0748ad44-4ba3-4d8b-8941-2d334b45ded6",
   "metadata": {},
   "source": [
    "# Coding Activity 5\n",
    "\n",
    "In this assignment you'll be doing some basic data exploration and analysis on a data set.\n",
    "\n",
    "Be sure that you download the dataset `ufo.csv`. It's recommended that you create a new folder for this coding activity for the notebook file and the data set. \n",
    "\n",
    "This is a guided coding activity. It is designed to be done while watching the associated lecture video posted on moodle."
   ]
  },
  {
   "cell_type": "markdown",
   "id": "7fe36b78-97fd-4981-a531-badf4790e1c6",
   "metadata": {},
   "source": [
    "## Assignment Details"
   ]
  },
  {
   "cell_type": "markdown",
   "id": "21bafe69-b4e6-40ad-909e-86e0a6c34466",
   "metadata": {
    "jp-MarkdownHeadingCollapsed": true
   },
   "source": [
    "### Motivation\n",
    "\n",
    "The goal of this assignment is to prepare you for project 2 where you will explore a data set on your own and attempt to draw some conclusions from your results.\n",
    "\n",
    "### Expectations\n",
    "Your code must meet the required conditions.\n",
    "\n",
    "* Replicate the code and steps as shown in the video.\n",
    "* In addition to writing the code, you are expected to leave comments and explantation as to what the code is doing.\n",
    "* If you have questions, write them out in the notebook.\n",
    "\n",
    "### Activity Assessment\n",
    "\n",
    "Since this is a guided coding activity, it is expected that you fully complete the assignment in order to receive full credit.\n",
    "\n",
    "In addition to your code, it is also expected that you will add additional notes and comments either in code blocks or in markdown cell\n",
    "\n",
    "### Activity Submission\n",
    "\n",
    "Please submit this notebook file to the appropriate assignment in Moodle but the deadline given there.\n",
    "\n",
    "Please add your last name to the end of your file name. For example mine woud be named\n",
    "\n",
    "`CA-05_DePiero.ipynb`\n",
    "\n",
    "Once your file is properly named, upload your .ipynb file to the assignment in Moodle. "
   ]
  },
  {
   "cell_type": "markdown",
   "id": "bea25477-9176-46f9-b4bd-8923efa1fd7c",
   "metadata": {},
   "source": [
    "# Exploring a Data Set\n",
    "\n"
   ]
  },
  {
   "cell_type": "markdown",
   "id": "9eba67af-40ab-41ef-8463-f0525eaac70c",
   "metadata": {},
   "source": [
    "## Import the Data Set"
   ]
  },
  {
   "cell_type": "code",
   "execution_count": 1,
   "id": "f433d71a-83cc-4e9e-bc2b-9bf4463ceff1",
   "metadata": {},
   "outputs": [],
   "source": [
    "# import libraries\n",
    "import pandas as pd\n",
    "import numpy as np\n",
    "import matplotlib.pyplot as plt\n",
    "\n",
    "# import dataset\n"
   ]
  },
  {
   "cell_type": "markdown",
   "id": "98cc3dad-c27a-4f2c-8735-50121408bbe9",
   "metadata": {},
   "source": [
    "## Basic Data Exploration"
   ]
  },
  {
   "cell_type": "code",
   "execution_count": 9,
   "id": "6196de53-3f89-40b3-a4f1-13d9562c33f0",
   "metadata": {},
   "outputs": [],
   "source": [
    "# get basic dataframe info\n"
   ]
  },
  {
   "cell_type": "code",
   "execution_count": 8,
   "id": "4361828a-6244-4cdd-a952-175c8f679b1e",
   "metadata": {},
   "outputs": [],
   "source": [
    "# print top of data\n"
   ]
  },
  {
   "cell_type": "markdown",
   "id": "ca4695e0-5b5f-4c7c-b6f0-04d991d5369e",
   "metadata": {},
   "source": [
    "### Renaming Columns"
   ]
  },
  {
   "cell_type": "code",
   "execution_count": 7,
   "id": "61abfe3f-c112-4267-baa6-31157588a3f4",
   "metadata": {},
   "outputs": [],
   "source": [
    "# make all characters lower case\n"
   ]
  },
  {
   "cell_type": "code",
   "execution_count": 5,
   "id": "ad0ebc37-d4ba-44bd-b0df-461deec05e86",
   "metadata": {},
   "outputs": [],
   "source": [
    "# remove spaces from column names & simplify\n",
    "\n",
    "# make a dictionary to translate between old name and the new name\n",
    "col_names = {\n",
    "    'colors reported' : 'color',\n",
    "    'shape reported' : 'shape',\n",
    "    'time' : 'datetime',\n",
    "}\n"
   ]
  },
  {
   "cell_type": "code",
   "execution_count": null,
   "id": "bc775ad4-b485-4028-a173-28540baba407",
   "metadata": {},
   "outputs": [],
   "source": []
  },
  {
   "cell_type": "markdown",
   "id": "a77781f3-0c03-4146-aab2-e8c741bd8bdb",
   "metadata": {},
   "source": [
    "## Data Cleaning\n",
    "### Formating Date & Time Information"
   ]
  },
  {
   "cell_type": "code",
   "execution_count": null,
   "id": "019ae43c-2b1a-4e2c-8533-3fdb6606e608",
   "metadata": {},
   "outputs": [],
   "source": []
  },
  {
   "cell_type": "code",
   "execution_count": 1,
   "id": "d88f0954-160f-4585-b657-8cd26a3c5af9",
   "metadata": {},
   "outputs": [],
   "source": [
    "# convert to special datetime format for python & pandas\n"
   ]
  },
  {
   "cell_type": "code",
   "execution_count": 3,
   "id": "0bb92d9a-006a-44a6-8da5-970b90f4963a",
   "metadata": {},
   "outputs": [],
   "source": [
    "# let's format the date and time and make the separate columns\n",
    "# we can make a new column just by naming it and setting it equal to something\n",
    "\n",
    "# create a new time column and store the time data\n"
   ]
  },
  {
   "cell_type": "code",
   "execution_count": 4,
   "id": "6b82868b-3318-4a45-b760-76af62430b88",
   "metadata": {},
   "outputs": [],
   "source": [
    "# do the same for the time\n"
   ]
  },
  {
   "cell_type": "code",
   "execution_count": null,
   "id": "a0384716-03cf-4254-a40c-23d72536c045",
   "metadata": {},
   "outputs": [],
   "source": []
  },
  {
   "cell_type": "markdown",
   "id": "fefbbcbe-ed1f-4c8d-8aec-8e6c4d5a8e09",
   "metadata": {},
   "source": [
    "### Handling Null Values"
   ]
  },
  {
   "cell_type": "code",
   "execution_count": null,
   "id": "2c8b9669-42d2-4980-bd09-d9982b3269be",
   "metadata": {},
   "outputs": [],
   "source": []
  },
  {
   "cell_type": "code",
   "execution_count": null,
   "id": "c1a30120-c2b6-4443-88b8-888ac878b1bf",
   "metadata": {},
   "outputs": [],
   "source": [
    "\n"
   ]
  },
  {
   "cell_type": "code",
   "execution_count": null,
   "id": "26e45a7d-af3b-409c-8712-97981f73b34e",
   "metadata": {},
   "outputs": [],
   "source": []
  },
  {
   "cell_type": "code",
   "execution_count": null,
   "id": "6112799d-3f76-4168-92c4-160815c619e7",
   "metadata": {},
   "outputs": [],
   "source": []
  },
  {
   "cell_type": "markdown",
   "id": "e43d8c32-201f-4bb1-80b9-dd80d845c9dc",
   "metadata": {},
   "source": [
    "## Exploring the States"
   ]
  },
  {
   "cell_type": "code",
   "execution_count": 5,
   "id": "6b971a4d-7924-4507-a8ab-99d3354a4abb",
   "metadata": {},
   "outputs": [],
   "source": [
    "# explore counts for each state\n"
   ]
  },
  {
   "cell_type": "code",
   "execution_count": 6,
   "id": "01bdfc97-c679-4431-b7b0-02985cb966e8",
   "metadata": {},
   "outputs": [],
   "source": [
    "# make entries all upper case\n"
   ]
  },
  {
   "cell_type": "code",
   "execution_count": null,
   "id": "cf1ea2c6-37cc-40a3-a68f-7a380b6b42c4",
   "metadata": {},
   "outputs": [],
   "source": []
  },
  {
   "cell_type": "code",
   "execution_count": null,
   "id": "c96e5a30-b191-4daa-bed1-bc5b52c881cc",
   "metadata": {},
   "outputs": [],
   "source": []
  },
  {
   "cell_type": "code",
   "execution_count": null,
   "id": "0f634f9e-f339-45fb-8fcd-7e514538de40",
   "metadata": {},
   "outputs": [],
   "source": []
  },
  {
   "cell_type": "code",
   "execution_count": null,
   "id": "e58392c5-5160-4cdf-92a4-a4fd297dc146",
   "metadata": {},
   "outputs": [],
   "source": []
  },
  {
   "cell_type": "code",
   "execution_count": null,
   "id": "3d44763d-78ef-4972-8464-b2565e7b7315",
   "metadata": {},
   "outputs": [],
   "source": []
  },
  {
   "cell_type": "code",
   "execution_count": null,
   "id": "75526878-fb68-47d4-9feb-74bf2d401c43",
   "metadata": {},
   "outputs": [],
   "source": []
  },
  {
   "cell_type": "code",
   "execution_count": null,
   "id": "7b27ff0c-4112-4926-b925-f8c028142e84",
   "metadata": {},
   "outputs": [],
   "source": []
  },
  {
   "cell_type": "markdown",
   "id": "1fbd24e6-5429-478b-8ba5-cf5f244ce7b2",
   "metadata": {},
   "source": [
    "### Visualizations"
   ]
  },
  {
   "cell_type": "code",
   "execution_count": null,
   "id": "62997395-0404-46fe-8947-4ef37f6d00ca",
   "metadata": {},
   "outputs": [],
   "source": []
  },
  {
   "cell_type": "code",
   "execution_count": null,
   "id": "2808e68b-72fb-4adb-a796-1b334e743eb0",
   "metadata": {},
   "outputs": [],
   "source": []
  },
  {
   "cell_type": "code",
   "execution_count": null,
   "id": "da537971-5414-4a4a-96bc-5cad02e9d091",
   "metadata": {},
   "outputs": [],
   "source": []
  },
  {
   "cell_type": "markdown",
   "id": "d67c831f-1b15-4faf-860c-51b90e68b3e1",
   "metadata": {},
   "source": [
    "## Exploring Shapes"
   ]
  },
  {
   "cell_type": "code",
   "execution_count": null,
   "id": "a15368c3-1d99-4396-a5c9-a572919e69d5",
   "metadata": {},
   "outputs": [],
   "source": []
  },
  {
   "cell_type": "markdown",
   "id": "56ab5009-d318-45a8-91aa-8b2ed59fef72",
   "metadata": {},
   "source": [
    "### Visualizations"
   ]
  },
  {
   "cell_type": "code",
   "execution_count": null,
   "id": "664b6c81-a696-4462-b607-c9ee6a3ef0da",
   "metadata": {},
   "outputs": [],
   "source": []
  },
  {
   "cell_type": "code",
   "execution_count": 10,
   "id": "1e949abb-bf2f-4589-a41a-c4ea087e5fa3",
   "metadata": {},
   "outputs": [],
   "source": [
    "# lets look at shapes in a particular state\n"
   ]
  },
  {
   "cell_type": "code",
   "execution_count": null,
   "id": "613730e3-8527-4381-88e7-0358869e44c6",
   "metadata": {},
   "outputs": [],
   "source": []
  },
  {
   "cell_type": "code",
   "execution_count": null,
   "id": "b8b9feaa-fb16-4b33-84ee-b67177f87edb",
   "metadata": {},
   "outputs": [],
   "source": []
  },
  {
   "cell_type": "code",
   "execution_count": null,
   "id": "a01c19d8-bb5f-40ae-8ba4-bed6a1da4b32",
   "metadata": {},
   "outputs": [],
   "source": []
  },
  {
   "cell_type": "code",
   "execution_count": null,
   "id": "a6767a02-14ae-4fba-b333-9751fa2f7e16",
   "metadata": {},
   "outputs": [],
   "source": []
  },
  {
   "cell_type": "markdown",
   "id": "91d001e4-7ac9-4d73-b989-9e03ac4fca29",
   "metadata": {},
   "source": [
    "## Looking at Dates and Times"
   ]
  },
  {
   "cell_type": "code",
   "execution_count": null,
   "id": "64ee395d-396a-495c-8442-61c5b23f1668",
   "metadata": {},
   "outputs": [],
   "source": []
  },
  {
   "cell_type": "code",
   "execution_count": null,
   "id": "66554874-2c75-460b-a0be-0b1ff027d3e7",
   "metadata": {},
   "outputs": [],
   "source": []
  },
  {
   "cell_type": "code",
   "execution_count": null,
   "id": "d2df002b-1269-4181-a134-773b4327ed85",
   "metadata": {},
   "outputs": [],
   "source": []
  },
  {
   "cell_type": "code",
   "execution_count": null,
   "id": "727868ef-626e-4f0f-90af-d884f3372c81",
   "metadata": {},
   "outputs": [],
   "source": []
  },
  {
   "cell_type": "code",
   "execution_count": null,
   "id": "bfbde1f1-0323-46ed-9827-4ee62582c42f",
   "metadata": {},
   "outputs": [],
   "source": []
  },
  {
   "cell_type": "markdown",
   "id": "baf6cd3e-07d8-4420-ae9f-433e79c8d905",
   "metadata": {},
   "source": [
    "### Visualizations"
   ]
  },
  {
   "cell_type": "code",
   "execution_count": null,
   "id": "02e1e100-3f16-4e27-a7e6-a5ee7a6a5828",
   "metadata": {},
   "outputs": [],
   "source": []
  },
  {
   "cell_type": "code",
   "execution_count": null,
   "id": "4786692c-ceb0-41a4-8c4c-1901569103fd",
   "metadata": {},
   "outputs": [],
   "source": []
  },
  {
   "cell_type": "code",
   "execution_count": null,
   "id": "b38226a3-0c07-487a-bf75-5b023902952a",
   "metadata": {},
   "outputs": [],
   "source": []
  },
  {
   "cell_type": "code",
   "execution_count": null,
   "id": "d58d5712-ce70-491f-8882-f7e5e76f8aaf",
   "metadata": {},
   "outputs": [],
   "source": []
  },
  {
   "cell_type": "code",
   "execution_count": null,
   "id": "2ef51f82-c2b9-4970-a140-1783adeea655",
   "metadata": {},
   "outputs": [],
   "source": []
  },
  {
   "cell_type": "markdown",
   "id": "53f95aaa-da5e-4575-94b7-6158833ff731",
   "metadata": {},
   "source": [
    "## Simplifying Categorical Data"
   ]
  },
  {
   "cell_type": "code",
   "execution_count": 60,
   "id": "efc035fe-6424-4fdc-a625-984e4715a103",
   "metadata": {},
   "outputs": [],
   "source": [
    "\n",
    "# def classify_shape(shape):\n",
    "#     circular = [ 'OVAL', 'DISK', 'CIRCLE', 'SPHERE', 'ROUND', 'CRESCENT','EGG', 'TEARDROP']\n",
    "#     multiple = ['VARIOUS', 'FORMATION']\n",
    "#     polygon = ['DIAMOND','RECTANGLE', 'HEXAGON','CROSS' ]\n",
    "#     conical = ['PYRAMID', 'DOME', 'CONE',]\n",
    "#     triangular = ['TRIANGLE', 'DELTA','CHEVRON']\n",
    "#     cylindrical = ['CIGAR', 'CYLINDER',]\n",
    "#     light = ['LIGHT','FLARE', 'FLASH', 'FIREBALL']\n",
    "    \n",
    "#     if shape in circular:\n",
    "#         new_shape = 'circular'\n",
    "#     elif shape in multiple:\n",
    "#         new_shape = 'multiple'\n",
    "#     elif shape in polygon:\n",
    "#         new_shape = 'polygon'\n",
    "#     elif shape in conical:\n",
    "#         new_shape = 'conical'\n",
    "#     elif shape in triangular:\n",
    "#         new_shape = 'triangular'\n",
    "#     elif shape in cylindrical:\n",
    "#         new_shape = 'cylindrical'\n",
    "#     elif shape in light:\n",
    "#         new_shape = 'light'\n",
    "#     else:\n",
    "#         new_shape = shape\n",
    "\n",
    "#     return new_shape\n"
   ]
  },
  {
   "cell_type": "code",
   "execution_count": null,
   "id": "8e20440a-1e7a-421a-8f0c-7c6c952f96f4",
   "metadata": {},
   "outputs": [],
   "source": []
  },
  {
   "cell_type": "code",
   "execution_count": null,
   "id": "07c65217-4e87-4f58-b0bf-3b2c4f67cde9",
   "metadata": {},
   "outputs": [],
   "source": []
  },
  {
   "cell_type": "code",
   "execution_count": null,
   "id": "750c3221-c0c1-46e0-a23b-96c215db39f6",
   "metadata": {},
   "outputs": [],
   "source": []
  }
 ],
 "metadata": {
  "kernelspec": {
   "display_name": "Python 3 (ipykernel)",
   "language": "python",
   "name": "python3"
  },
  "language_info": {
   "codemirror_mode": {
    "name": "ipython",
    "version": 3
   },
   "file_extension": ".py",
   "mimetype": "text/x-python",
   "name": "python",
   "nbconvert_exporter": "python",
   "pygments_lexer": "ipython3",
   "version": "3.10.13"
  }
 },
 "nbformat": 4,
 "nbformat_minor": 5
}
