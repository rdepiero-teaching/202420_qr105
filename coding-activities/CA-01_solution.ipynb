{
 "cells": [
  {
   "cell_type": "markdown",
   "id": "614183ed-b4eb-4c35-959a-c18eba4115b1",
   "metadata": {
    "tags": []
   },
   "source": [
    "# Coding Activity 1 - *Solution*\n",
    "\n",
    "For this assignment you will create a \"Guess the Number\" game. This game will give you 5 guesses."
   ]
  },
  {
   "cell_type": "markdown",
   "id": "41f6fd50-0e71-47b2-aef2-812dbd5e80b2",
   "metadata": {
    "jp-MarkdownHeadingCollapsed": true
   },
   "source": [
    "## Assignment Details"
   ]
  },
  {
   "cell_type": "markdown",
   "id": "737a5302-1a66-40c8-9d03-f5dedb5017ec",
   "metadata": {
    "jp-MarkdownHeadingCollapsed": true,
    "tags": []
   },
   "source": [
    "### Motivation\n",
    "\n",
    "The goal of this assignment is to have you working on generating some code of your own in a place where you have peers and instructor assistance available to you. The expectation is not to necessarily have a fully working code by the end of the class (although it will be nice if you do!). We learn best by doing, so this is your opportunity to do so.\n",
    "\n",
    "### Expectations\n",
    "Your code must meet the required conditions.\n",
    "\n",
    "INPUT\n",
    "\n",
    "Take in an integer from 1 to 10.\n",
    "\n",
    "OUTPUT\n",
    "\n",
    "Print messages when\n",
    "* The guess is correct\n",
    "* The guess is too low\n",
    "* The guess is too high\n",
    "* The user has run out of guesses.\n",
    " \n",
    "\n",
    "### Recommendations & Reminders\n",
    "\n",
    "* Talk through your code with your classmates, outline the logic you think you'll use before writing any code.\n",
    "* Write your code in pieces - meaning, write a small part, then test, then add to it and test again.\n",
    "* You can use any of the structures we've learned so far to get this to work - there are several ways to do this.\n",
    "\n",
    "\n",
    "### Assignment Assessment\n",
    "\n",
    "This coding assignment will be graded on effort alone. That means it's okay if it doesn't completely work \n",
    "to get full credit. Just attempt something and be sure that you're asking questions so that you can get it as far as possible in the available time.\n",
    "\n",
    "You will get full points even if your code does not work or you do not finish, as long as you do the following:\n",
    "* Have at least one legitimate attempt at trying to solve the problem.\n",
    "* Be sure to leave previous attempts as commented lines so I can see what you tried.\n",
    "* Leave comments as to what you think might be going wrong or what you want to try next.\n",
    "* If there is an issue you notice, leave a comment about it.\n",
    "\n",
    "\n",
    "### Assignment Submission\n",
    "\n",
    "You'll have until the end of class time today to do this assignment. You will submit what you have, regardless of whether it is complete or not.\n",
    "\n",
    "Please add your last name to the end of your file name. For example mine woud be named:\n",
    "\n",
    "`CA-01_DePiero.ipynb`\n",
    "\n",
    "Once named properly, upload your .ipynb file to the assignment in Moodle. "
   ]
  },
  {
   "cell_type": "markdown",
   "id": "c494c394-a78a-4402-b5a4-425273ac2d93",
   "metadata": {
    "tags": []
   },
   "source": [
    "# Guess the Number\n",
    "\n",
    "The start of your code is given below. It's recommended that you write all of your code in a single code cell."
   ]
  },
  {
   "cell_type": "code",
   "execution_count": 1,
   "id": "4361828a-6244-4cdd-a952-175c8f679b1e",
   "metadata": {},
   "outputs": [
    {
     "name": "stdin",
     "output_type": "stream",
     "text": [
      "Guess an integer from 1 to 10:  4\n"
     ]
    },
    {
     "name": "stdout",
     "output_type": "stream",
     "text": [
      "Your guess is too high\n"
     ]
    },
    {
     "name": "stdin",
     "output_type": "stream",
     "text": [
      "Guess an integer from 1 to 10:  2\n"
     ]
    },
    {
     "name": "stdout",
     "output_type": "stream",
     "text": [
      "You guessed right\n"
     ]
    }
   ],
   "source": [
    "import random\n",
    "\n",
    "number = random.randint(1,11)  # randomly selects an integer from 1 to 10 and stores it in number\n",
    "\n",
    "## Note: this line needs to go somewhere in your code to prompt the user for a guess\n",
    "\n",
    "# guess = int(input('Guess an integer from 1 to 10')) # prompts the user for a guess\n",
    "\n",
    "\n",
    "max_guesses = 3\n",
    "\n",
    "for i in range(max_guesses):\n",
    "    guess = int(input('Guess an integer from 1 to 10: ')) # prompts the user for a guess\n",
    "\n",
    "    if guess < number:\n",
    "        print('Your guess is too low')\n",
    "\n",
    "    elif guess > number:\n",
    "        print('Your guess is too high')\n",
    "\n",
    "    elif guess == number:\n",
    "        print('You guessed right')\n",
    "        break\n",
    "\n",
    "    if i == (max_guesses-1):\n",
    "        print('You have run out of guesses')\n"
   ]
  },
  {
   "cell_type": "code",
   "execution_count": null,
   "id": "ef398d61-17ee-48cb-ad05-1f6440b44494",
   "metadata": {},
   "outputs": [],
   "source": []
  }
 ],
 "metadata": {
  "kernelspec": {
   "display_name": "Python 3 (ipykernel)",
   "language": "python",
   "name": "python3"
  },
  "language_info": {
   "codemirror_mode": {
    "name": "ipython",
    "version": 3
   },
   "file_extension": ".py",
   "mimetype": "text/x-python",
   "name": "python",
   "nbconvert_exporter": "python",
   "pygments_lexer": "ipython3",
   "version": "3.10.13"
  }
 },
 "nbformat": 4,
 "nbformat_minor": 5
}
