{
 "cells": [
  {
   "cell_type": "markdown",
   "id": "0748ad44-4ba3-4d8b-8941-2d334b45ded6",
   "metadata": {},
   "source": [
    "# Coding Activity 4\n",
    "\n",
    "For this activity you'll be putting all the functions you've written so far into a single file so that you can easily use them in your project."
   ]
  },
  {
   "cell_type": "markdown",
   "id": "7fe36b78-97fd-4981-a531-badf4790e1c6",
   "metadata": {},
   "source": [
    "## Assignment Details"
   ]
  },
  {
   "cell_type": "markdown",
   "id": "21bafe69-b4e6-40ad-909e-86e0a6c34466",
   "metadata": {
    "jp-MarkdownHeadingCollapsed": true
   },
   "source": [
    "### Motivation\n",
    "\n",
    "The goal of this assignment is to have you build your own python *module* with all of your probability functions. This a way to build your own library of python functions that can easily be re-used in different notebooks.\n",
    "\n",
    "### Expectations\n",
    "Your code must meet the required conditions.\n",
    "\n",
    "* Create a .py file named `probability_functions.py`\n",
    "* Collect all functions written so far into this single file. Be sure to import any needed libraries at the top of this file.\n",
    "* Answer the questions given below to test your code.\n",
    "\n",
    "\n",
    "### Activity Assessment\n",
    "\n",
    "This coding assignment will be graded on completion and effort.\n",
    "\n",
    "In order to recieve full points, you will need to submit your notebook file, and your .py file.\n",
    "\n",
    "### Activity Submission\n",
    "\n",
    "You'll work on this assignment during class. The assignment will be open until the end of the week if you need more time to complete it.\n",
    "\n",
    "Please add your last name to the end of your file name. For example mine woud be named\n",
    "\n",
    "`CA-04_DePiero.ipynb`\n",
    "\n",
    "Once your file is properly named, upload your `.ipynb` and `.py` files to the assignment in Moodle. "
   ]
  },
  {
   "cell_type": "markdown",
   "id": "bea25477-9176-46f9-b4bd-8923efa1fd7c",
   "metadata": {},
   "source": [
    "# Building a Python Module\n",
    "\n"
   ]
  },
  {
   "cell_type": "code",
   "execution_count": 13,
   "id": "4361828a-6244-4cdd-a952-175c8f679b1e",
   "metadata": {},
   "outputs": [],
   "source": [
    "## import your module by uncommenting the line below\n",
    "import probability_functions as pf"
   ]
  },
  {
   "cell_type": "markdown",
   "id": "b855841c-ad6e-4ada-ac5a-b7e6a99369aa",
   "metadata": {},
   "source": [
    "## Test Your Module\n",
    "\n",
    "Test your module by answering the questions below. Note that you may need to write a function or two from existing code we have seen in this class(for example, we did not write functions for everything in the Lecture 3.1, namely permutations)"
   ]
  },
  {
   "cell_type": "markdown",
   "id": "7f6a00fa-827f-4478-bd13-117848d40f0e",
   "metadata": {},
   "source": [
    "#### Question 1\n",
    "\n",
    "An American roulette wheel has 38 slots: two slots are numbered 0 and 00, and the remaining slots are numbered from 1 to 36. Find the probability that the ball lands in an odd-numbered slot, not including 0 or 00."
   ]
  },
  {
   "cell_type": "code",
   "execution_count": 14,
   "id": "44a19a13-db95-46fe-9c0a-50edef094a91",
   "metadata": {},
   "outputs": [
    {
     "data": {
      "text/plain": [
       "0.47368421052631576"
      ]
     },
     "execution_count": 14,
     "metadata": {},
     "output_type": "execute_result"
    }
   ],
   "source": [
    "num_event_outcomes = 18\n",
    "total_outcomes = 38\n",
    "\n",
    "pf.basic_probability(num_event_outcomes, total_outcomes)"
   ]
  },
  {
   "cell_type": "markdown",
   "id": "7df16c55-75b8-45d8-b533-a22e0b023f3e",
   "metadata": {},
   "source": [
    "#### Question 2\n",
    "\n",
    "A die is rolled twice. What is the probability of showing a 1 on the first roll and an even number on the second roll?"
   ]
  },
  {
   "cell_type": "code",
   "execution_count": 15,
   "id": "709362cd-b05f-4bc8-9add-0a9114373b6e",
   "metadata": {},
   "outputs": [
    {
     "data": {
      "text/plain": [
       "0.08333333333333333"
      ]
     },
     "execution_count": 15,
     "metadata": {},
     "output_type": "execute_result"
    }
   ],
   "source": [
    "probability_A = 1/6\n",
    "probability_B = 3/6\n",
    "pf.probability_both_A_B(probability_A, probability_B)"
   ]
  },
  {
   "cell_type": "markdown",
   "id": "170b1d25-a5c4-40fe-ae01-c91bd7bb130f",
   "metadata": {},
   "source": [
    "#### Question 3\n",
    "\n",
    "Suppose you roll a special 12-sided die. What is the probability that the number rolled is a \"1\" OR a \"2\"?"
   ]
  },
  {
   "cell_type": "code",
   "execution_count": 19,
   "id": "a92cd252-338f-48b6-9b99-e2e9f011c3ee",
   "metadata": {},
   "outputs": [
    {
     "data": {
      "text/plain": [
       "0.1111111111111111"
      ]
     },
     "execution_count": 19,
     "metadata": {},
     "output_type": "execute_result"
    }
   ],
   "source": [
    "pf.basic_probability(2,18)"
   ]
  },
  {
   "cell_type": "markdown",
   "id": "832cb6c2-8d04-4020-bbd6-687c52d70526",
   "metadata": {},
   "source": [
    "#### Question 4\n",
    "\n",
    "A card is drawn randomly from a standard 52-card deck. What is the probability that the card is NOT a face card?"
   ]
  },
  {
   "cell_type": "code",
   "execution_count": 20,
   "id": "12dbb5df-2a3c-401e-be9e-942ee6f01d09",
   "metadata": {},
   "outputs": [
    {
     "data": {
      "text/plain": [
       "0.7692307692307692"
      ]
     },
     "execution_count": 20,
     "metadata": {},
     "output_type": "execute_result"
    }
   ],
   "source": [
    "num_event_outcomes = 12 # number of face cards in deck\n",
    "total_outcomes = 52\n",
    "\n",
    "pf.complement_probability(num_event_outcomes, total_outcomes)"
   ]
  },
  {
   "cell_type": "markdown",
   "id": "4d918ee7-c3f7-4144-a6b8-496489c8e729",
   "metadata": {},
   "source": [
    "#### Question 5\n",
    "\n",
    "A boy owns 7 pairs of pants, 2 shirts, 8 ties, and 5 jackets. How many different outfits can he wear to school if he must wear one of each item?"
   ]
  },
  {
   "cell_type": "code",
   "execution_count": 21,
   "id": "13e8ca5a-5240-46d9-9722-5ab83ddc13e2",
   "metadata": {},
   "outputs": [
    {
     "data": {
      "text/plain": [
       "560"
      ]
     },
     "execution_count": 21,
     "metadata": {},
     "output_type": "execute_result"
    }
   ],
   "source": [
    "# this function was written to take a list of options\n",
    "pf.basic_counting([7,2,8,5])"
   ]
  },
  {
   "cell_type": "markdown",
   "id": "b39f821d-e851-4115-ae11-1bfb3d370a2b",
   "metadata": {},
   "source": [
    "#### Question 6\n",
    "\n",
    "How many different 4 card hands can be dealt from a deck of 52 cards?"
   ]
  },
  {
   "cell_type": "code",
   "execution_count": 23,
   "id": "019ae43c-2b1a-4e2c-8533-3fdb6606e608",
   "metadata": {},
   "outputs": [
    {
     "data": {
      "text/plain": [
       "6497400.0"
      ]
     },
     "execution_count": 23,
     "metadata": {},
     "output_type": "execute_result"
    }
   ],
   "source": [
    "# here order matters, since cards are removed from deck when hand is dealt\n",
    "num_choices = 52\n",
    "set_size = 4\n",
    "\n",
    "pf.permutations(num_choices, set_size)"
   ]
  },
  {
   "cell_type": "markdown",
   "id": "b2963ed1-291a-437c-9f3e-2eca4d65adcb",
   "metadata": {},
   "source": [
    "#### Question 7\n",
    "\n",
    "How many three-letter \"words\" can be made from 7 letters \"FGHIJKL\" if \n",
    "* repetition of letters is allowed?\n",
    "* repetition of letters is not allowed?"
   ]
  },
  {
   "cell_type": "code",
   "execution_count": 27,
   "id": "0592a110-c31c-4da8-aee5-2a8af584814c",
   "metadata": {},
   "outputs": [
    {
     "name": "stdout",
     "output_type": "stream",
     "text": [
      "repetition allowed:  343\n",
      "repetition not allowed:  210.0\n"
     ]
    }
   ],
   "source": [
    "num_choices = 7 # number of letters\n",
    "set_size = 3 # length of word\n",
    "\n",
    "# repetition allowed - basic counting - 7 possible options for each letter\n",
    "print('repetition allowed: ', pf.basic_counting([num_choices, num_choices, num_choices]))\n",
    "\n",
    "# repetition not allowed - permutations - order matters\n",
    "print('repetition not allowed: ', pf.permutations(num_choices, set_size))"
   ]
  },
  {
   "cell_type": "code",
   "execution_count": null,
   "id": "0f184823-b769-4013-b6c1-5f4f0f4295db",
   "metadata": {},
   "outputs": [],
   "source": []
  },
  {
   "cell_type": "markdown",
   "id": "b833caca-389b-439e-ad42-25f98183034d",
   "metadata": {},
   "source": [
    "#### Question 8\n",
    "\n",
    "Kyd and North are playing a game. Kyd selects one card from a standard 52-card deck. If Kyd selects a face card (Jack, Queen, or King), North pays him $\\$4$. If Kyd selects any other type of card, he pays North $\\$ 3$.\n",
    "\n",
    "* What is Kyd's expected value for this game? Round your answer to the nearest cent.\n",
    "* What is North's expected value for this game? Round your answer to the nearest cent"
   ]
  },
  {
   "cell_type": "code",
   "execution_count": 29,
   "id": "7e69ed80-361a-4d77-90b7-cc7fa419e602",
   "metadata": {},
   "outputs": [
    {
     "name": "stdout",
     "output_type": "stream",
     "text": [
      "Expected value for Kyd:  -1.3846153846153848\n",
      "Expected value for North:  1.3846153846153848\n"
     ]
    }
   ],
   "source": [
    "probabilities = [12/52, 40/52]\n",
    "values_kyd = [4, -3]\n",
    "values_north = [-4, 3]\n",
    "\n",
    "\n",
    "print('Expected value for Kyd: ', pf.expected_value(values_kyd, probabilities) )\n",
    "print('Expected value for North: ', pf.expected_value(values_north, probabilities) )"
   ]
  },
  {
   "cell_type": "code",
   "execution_count": 28,
   "id": "d88f0954-160f-4585-b657-8cd26a3c5af9",
   "metadata": {},
   "outputs": [
    {
     "data": {
      "text/plain": [
       "40"
      ]
     },
     "execution_count": 28,
     "metadata": {},
     "output_type": "execute_result"
    }
   ],
   "source": []
  },
  {
   "cell_type": "code",
   "execution_count": null,
   "id": "0ceaea74-a4f3-418f-894a-96fec528b06b",
   "metadata": {},
   "outputs": [],
   "source": []
  }
 ],
 "metadata": {
  "kernelspec": {
   "display_name": "Python 3 (ipykernel)",
   "language": "python",
   "name": "python3"
  },
  "language_info": {
   "codemirror_mode": {
    "name": "ipython",
    "version": 3
   },
   "file_extension": ".py",
   "mimetype": "text/x-python",
   "name": "python",
   "nbconvert_exporter": "python",
   "pygments_lexer": "ipython3",
   "version": "3.10.13"
  }
 },
 "nbformat": 4,
 "nbformat_minor": 5
}
