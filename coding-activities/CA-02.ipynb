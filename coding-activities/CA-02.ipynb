{
 "cells": [
  {
   "cell_type": "markdown",
   "id": "0748ad44-4ba3-4d8b-8941-2d334b45ded6",
   "metadata": {},
   "source": [
    "# Coding Activity 2\n",
    "\n",
    "For this assignment you will create a collection of functions that calculate probabilities."
   ]
  },
  {
   "cell_type": "markdown",
   "id": "7fe36b78-97fd-4981-a531-badf4790e1c6",
   "metadata": {
    "jp-MarkdownHeadingCollapsed": true
   },
   "source": [
    "## Assignment Details"
   ]
  },
  {
   "cell_type": "markdown",
   "id": "21bafe69-b4e6-40ad-909e-86e0a6c34466",
   "metadata": {
    "jp-MarkdownHeadingCollapsed": true
   },
   "source": [
    "### Motivation\n",
    "\n",
    "The goal of this assignment is to have you working with functions to understand how to simplify your code and avoid repeating yourself via copy and pasting code.\n",
    "\n",
    "### Expectations\n",
    "Your code must meet the required conditions.\n",
    "\n",
    "* Write all of your function definitions in a single code cell.\n",
    "* Write definitions for each of the 5 calculations defined in lecture 2.1.\n",
    "* Include code that demonstrates you testing the output of your function definitions. Using the examples from the lecture notes are a good start as you know the output you should expect. \n",
    "\n",
    "### Recommendations & Reminders\n",
    "\n",
    "* Talk through your code with your classmates, outline the logic you think you'll use before writing any code.\n",
    "\n",
    "### Activity Assessment\n",
    "\n",
    "This coding assignment will be graded on effort alone. That means it's okay if it doesn't completely work to get full credit. Just attempt something and be sure that you're asking questions so that you can get it as far as possible in the available time.\n",
    "\n",
    "You will get full points even if your code does not work or you do not finish, as long as you have attempted meeting the expectations listed above.\n",
    "\n",
    "### Activity Submission\n",
    "\n",
    "You'll have until the end of class time today to do this assignment. You will submit what you have, regardless of whether it is complete or not.\n",
    "\n",
    "Please add your last name to the end of your file name. For example mine woud be named\n",
    "\n",
    "`CA-02_DePiero.ipynb`\n",
    "\n",
    "Once your file is properly named, upload your .ipynb file to the assignment in Moodle. "
   ]
  },
  {
   "cell_type": "markdown",
   "id": "bea25477-9176-46f9-b4bd-8923efa1fd7c",
   "metadata": {},
   "source": [
    "# Probability Function Module\n",
    "\n",
    "The start of your code is given below. You should write all of your code in the single code cell below."
   ]
  },
  {
   "cell_type": "code",
   "execution_count": 1,
   "id": "4361828a-6244-4cdd-a952-175c8f679b1e",
   "metadata": {},
   "outputs": [],
   "source": [
    "# write all of your function definitions in this cell\n"
   ]
  },
  {
   "cell_type": "code",
   "execution_count": 2,
   "id": "61abfe3f-c112-4267-baa6-31157588a3f4",
   "metadata": {},
   "outputs": [],
   "source": [
    "## write your test cases in the cells below (add more if you need them)\n",
    "\n"
   ]
  },
  {
   "cell_type": "code",
   "execution_count": null,
   "id": "ad0ebc37-d4ba-44bd-b0df-461deec05e86",
   "metadata": {},
   "outputs": [],
   "source": []
  },
  {
   "cell_type": "code",
   "execution_count": null,
   "id": "019ae43c-2b1a-4e2c-8533-3fdb6606e608",
   "metadata": {},
   "outputs": [],
   "source": []
  },
  {
   "cell_type": "code",
   "execution_count": null,
   "id": "d88f0954-160f-4585-b657-8cd26a3c5af9",
   "metadata": {},
   "outputs": [],
   "source": []
  }
 ],
 "metadata": {
  "kernelspec": {
   "display_name": "Python 3 (ipykernel)",
   "language": "python",
   "name": "python3"
  },
  "language_info": {
   "codemirror_mode": {
    "name": "ipython",
    "version": 3
   },
   "file_extension": ".py",
   "mimetype": "text/x-python",
   "name": "python",
   "nbconvert_exporter": "python",
   "pygments_lexer": "ipython3",
   "version": "3.10.13"
  }
 },
 "nbformat": 4,
 "nbformat_minor": 5
}
