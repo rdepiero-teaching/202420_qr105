{
 "cells": [
  {
   "cell_type": "markdown",
   "id": "0748ad44-4ba3-4d8b-8941-2d334b45ded6",
   "metadata": {},
   "source": [
    "# Coding Activity 3\n",
    "\n",
    "For this activity, we're going to try out CodeWars.\n",
    "\n",
    "CodeWars is site that makes it fun to practice your coding skills. When you make an account it will ask you some questions about languages and level of knowledge. You receive a rank *kyu* according to your skill level. To up your level, you complete *kata*, which are small coding activities.\n",
    "\n",
    "Each kata has a series of automated tests that will check the validity of your code."
   ]
  },
  {
   "cell_type": "markdown",
   "id": "7fe36b78-97fd-4981-a531-badf4790e1c6",
   "metadata": {},
   "source": [
    "## Assignment Details"
   ]
  },
  {
   "cell_type": "markdown",
   "id": "21bafe69-b4e6-40ad-909e-86e0a6c34466",
   "metadata": {
    "jp-MarkdownHeadingCollapsed": true
   },
   "source": [
    "### Motivation\n",
    "\n",
    "The goal of this assignment is to have you gain some additional coding practice and expose you to a 'gamefication' method of learning. You can read about this approach in [this article](https://www.codewars.com/post/codewars-practice-coding-with-active-learning)\n",
    "\n",
    "### Expectations\n",
    "You will\n",
    "1. [make an account](https://www.codewars.com/join). Note that you can connect to your GitHub account.\n",
    "2. Attempt to complete 1 kata.\n",
    "3. Use this notebook to try out some things. You may need to learn something new that we haven't discussed yet in class. Running some sample code is a good way to test stuff out, see how it works, and then think about how you can solve the kata.\n",
    "\n",
    "* Talk through your code with your classmates, outline the logic you think you'll use before writing any code.\n",
    "\n",
    "### Activity Assessment\n",
    "\n",
    "This coding assignment will be graded on effort alone. That means it's okay if it doesn't completely work to get full credit. Just attempt something and be sure that you're asking questions so that you can get it as far as possible in the available time.\n",
    "\n",
    "You will get full points even if your code does not work or you do not finish, as long as you have attempted meeting the expectations listed above.\n",
    "\n",
    "### Activity Submission\n",
    "\n",
    "You'll have until the end of class time today to do this assignment. You will submit 2 files.\n",
    "* a screenshot of an attempt at a kata (or showing your success!)\n",
    "* this notebook demonstrating you tried some things first.\n",
    "\n",
    "Please add your last name to the end of your file name. For example mine woud be named\n",
    "\n",
    "`CA-03_DePiero.ipynb`\n",
    "\n",
    "Once your file is properly named, upload your .ipynb file and your screenshot to the assignment in Moodle. "
   ]
  },
  {
   "cell_type": "markdown",
   "id": "bea25477-9176-46f9-b4bd-8923efa1fd7c",
   "metadata": {},
   "source": [
    "# Kata Testing & Experimentation\n",
    "\n",
    "Use the code cells below to try stuff out before you try to put your function together to solve the problem given.\n"
   ]
  },
  {
   "cell_type": "markdown",
   "id": "e369b16f-4828-4ea3-88b8-09b30437996d",
   "metadata": {},
   "source": [
    "Test code while working through [this kata](https://www.codewars.com/kata/52742f58faf5485cae000b9a/train/python)"
   ]
  },
  {
   "cell_type": "code",
   "execution_count": 35,
   "id": "4361828a-6244-4cdd-a952-175c8f679b1e",
   "metadata": {},
   "outputs": [
    {
     "name": "stdout",
     "output_type": "stream",
     "text": [
      "{'year': 31536000, 'day': 86400, 'hour': 3600, 'minute': 60, 'second': 1}\n"
     ]
    }
   ],
   "source": [
    "\n",
    "unit_names = ['year', 'day', 'hour', 'minute', 'second']\n",
    "\n",
    "# calculate units\n",
    "second = 1\n",
    "minute = second * 60\n",
    "hour = minute * 60\n",
    "day = hour * 24\n",
    "year = day * 365\n",
    "\n",
    "unit_values = [year, day, hour, minute, second]\n",
    "\n",
    "# create dictionary to lookup values later\n",
    "key_value_pairs = zip(unit_names, unit_values)\n",
    "units = dict(key_value_pairs)\n",
    "\n",
    "print(units)\n",
    "\n",
    "# for unit in units:\n",
    "#     print(unit)"
   ]
  },
  {
   "cell_type": "code",
   "execution_count": 55,
   "id": "8e4f08db-9858-45eb-82ad-c2dadaf9baa3",
   "metadata": {},
   "outputs": [
    {
     "name": "stdout",
     "output_type": "stream",
     "text": [
      "Years\n",
      "floor : 0\n",
      "mod : 15731080\n",
      "0 years\n",
      "Days\n",
      "floor : 182\n",
      "mod : 6280\n",
      "182 days\n",
      "floor : 1\n",
      "mod : 2680\n",
      "1 hours\n",
      "floor : 44\n",
      "mod : 40\n",
      "44 minutes\n",
      "floor : 40\n",
      "mod : 0\n",
      "40 seconds\n"
     ]
    }
   ],
   "source": [
    "\n",
    "## brute force test to recognize pattern\n",
    "\n",
    "duration = 15731080 # solution: \"182 days, 1 hour, 44 minutes and 40 seconds\"\n",
    "# duration = 3662 # solution:  \"1 hour, 1 minute and 2 seconds\n",
    "\n",
    "duration % units['day']\n",
    "\n",
    "\n",
    "years = duration // units['year']\n",
    "remainder = duration % units['year']\n",
    "\n",
    "print('Years')\n",
    "print(f'floor : {years}')\n",
    "print(f'mod : {remainder}')\n",
    "print(f'{years} years')\n",
    "\n",
    "\n",
    "days = duration // units['day']\n",
    "remainder = duration % units['day']\n",
    "\n",
    "print('Days')\n",
    "print(f'floor : {days}')\n",
    "print(f'mod : {remainder}')\n",
    "print(f'{days} days')\n",
    "\n",
    "hours = remainder // units['hour']\n",
    "remainder = remainder % units['hour']\n",
    "print(f'floor : {hours}')\n",
    "print(f'mod : {remainder}')\n",
    "print(f'{hours} hours')\n",
    "\n",
    "minutes = remainder // units['minute']\n",
    "remainder = remainder % units['minute']\n",
    "print(f'floor : {minutes}')\n",
    "print(f'mod : {remainder}')\n",
    "print(f'{minutes} minutes')\n",
    "\n",
    "seconds = remainder // units['second']\n",
    "remainder = remainder % units['second']\n",
    "print(f'floor : {seconds}')\n",
    "print(f'mod : {remainder}')\n",
    "print(f'{seconds} seconds')\n"
   ]
  },
  {
   "cell_type": "code",
   "execution_count": 45,
   "id": "11f2dfc4-6a74-4c77-8ef9-b9cc618df614",
   "metadata": {},
   "outputs": [
    {
     "name": "stdout",
     "output_type": "stream",
     "text": [
      "{'year': None, 'day': None, 'hour': None, 'minute': None, 'second': None}\n"
     ]
    }
   ],
   "source": [
    "## create dictionary with unit names and None for values\n",
    "component = dict( zip(unit_names, [None]*len(unit_names) ) )\n",
    "print(component)"
   ]
  },
  {
   "cell_type": "code",
   "execution_count": 181,
   "id": "69036fa8-a7a0-4f7a-a67c-5b6bdceaa520",
   "metadata": {},
   "outputs": [
    {
     "name": "stdout",
     "output_type": "stream",
     "text": [
      "{'day': 182, 'hour': 1, 'minute': 44, 'second': 40}\n",
      "182 days, 1 hour, 44 minutes, and 40 seconds\n"
     ]
    }
   ],
   "source": [
    "duration = 15731080 # solution: \"182 days, 1 hour, 44 minutes and 40 seconds\"\n",
    "\n",
    "\n",
    "\n",
    "if duration == 0:\n",
    "    print('now')\n",
    "\n",
    "else:\n",
    "    remainder = duration\n",
    "    \n",
    "    for key in component:\n",
    "        component[key] = remainder // units[key]\n",
    "        remainder = remainder % units[key]\n",
    "    \n",
    "    comp = {}\n",
    "    \n",
    "    for key, value in component.items():\n",
    "        if value != 0:\n",
    "            comp[key] = value\n",
    "    \n",
    "    print(print_dict)\n",
    "    \n",
    "    # now figure out printing\n",
    "        \n",
    "    text = ''\n",
    "    \n",
    "    last_key = list(comp)[-1]\n",
    "    \n",
    "    for key in comp:\n",
    "    \n",
    "        comp_string =  f'{str(comp[key])} {key}{\"s\" if comp[key] != 1 else \"\"}'\n",
    "    \n",
    "        if key == last_key and len(comp) != 1:\n",
    "            text += 'and ' + comp_string\n",
    "        else:\n",
    "             text += comp_string + ', '\n",
    "            \n",
    "    print(text)      \n"
   ]
  },
  {
   "cell_type": "code",
   "execution_count": 81,
   "id": "ab46cee8-cde7-4921-b62f-c2bd61376e64",
   "metadata": {},
   "outputs": [
    {
     "data": {
      "text/plain": [
       "'minute'"
      ]
     },
     "execution_count": 81,
     "metadata": {},
     "output_type": "execute_result"
    }
   ],
   "source": [
    "\n",
    "component.keys()\n",
    "\n",
    "list(component)[-2]"
   ]
  },
  {
   "cell_type": "code",
   "execution_count": 104,
   "id": "6debf5b0-e412-4993-9f61-7580708173f6",
   "metadata": {},
   "outputs": [
    {
     "data": {
      "text/plain": [
       "4"
      ]
     },
     "execution_count": 104,
     "metadata": {},
     "output_type": "execute_result"
    }
   ],
   "source": [
    "len(comp)"
   ]
  },
  {
   "cell_type": "code",
   "execution_count": 183,
   "id": "e7f7c9f2-1574-45db-a6cc-6616ffbc7a95",
   "metadata": {},
   "outputs": [],
   "source": [
    "## check function\n",
    "\n",
    "seconds = 3662 # solution: \"182 days, 1 hour, 44 minutes and 40 seconds\"\n",
    "\n",
    "def format_duration(seconds):\n",
    "\n",
    "    unit_names = ['year', 'day', 'hour', 'minute', 'second']\n",
    "    \n",
    "    # calculate units\n",
    "    second = 1\n",
    "    minute = second * 60\n",
    "    hour = minute * 60\n",
    "    day = hour * 24\n",
    "    year = day * 365\n",
    "    \n",
    "    unit_values = [year, day, hour, minute, second]\n",
    "    \n",
    "    # create dictionary to lookup values later\n",
    "    key_value_pairs = zip(unit_names, unit_values)\n",
    "    units = dict(key_value_pairs)\n",
    "    \n",
    "    ## create dictionary with unit names and None for values\n",
    "    component = dict( zip(unit_names, [None]*len(unit_names) ) )\n",
    "\n",
    "    text = ''\n",
    "    \n",
    "    if seconds == 0:\n",
    "        text = 'now'\n",
    "    \n",
    "    else:\n",
    "        remainder = seconds\n",
    "        \n",
    "        for key in component:\n",
    "            component[key] = remainder // units[key]\n",
    "            remainder = remainder % units[key]\n",
    "        \n",
    "        comp = {}\n",
    "        \n",
    "        for key, value in component.items():\n",
    "            if value != 0:\n",
    "                comp[key] = value\n",
    "    \n",
    "        print(comp)\n",
    "        \n",
    "        # now figure out printing\n",
    "        last_key = list(comp)[-1]\n",
    "        \n",
    "        for key in comp:\n",
    "        \n",
    "            comp_string =  f'{str(comp[key])} {key}{\"s\" if comp[key] != 1 else \"\"}'\n",
    "    \n",
    "            if len(comp) == 1:\n",
    "                text = comp_string\n",
    "                break\n",
    "            if key == list(comp)[-2]:\n",
    "                text += comp_string + ' and '\n",
    "            elif key == list(comp)[-1]:\n",
    "                text += comp_string\n",
    "            else:\n",
    "                 text += comp_string + ', '\n",
    "            \n",
    "    return text"
   ]
  },
  {
   "cell_type": "code",
   "execution_count": 171,
   "id": "8bca428e-d353-4629-b9b3-607baf8b94b8",
   "metadata": {},
   "outputs": [
    {
     "data": {
      "text/plain": [
       "'minute'"
      ]
     },
     "execution_count": 171,
     "metadata": {},
     "output_type": "execute_result"
    }
   ],
   "source": []
  },
  {
   "cell_type": "markdown",
   "id": "c1c3286a-cfe9-41d4-ab52-6160690e476a",
   "metadata": {},
   "source": [
    "### Checking stuff\n",
    "\n",
    "\n",
    "\n",
    "\n",
    "\n"
   ]
  },
  {
   "cell_type": "code",
   "execution_count": 15,
   "id": "7562af15-72d5-4fe1-9543-a1a4744cf741",
   "metadata": {},
   "outputs": [
    {
     "data": {
      "text/plain": [
       "['year', 'day', 'hour', 'minute', 'second']"
      ]
     },
     "execution_count": 15,
     "metadata": {},
     "output_type": "execute_result"
    }
   ],
   "source": [
    "units"
   ]
  },
  {
   "cell_type": "code",
   "execution_count": 12,
   "id": "61abfe3f-c112-4267-baa6-31157588a3f4",
   "metadata": {},
   "outputs": [
    {
     "name": "stdout",
     "output_type": "stream",
     "text": [
      "floor : 182\n",
      "mod : 6280\n"
     ]
    }
   ],
   "source": [
    "test % day\n",
    "\n",
    "print(f'floor : {test//day}')\n",
    "print(f'mod : {test % day}')"
   ]
  },
  {
   "cell_type": "raw",
   "id": "dd20dac8-838b-470e-917f-f7ddcf70c195",
   "metadata": {},
   "source": []
  },
  {
   "cell_type": "code",
   "execution_count": null,
   "id": "019ae43c-2b1a-4e2c-8533-3fdb6606e608",
   "metadata": {},
   "outputs": [],
   "source": []
  },
  {
   "cell_type": "code",
   "execution_count": 38,
   "id": "d88f0954-160f-4585-b657-8cd26a3c5af9",
   "metadata": {},
   "outputs": [
    {
     "name": "stdout",
     "output_type": "stream",
     "text": [
      "{'name': 'John', 'age': 36, 'country': 'Norway'}\n"
     ]
    }
   ],
   "source": [
    "thisdict = dict(name = \"John\", age = 36, country = \"Norway\")\n",
    "print(thisdict)"
   ]
  },
  {
   "cell_type": "code",
   "execution_count": 39,
   "id": "d8a9b977-7233-40b3-9b87-812966fded2c",
   "metadata": {},
   "outputs": [
    {
     "data": {
      "text/plain": [
       "[None, None, None, None, None, None]"
      ]
     },
     "execution_count": 39,
     "metadata": {},
     "output_type": "execute_result"
    }
   ],
   "source": [
    "[None]*6"
   ]
  },
  {
   "cell_type": "code",
   "execution_count": null,
   "id": "716dbf6e-530b-4533-ac2b-db9d95d88551",
   "metadata": {},
   "outputs": [],
   "source": []
  },
  {
   "cell_type": "code",
   "execution_count": null,
   "id": "0ad7b6e5-124c-4c0a-8c68-705c682d0825",
   "metadata": {},
   "outputs": [],
   "source": []
  }
 ],
 "metadata": {
  "kernelspec": {
   "display_name": "Python 3 (ipykernel)",
   "language": "python",
   "name": "python3"
  },
  "language_info": {
   "codemirror_mode": {
    "name": "ipython",
    "version": 3
   },
   "file_extension": ".py",
   "mimetype": "text/x-python",
   "name": "python",
   "nbconvert_exporter": "python",
   "pygments_lexer": "ipython3",
   "version": "3.10.13"
  }
 },
 "nbformat": 4,
 "nbformat_minor": 5
}
