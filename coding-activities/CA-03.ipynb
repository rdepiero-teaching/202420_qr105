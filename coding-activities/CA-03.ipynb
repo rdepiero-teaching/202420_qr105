{
 "cells": [
  {
   "cell_type": "markdown",
   "id": "0748ad44-4ba3-4d8b-8941-2d334b45ded6",
   "metadata": {},
   "source": [
    "# Coding Activity 3\n",
    "\n",
    "For this activity, we're going to try out CodeWars.\n",
    "\n",
    "CodeWars is site that makes it fun to practice your coding skills. When you make an account it will ask you some questions about languages and level of knowledge. You receive a rank *kyu* according to your skill level. To up your level, you complete *kata*, which are small coding activities.\n",
    "\n",
    "Each kata has a series of automated tests that will check the validity of your code."
   ]
  },
  {
   "cell_type": "markdown",
   "id": "7fe36b78-97fd-4981-a531-badf4790e1c6",
   "metadata": {},
   "source": [
    "## Assignment Details"
   ]
  },
  {
   "cell_type": "markdown",
   "id": "21bafe69-b4e6-40ad-909e-86e0a6c34466",
   "metadata": {
    "jp-MarkdownHeadingCollapsed": true
   },
   "source": [
    "### Motivation\n",
    "\n",
    "The goal of this assignment is to have you gain some additional coding practice and expose you to a 'gamefication' method of learning. You can read about this approach in [this article](https://www.codewars.com/post/codewars-practice-coding-with-active-learning)\n",
    "\n",
    "### Expectations\n",
    "You will\n",
    "1. [make an account](https://www.codewars.com/join). Note that you can connect to your GitHub account.\n",
    "2. Attempt to complete 1 kata.\n",
    "3. Use this notebook to try out some things. You may need to learn something new that we haven't discussed yet in class. Running some sample code is a good way to test stuff out, see how it works, and then think about how you can solve the kata.\n",
    "\n",
    "* Talk through your code with your classmates, outline the logic you think you'll use before writing any code.\n",
    "\n",
    "### Activity Assessment\n",
    "\n",
    "This coding assignment will be graded on effort alone. That means it's okay if it doesn't completely work to get full credit. Just attempt something and be sure that you're asking questions so that you can get it as far as possible in the available time.\n",
    "\n",
    "You will get full points even if your code does not work or you do not finish, as long as you have attempted meeting the expectations listed above.\n",
    "\n",
    "### Activity Submission\n",
    "\n",
    "You'll have until the end of class time today to do this assignment. You will submit 2 files.\n",
    "* a screenshot of an attempt at a kata (or showing your success!)\n",
    "* this notebook demonstrating you tried some things first.\n",
    "\n",
    "Please add your last name to the end of your file name. For example mine woud be named\n",
    "\n",
    "`CA-03_DePiero.ipynb`\n",
    "\n",
    "Once your file is properly named, upload your .ipynb file and your screenshot to the assignment in Moodle. "
   ]
  },
  {
   "cell_type": "markdown",
   "id": "bea25477-9176-46f9-b4bd-8923efa1fd7c",
   "metadata": {},
   "source": [
    "# Kata Testing & Experimentation\n",
    "\n",
    "Use the code cells below to try stuff out before you try to put your function together to solve the problem given.\n"
   ]
  },
  {
   "cell_type": "code",
   "execution_count": 1,
   "id": "4361828a-6244-4cdd-a952-175c8f679b1e",
   "metadata": {},
   "outputs": [
    {
     "data": {
      "text/plain": [
       "'True'"
      ]
     },
     "execution_count": 1,
     "metadata": {},
     "output_type": "execute_result"
    }
   ],
   "source": [
    "str(True)"
   ]
  },
  {
   "cell_type": "code",
   "execution_count": 2,
   "id": "61abfe3f-c112-4267-baa6-31157588a3f4",
   "metadata": {},
   "outputs": [
    {
     "data": {
      "text/plain": [
       "'False'"
      ]
     },
     "execution_count": 2,
     "metadata": {},
     "output_type": "execute_result"
    }
   ],
   "source": [
    "str(False)\n",
    "\n"
   ]
  },
  {
   "cell_type": "code",
   "execution_count": null,
   "id": "ad0ebc37-d4ba-44bd-b0df-461deec05e86",
   "metadata": {},
   "outputs": [],
   "source": []
  },
  {
   "cell_type": "code",
   "execution_count": null,
   "id": "019ae43c-2b1a-4e2c-8533-3fdb6606e608",
   "metadata": {},
   "outputs": [],
   "source": []
  },
  {
   "cell_type": "code",
   "execution_count": null,
   "id": "d88f0954-160f-4585-b657-8cd26a3c5af9",
   "metadata": {},
   "outputs": [],
   "source": []
  }
 ],
 "metadata": {
  "kernelspec": {
   "display_name": "Python 3 (ipykernel)",
   "language": "python",
   "name": "python3"
  },
  "language_info": {
   "codemirror_mode": {
    "name": "ipython",
    "version": 3
   },
   "file_extension": ".py",
   "mimetype": "text/x-python",
   "name": "python",
   "nbconvert_exporter": "python",
   "pygments_lexer": "ipython3",
   "version": "3.10.13"
  }
 },
 "nbformat": 4,
 "nbformat_minor": 5
}
