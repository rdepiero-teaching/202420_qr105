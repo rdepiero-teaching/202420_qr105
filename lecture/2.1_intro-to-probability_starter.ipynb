{
 "cells": [
  {
   "cell_type": "markdown",
   "id": "c486fe84-bb3c-4fb1-82f4-dcbda4097c95",
   "metadata": {
    "tags": []
   },
   "source": [
    "# 2.1 Introduction to Probability\n",
    "\n",
    "\n",
    "## Introduction\n",
    "We'll start with some definitions.\n",
    "\n",
    "> The **probability** of a specified event is the chance or likelihood that it will occur.\n",
    "\n",
    "There are several ways of viewing probability. \n",
    "\n",
    "* **Experimental:** repeatedly conducting an experiment and predicting future outcomes based on past results.\n",
    "* **Subjective:** an educated guess with accuracy that cannot be verified.\n",
    "* **Theoretical:** Suppose we have a situation with $n$ equally-likely possible outcomes, where $m$ of those $n$ outcomes correspond to a particular event, then the probability of that event is $\\frac{m}{n}$.\n",
    "\n",
    "Here we'll deal mostly with theoretical probability. Before we define this in a mathematical sense, we have a few more definitions.\n",
    "\n",
    "> **Outcome**  \n",
    "An outcome is the result of an experiment.\n",
    "\n",
    "\n",
    "> **Event**  \n",
    "An event is any particular outcome or group of outcomes. \n",
    "\n",
    "> **Simple Event**  \n",
    "A simple event is an event that cannot be broken down further.\n",
    "\n",
    "> **Sample Space**  \n",
    "The sample space is the set of all possible simple events.\n",
    "\n",
    "## Basic Probability\n",
    "Now we can get to the way we will define basic probability.\n",
    "\n",
    "> **Basic Probability**  \n",
    "Given that all outcomes are equally likely, we can compute the probability of an event $E$ as\n",
    "$$P(E) = \\frac{\\text{Number of outcomes for the event }E}{\\text{Total number of equally-likely outcomes}} $$\n",
    "---\n",
    "### Example 1\n",
    "\n",
    "Let's talk about a standard 6-sided dice.\n",
    "\n",
    "The *sample space* of (simple) events is $\\{1, 2, 3, 4, 5, 6\\}$  \n",
    "\n",
    "Some non-simple events would be things like \n",
    "\n",
    "* Rolling a number greater than $3$. The sample space is $\\{4, 5, 6\\}$.\n",
    "* Rolling an odd. The sample space is $\\{1, 3, 5\\}$.\n",
    "---\n",
    "\n",
    "The probability of rolling a 1 is given by:\n",
    "$$P(\\text{rolling a } 1) = \\frac{\\text{Number of outcomes for the event }E}{\\text{Total number of equally-likely outcomes}} = \\frac{1}{6}$$\n",
    "\n",
    "We can report this value as a fraction, a decimal, or as a percent, depending on what makes the most sense in the context. \n",
    "\n",
    "\n",
    "Note that an impossible event will have zero probability and event that is guaranteed to happen will have a probability of 1. In other words\n",
    "* Impossible event: $P(E) = 0$\n",
    "* Guaranteed event: $P(E) = 1$\n",
    "\n",
    "This means that the range for the probability of any event is\n",
    "$$ 0 \\leq P(E) \\leq 1 $$\n",
    "\n",
    "### Calculating Basic Probability\n",
    "Now how would we execute this with code? Of course we can just type `1/6` in a code cell and we'll get a decimal result. What if we wanted to calculate another probability? Let's try and do this with some basic variables so that we can easily input values and get a result.\n",
    "\n",
    "> &#128187; **Tech Note**  \n",
    "We'll use some longer variables here so it makes it easier to see what the code is doing. For long variable names, you can make use of `tab` completion. Just start typing the beginning of a variable name and then hit the `tab` key and Jupyter Lab will complete the variable name. If you have several variables that start the same way, a list will pop up asking which you want."
   ]
  },
  {
   "cell_type": "code",
   "execution_count": null,
   "id": "b152a00c-5217-416c-ba06-8b7ca784dc2a",
   "metadata": {
    "tags": []
   },
   "outputs": [],
   "source": [
    "## Calculates the basic probability of an event\n"
   ]
  },
  {
   "cell_type": "markdown",
   "id": "dc2782ee-a3ec-4165-ad0f-9dca938cd991",
   "metadata": {
    "tags": []
   },
   "source": [
    "## Complementary Events\n",
    "\n",
    "Sometimes we want to find the probability that an event won't happen.\n",
    "\n",
    "> **Complement of an Event**  \n",
    "The complement of an event is the event “$E$ doesn’t happen”, notated by $P(\\overline{E})$, and calculated by\n",
    "$$ P(\\overline{E}) = 1 - P(E)$$\n",
    "\n",
    "Note that we also have that $ P(E) = 1 - P(\\overline{E})$."
   ]
  },
  {
   "cell_type": "markdown",
   "id": "12f7b59e-4118-4e8f-a1a4-35acea9988f7",
   "metadata": {},
   "source": [
    "---\n",
    "\n",
    "### Example 2\n",
    "\n",
    "Find the probability that a card is *not* a spade. We'll write out this example first, and then see how we can get this with some code.\n",
    "\n",
    "First we find the probability of drawing a spade\n",
    "$$P(\\text{spade}) = \\frac{13}{54} = \\frac{1}{4}$$\n",
    "\n",
    "and so the probability of not finding a spade is given by the complement, or $P(\\overline{\\text{spade}})$\n",
    "$$P(\\overline{\\text{spade}}) = 1 - \\frac{1}{4} = \\frac{3}{4}$$\n",
    "\n",
    "Now let's see if we can execute this calculation with code. We can modify the code we wrote above."
   ]
  },
  {
   "cell_type": "code",
   "execution_count": 2,
   "id": "06545979-b484-46c4-9fa3-ce6b31857f61",
   "metadata": {},
   "outputs": [],
   "source": [
    "## Calculates the complement probability of an event\n"
   ]
  },
  {
   "cell_type": "markdown",
   "id": "60ca1ddf-7eae-476b-97ab-1804bc5ef261",
   "metadata": {},
   "source": [
    "## Independent Events\n",
    "\n",
    "> **Independent Events**  \n",
    "Events $A$ and $B$ are independent events if the probability of Event $B$ occurring is the same whether or not Event $A$ occurs. \n",
    "\n",
    "Some examples of independent events are\n",
    "* A coin tossed two times.\n",
    "* Tossing a coin and rolling a die.\n",
    "* A card pulled from a deck, replaced in the deck, and then another card being pulled.\n",
    "\n",
    "Some examples of events that are not independent\n",
    "* A card being pulled from the deck, and then a second card being pulled from the deck.\n",
    "\n",
    "### Probability of Two Independent Events BOTH happening  \n",
    "When two events are independent, the probability of *both* events occurring is the product of the probabilities of the individual events.\n",
    "\n",
    "> **Probability of Two Independent Events**  \n",
    "If events $A$ and $B$ are independent, then the probability of both $A$ and $B$ occurring is\n",
    "$$ P(A \\text{ and } B) = P(A) \\cdot P(B)$$\n",
    "where $P(A)$ is the probability of event $A$ occurring, and $P(B)$ is the probability of event $B$ occurring.\n",
    "---\n",
    "### Example 3\n",
    "Suppose we flipped a coin and rolled a 4 sided die, and wanted to know the probability of getting a head on the coin and a 4 on the die. We'll lay this out in a table to see all the options more easily.\n",
    "| D4 | 1 | 2 | 3 | 4 |\n",
    "|------|------|------|------|------|\n",
    "| Heads | H1 | H2 | H3 | H4 |\n",
    "| Tails | T1 | T2 | T3 | T4 |\n",
    "\n",
    "The sample space is $\\{ H1, H2, H3, H4, T1, T2, T3, T4 \\}$\n",
    "\n",
    "To find the probability of getting both a heads and roll a 3 we have\n",
    "$$ P(\\text{heads and roll }3) = P(\\text{heads}) \\cdot P(3) = \\frac{1}{2} \\cdot \\frac{1}{6} = \\frac{1}{12} \\approx 0.0833$$\n",
    "\n",
    "Now let's try to solve this with some code."
   ]
  },
  {
   "cell_type": "code",
   "execution_count": 3,
   "id": "13abb2e9-bef1-4e7b-b24d-c05f328576c9",
   "metadata": {
    "tags": []
   },
   "outputs": [],
   "source": [
    "# probability of two independent events both happening\n"
   ]
  },
  {
   "cell_type": "markdown",
   "id": "675bbfca-a39d-488d-8e8d-9dbdaf8e2990",
   "metadata": {},
   "source": [
    "## Probability of EITHER Two Independent Events Happening\n",
    "\n",
    "Now suppose we wanted to determine the probability of *either* event happening.\n",
    "\n",
    "> **Probability of A or B**  \n",
    "The probability of either $A$ or $B$ occurring (or both) is\n",
    "$$P(A \\text{ or } B) = P(A) + P(B)  -  P(A \\text{ and } B)$$\n",
    "\n",
    "---\n",
    "### Example 4\n",
    "Let's consider the situation in the last example and determine the probability if either you get a tails OR you roll a 4. The sample space is $\\{ H1, H2, H3, H4, T1, T2, T3, T4 \\}$. If we simply count the options we see we have the 4 cases that have tails and we just need to add the one case where we get heads and roll a 4. This gives us $P(\\text{tails or }4) = \\frac{5}{8} \\approx 0.625$.\n",
    "\n",
    "\n",
    "What if we had too many combinations to count? We can't simply add these probabilities. Since\n",
    "$$ P(\\text{tails}) + P(4) = \\frac{1}{2} + \\frac{1}{4} = \\frac{6}{8} \\neq \\frac{5}{8}$$\n",
    "\n",
    "The problem here is that we're actually including too many cases. The outcome where we get both tails AND roll a 4 is counted in each probability we're adding. So we need to *exclude* when both conditions are true. In other words, we need to subtract the case where $P(\\text{tails and roll }4)$ so we have\n",
    "\n",
    "$$ P(\\text{tails or }4) = P(\\text{tails}) + P(4) -  P(\\text{tails and }4) = \\frac{1}{2} + \\frac{1}{4} - \\frac{1}{8} \\approx 0.625$$\n",
    "\n",
    "Now we calculate this with code"
   ]
  },
  {
   "cell_type": "code",
   "execution_count": 4,
   "id": "21ff2e6f-5c35-4512-8ba4-35bbd68f0adb",
   "metadata": {
    "tags": []
   },
   "outputs": [],
   "source": [
    "# probability of either two independent events happening\n"
   ]
  },
  {
   "cell_type": "markdown",
   "id": "9e3e6f61-f5fb-4938-a1ac-87d2cfec339c",
   "metadata": {},
   "source": [
    "## Conditional Probability\n",
    "\n",
    "Often, we're interested in calcuating a probability given that another event has already occured. \n",
    "\n",
    "> **Conditional Probability**  \n",
    "The probability the event $B$ occurs, given that event $A$ has happened, is notated as $P(B \\mid A)$. This is read as “the probability of $B$ given $A$”.\n",
    "\n",
    "For example, the probability that two cards draw from a deck will both be aces. Once one ace has been drawn, there are less aces in the deck so this will change the probability of drawing a subsequent ace.\n",
    "\n",
    "> **Conditional Probability Formula**  \n",
    "If events $A$ and $B$ are not independent, then \n",
    "$$P(A \\text{ and } B) = P(A) \\cdot P(B \\mid A) $$\n",
    "\n",
    "Note that in some cases $P(B \\mid A) \\neq P(A \\mid B)$. See Example 15 from the reading for an example of this.\n",
    "\n",
    "---\n",
    "### Example 5\n",
    "If you pull 2 cards out of a deck, what is the probability that both are diamonds?\n",
    "\n",
    "The probability that the first card is a diamond is $\\frac{13}{52}$.  \n",
    "\n",
    "The probability that the second card is a diamond, given the first was a diamond, is $\\frac{12}{51}$\n",
    "\n",
    "The probability that both cards are spades is  \n",
    "\n",
    "$$P(A \\text{ and } B) = P(A) \\cdot P(B \\mid A)  = \\frac{13}{52} \\cdot \\frac{12}{51} \\approx 0.0588$$\n",
    "\n",
    "You guessed it, now we're going to calculate this with some code."
   ]
  },
  {
   "cell_type": "code",
   "execution_count": 5,
   "id": "1f51b78a-f7c7-41b1-b52b-9e15c75a9409",
   "metadata": {
    "tags": []
   },
   "outputs": [],
   "source": [
    "# conditional probability\n"
   ]
  },
  {
   "cell_type": "code",
   "execution_count": null,
   "id": "63110256-36b5-4114-a44b-b44806a853b2",
   "metadata": {},
   "outputs": [],
   "source": []
  }
 ],
 "metadata": {
  "kernelspec": {
   "display_name": "Python 3 (ipykernel)",
   "language": "python",
   "name": "python3"
  },
  "language_info": {
   "codemirror_mode": {
    "name": "ipython",
    "version": 3
   },
   "file_extension": ".py",
   "mimetype": "text/x-python",
   "name": "python",
   "nbconvert_exporter": "python",
   "pygments_lexer": "ipython3",
   "version": "3.10.13"
  }
 },
 "nbformat": 4,
 "nbformat_minor": 5
}
