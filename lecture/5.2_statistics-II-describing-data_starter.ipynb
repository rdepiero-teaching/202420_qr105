{
 "cells": [
  {
   "cell_type": "markdown",
   "id": "0014b4d5-2d52-4041-b66b-7b1888c840a9",
   "metadata": {},
   "source": [
    "# 5.2 Statistics Part 2: Describing Data\n",
    "\n",
    "For this section we'll be using a single data set to demonstrate how to do each of the required calculations."
   ]
  },
  {
   "cell_type": "code",
   "execution_count": 2,
   "id": "4f4947b6-895a-43e1-926f-fce6268ce602",
   "metadata": {},
   "outputs": [],
   "source": [
    "import pandas as pd\n",
    "import numpy as np\n",
    "import matplotlib.pyplot as plt\n",
    "\n",
    "nhl = pd.read_csv('nhl_2019.csv') # replace with whatever dataset here"
   ]
  },
  {
   "cell_type": "markdown",
   "id": "eff01d71-3abc-45e2-8bcc-a5a527bb6412",
   "metadata": {},
   "source": [
    "This is a larger set of data. We'll use the `head` function in pandas to print only the first 5 rows of the dataframe. This allows us to see column headings and the general format of the dataframe."
   ]
  },
  {
   "cell_type": "code",
   "execution_count": 3,
   "id": "086b95f7-d9db-46b0-89a8-a11e5c364fac",
   "metadata": {},
   "outputs": [
    {
     "data": {
      "text/html": [
       "<div>\n",
       "<style scoped>\n",
       "    .dataframe tbody tr th:only-of-type {\n",
       "        vertical-align: middle;\n",
       "    }\n",
       "\n",
       "    .dataframe tbody tr th {\n",
       "        vertical-align: top;\n",
       "    }\n",
       "\n",
       "    .dataframe thead th {\n",
       "        text-align: right;\n",
       "    }\n",
       "</style>\n",
       "<table border=\"1\" class=\"dataframe\">\n",
       "  <thead>\n",
       "    <tr style=\"text-align: right;\">\n",
       "      <th></th>\n",
       "      <th>team</th>\n",
       "      <th>wins</th>\n",
       "      <th>losses</th>\n",
       "      <th>ot_losses</th>\n",
       "      <th>PTS</th>\n",
       "      <th>GF</th>\n",
       "      <th>GA</th>\n",
       "      <th>goal_diff</th>\n",
       "      <th>Country</th>\n",
       "    </tr>\n",
       "  </thead>\n",
       "  <tbody>\n",
       "    <tr>\n",
       "      <th>0</th>\n",
       "      <td>Tampa Bay Lightning</td>\n",
       "      <td>62</td>\n",
       "      <td>16</td>\n",
       "      <td>4</td>\n",
       "      <td>128</td>\n",
       "      <td>325</td>\n",
       "      <td>222</td>\n",
       "      <td>103</td>\n",
       "      <td>USA</td>\n",
       "    </tr>\n",
       "    <tr>\n",
       "      <th>1</th>\n",
       "      <td>Calgary Flames</td>\n",
       "      <td>50</td>\n",
       "      <td>25</td>\n",
       "      <td>7</td>\n",
       "      <td>107</td>\n",
       "      <td>289</td>\n",
       "      <td>227</td>\n",
       "      <td>62</td>\n",
       "      <td>CA</td>\n",
       "    </tr>\n",
       "    <tr>\n",
       "      <th>2</th>\n",
       "      <td>Boston Bruins</td>\n",
       "      <td>49</td>\n",
       "      <td>24</td>\n",
       "      <td>9</td>\n",
       "      <td>107</td>\n",
       "      <td>259</td>\n",
       "      <td>215</td>\n",
       "      <td>44</td>\n",
       "      <td>USA</td>\n",
       "    </tr>\n",
       "    <tr>\n",
       "      <th>3</th>\n",
       "      <td>Washington Capitals</td>\n",
       "      <td>48</td>\n",
       "      <td>26</td>\n",
       "      <td>8</td>\n",
       "      <td>104</td>\n",
       "      <td>278</td>\n",
       "      <td>249</td>\n",
       "      <td>29</td>\n",
       "      <td>USA</td>\n",
       "    </tr>\n",
       "    <tr>\n",
       "      <th>4</th>\n",
       "      <td>New York Islanders</td>\n",
       "      <td>48</td>\n",
       "      <td>27</td>\n",
       "      <td>7</td>\n",
       "      <td>103</td>\n",
       "      <td>228</td>\n",
       "      <td>196</td>\n",
       "      <td>32</td>\n",
       "      <td>USA</td>\n",
       "    </tr>\n",
       "  </tbody>\n",
       "</table>\n",
       "</div>"
      ],
      "text/plain": [
       "                  team  wins  losses  ot_losses  PTS   GF   GA  goal_diff  \\\n",
       "0  Tampa Bay Lightning    62      16          4  128  325  222        103   \n",
       "1       Calgary Flames    50      25          7  107  289  227         62   \n",
       "2        Boston Bruins    49      24          9  107  259  215         44   \n",
       "3  Washington Capitals    48      26          8  104  278  249         29   \n",
       "4   New York Islanders    48      27          7  103  228  196         32   \n",
       "\n",
       "  Country  \n",
       "0     USA  \n",
       "1      CA  \n",
       "2     USA  \n",
       "3     USA  \n",
       "4     USA  "
      ]
     },
     "execution_count": 3,
     "metadata": {},
     "output_type": "execute_result"
    }
   ],
   "source": [
    "nhl.head() # displays first 5 lines"
   ]
  },
  {
   "cell_type": "code",
   "execution_count": 4,
   "id": "e1bd2253-5614-4566-be72-a6c2384931d4",
   "metadata": {},
   "outputs": [
    {
     "name": "stdout",
     "output_type": "stream",
     "text": [
      "<class 'pandas.core.frame.DataFrame'>\n",
      "RangeIndex: 31 entries, 0 to 30\n",
      "Data columns (total 9 columns):\n",
      " #   Column     Non-Null Count  Dtype \n",
      "---  ------     --------------  ----- \n",
      " 0   team       31 non-null     object\n",
      " 1   wins       31 non-null     int64 \n",
      " 2   losses     31 non-null     int64 \n",
      " 3   ot_losses  31 non-null     int64 \n",
      " 4   PTS        31 non-null     int64 \n",
      " 5   GF         31 non-null     int64 \n",
      " 6   GA         31 non-null     int64 \n",
      " 7   goal_diff  31 non-null     int64 \n",
      " 8   Country    31 non-null     object\n",
      "dtypes: int64(7), object(2)\n",
      "memory usage: 2.3+ KB\n"
     ]
    }
   ],
   "source": [
    "nhl.info()"
   ]
  },
  {
   "cell_type": "code",
   "execution_count": 5,
   "id": "68d3398e-d99f-4896-9457-562e518dc2e6",
   "metadata": {},
   "outputs": [
    {
     "data": {
      "text/html": [
       "<div>\n",
       "<style scoped>\n",
       "    .dataframe tbody tr th:only-of-type {\n",
       "        vertical-align: middle;\n",
       "    }\n",
       "\n",
       "    .dataframe tbody tr th {\n",
       "        vertical-align: top;\n",
       "    }\n",
       "\n",
       "    .dataframe thead th {\n",
       "        text-align: right;\n",
       "    }\n",
       "</style>\n",
       "<table border=\"1\" class=\"dataframe\">\n",
       "  <thead>\n",
       "    <tr style=\"text-align: right;\">\n",
       "      <th></th>\n",
       "      <th>team</th>\n",
       "      <th>wins</th>\n",
       "      <th>losses</th>\n",
       "      <th>ot_losses</th>\n",
       "      <th>PTS</th>\n",
       "      <th>GF</th>\n",
       "      <th>GA</th>\n",
       "      <th>goal_diff</th>\n",
       "      <th>Country</th>\n",
       "    </tr>\n",
       "  </thead>\n",
       "  <tbody>\n",
       "    <tr>\n",
       "      <th>26</th>\n",
       "      <td>Buffalo Sabres</td>\n",
       "      <td>33</td>\n",
       "      <td>39</td>\n",
       "      <td>10</td>\n",
       "      <td>76</td>\n",
       "      <td>226</td>\n",
       "      <td>271</td>\n",
       "      <td>-45</td>\n",
       "      <td>USA</td>\n",
       "    </tr>\n",
       "    <tr>\n",
       "      <th>27</th>\n",
       "      <td>Detroit Red Wings</td>\n",
       "      <td>32</td>\n",
       "      <td>40</td>\n",
       "      <td>10</td>\n",
       "      <td>74</td>\n",
       "      <td>227</td>\n",
       "      <td>277</td>\n",
       "      <td>-50</td>\n",
       "      <td>USA</td>\n",
       "    </tr>\n",
       "    <tr>\n",
       "      <th>28</th>\n",
       "      <td>New Jersey Devils</td>\n",
       "      <td>31</td>\n",
       "      <td>41</td>\n",
       "      <td>10</td>\n",
       "      <td>72</td>\n",
       "      <td>222</td>\n",
       "      <td>275</td>\n",
       "      <td>-53</td>\n",
       "      <td>USA</td>\n",
       "    </tr>\n",
       "    <tr>\n",
       "      <th>29</th>\n",
       "      <td>Los Angeles Kings</td>\n",
       "      <td>31</td>\n",
       "      <td>42</td>\n",
       "      <td>9</td>\n",
       "      <td>71</td>\n",
       "      <td>202</td>\n",
       "      <td>263</td>\n",
       "      <td>-61</td>\n",
       "      <td>USA</td>\n",
       "    </tr>\n",
       "    <tr>\n",
       "      <th>30</th>\n",
       "      <td>Ottawa Senators</td>\n",
       "      <td>29</td>\n",
       "      <td>47</td>\n",
       "      <td>6</td>\n",
       "      <td>64</td>\n",
       "      <td>242</td>\n",
       "      <td>302</td>\n",
       "      <td>-60</td>\n",
       "      <td>CA</td>\n",
       "    </tr>\n",
       "  </tbody>\n",
       "</table>\n",
       "</div>"
      ],
      "text/plain": [
       "                 team  wins  losses  ot_losses  PTS   GF   GA  goal_diff  \\\n",
       "26     Buffalo Sabres    33      39         10   76  226  271        -45   \n",
       "27  Detroit Red Wings    32      40         10   74  227  277        -50   \n",
       "28  New Jersey Devils    31      41         10   72  222  275        -53   \n",
       "29  Los Angeles Kings    31      42          9   71  202  263        -61   \n",
       "30    Ottawa Senators    29      47          6   64  242  302        -60   \n",
       "\n",
       "   Country  \n",
       "26     USA  \n",
       "27     USA  \n",
       "28     USA  \n",
       "29     USA  \n",
       "30      CA  "
      ]
     },
     "execution_count": 5,
     "metadata": {},
     "output_type": "execute_result"
    }
   ],
   "source": [
    "nhl.tail()"
   ]
  },
  {
   "cell_type": "markdown",
   "id": "25a3b95c-06b6-45d1-a4d4-6ef14e932bf0",
   "metadata": {},
   "source": [
    "## Measures of Central Tendency\n",
    "One important aspect of a distribution is where its center is located. The Mean, Median and Mode are all measures of central tendency.\n",
    "\n",
    "### Mean\n",
    "The first measure is arithmetic mean, or just mean for short. This can also be referred to as the average.\n",
    "\n",
    "> **Mean**  \n",
    "> The mean of a set of data is the sum of the data values divided by the number of values.\n",
    "\n",
    "\n",
    "#### Calculating the Mean\n",
    "\n",
    "We calculate the mean of a series or column of a pandas dataframe using `mean()`."
   ]
  },
  {
   "cell_type": "code",
   "execution_count": 6,
   "id": "9ce60390-495c-43bb-ac86-4bff00c0889a",
   "metadata": {},
   "outputs": [
    {
     "data": {
      "text/plain": [
       "90.74193548387096"
      ]
     },
     "execution_count": 6,
     "metadata": {},
     "output_type": "execute_result"
    }
   ],
   "source": [
    "## find mean\n",
    "nhl['PTS'].mean()"
   ]
  },
  {
   "cell_type": "markdown",
   "id": "9fab6d67-8a3b-4c5c-8384-2ad41c087c10",
   "metadata": {},
   "source": [
    "#### Try it Yourself\n",
    "\n",
    "Find the mean of the `losses` column.\n"
   ]
  },
  {
   "cell_type": "code",
   "execution_count": null,
   "id": "59760bf1-f5ff-45d9-b65c-b487e2842fa8",
   "metadata": {},
   "outputs": [],
   "source": [
    "## find average number of losses\n"
   ]
  },
  {
   "cell_type": "markdown",
   "id": "b0a62f37-fa8e-46ef-bad7-e6e43c73b7c1",
   "metadata": {},
   "source": [
    "### Median\n",
    "\n",
    "When working with data that have outliers – values far outside the primary grouping – it is common to use a different measure of center, the median.\n",
    "\n",
    "> **Median**  \n",
    "> The median of a set of data is the value in the middle when the data is in order\n",
    "\n",
    "**To find the median:**\n",
    "\n",
    "* List data in order from smallest to largest, or largest to smallest.\n",
    "\n",
    "* If the number of data values, $N$, is odd, then the median is the middle data value.  This value can be found by rounding $N/2$ up to the next whole number.  \n",
    "\n",
    "* If the number of data values is even, there is no one middle value, so we find the mean of the two middle values (values $N/2$ and $N/2 + 1$)\n",
    "\n",
    "\n",
    "#### Calculating the Median\n",
    "\n",
    "We calculate the mean of a series or column of a pandas dataframe using `median()`."
   ]
  },
  {
   "cell_type": "code",
   "execution_count": 7,
   "id": "64b87371-9993-475e-bf1d-4e7407f96a7e",
   "metadata": {},
   "outputs": [
    {
     "data": {
      "text/plain": [
       "93.0"
      ]
     },
     "execution_count": 7,
     "metadata": {},
     "output_type": "execute_result"
    }
   ],
   "source": [
    "nhl['PTS'].median()\n"
   ]
  },
  {
   "cell_type": "markdown",
   "id": "9ad39782-645b-4c91-8761-bf7bc481ed8c",
   "metadata": {},
   "source": [
    "#### Try it Yourself\n",
    "\n",
    "Find the median of the `losses` column."
   ]
  },
  {
   "cell_type": "code",
   "execution_count": null,
   "id": "a7437a49-beac-4893-9633-e648e34cc4a1",
   "metadata": {},
   "outputs": [],
   "source": [
    "## find median number of losses\n"
   ]
  },
  {
   "cell_type": "markdown",
   "id": "c1d34b95-5139-4c2b-8166-1e1a6a1e8a0c",
   "metadata": {},
   "source": [
    "### Mode\n",
    "\n",
    "In addition to the mean and the median, there is one other common measurement of the \"typical\" value of a data set: the mode.  \n",
    "\n",
    "> **Mode**  \n",
    "> The mode is the element of the data set that occurs most frequently.\n",
    ">\n",
    "\n",
    "The mode is commonly used for categorical data. It doesn't make sense as a measure with most quantitative data, because the values tend to vary too much.\n",
    "\n",
    "#### Calculating the Mode\n",
    "\n",
    "We calculate the mode of a series or column of a pandas dataframe using `mode()`."
   ]
  },
  {
   "cell_type": "code",
   "execution_count": 8,
   "id": "57d85e72-d0d4-4406-802c-2e7d0d8c453a",
   "metadata": {},
   "outputs": [
    {
     "data": {
      "text/plain": [
       "0    USA\n",
       "Name: Country, dtype: object"
      ]
     },
     "execution_count": 8,
     "metadata": {},
     "output_type": "execute_result"
    }
   ],
   "source": [
    "nhl['Country'].mode()\n"
   ]
  },
  {
   "cell_type": "markdown",
   "id": "db46ea3b-ee63-4178-9e53-ea944b50d2d1",
   "metadata": {},
   "source": [
    "Remember that if we wanted to get the actual counts, we could use `value_counts()`"
   ]
  },
  {
   "cell_type": "markdown",
   "id": "7a23db69-1780-44c9-84e4-19211e35a490",
   "metadata": {},
   "source": [
    "#### Try it Yourself\n",
    "\n",
    "Find the mode of the `ot_losses` column."
   ]
  },
  {
   "cell_type": "code",
   "execution_count": null,
   "id": "f72445dd-830a-4eac-914a-d07c1d6fe89e",
   "metadata": {},
   "outputs": [],
   "source": [
    "## find the mode\n",
    "\n"
   ]
  },
  {
   "cell_type": "markdown",
   "id": "27aa043b-4ecc-4ece-baca-24cae6061cec",
   "metadata": {},
   "source": [
    "## Measures of Variation\n",
    "\n",
    "We also need a way to measure how spread out or varied a data set is.\n",
    "\n",
    "\n",
    "### Range\n",
    "\n",
    "There are several ways to measure this \"spread\" of the data.  The first is the simplest and is called the range. \n",
    "\n",
    "> **Range**  \n",
    "> The range is the difference between the maximum value and the minimum value of the data set.\n",
    "\n",
    "\n",
    "#### Calculating the Range\n",
    "\n",
    "There is no built in pandas function to find the range. To calculate it we use `max()` and `min()`."
   ]
  },
  {
   "cell_type": "code",
   "execution_count": 9,
   "id": "72d1fc76-1d2f-47f1-951b-c2cfac93411d",
   "metadata": {},
   "outputs": [
    {
     "data": {
      "text/plain": [
       "64"
      ]
     },
     "execution_count": 9,
     "metadata": {},
     "output_type": "execute_result"
    }
   ],
   "source": [
    "# Range is calculated by range = max - min\n",
    "nhl['PTS'].max() - nhl['PTS'].min()\n"
   ]
  },
  {
   "cell_type": "markdown",
   "id": "9ffc79fd-c917-47ec-ae69-e51ffd5da374",
   "metadata": {},
   "source": [
    "#### Try it Yourself\n",
    "\n",
    "Find the range of the `losses` column."
   ]
  },
  {
   "cell_type": "code",
   "execution_count": null,
   "id": "714d1ed7-0ce9-470a-bb66-177a278a36a1",
   "metadata": {},
   "outputs": [],
   "source": [
    "# find the range\n",
    "\n"
   ]
  },
  {
   "cell_type": "markdown",
   "id": "528cf67a-1794-47d2-9fdf-4dc25b1aa6cd",
   "metadata": {},
   "source": [
    "### Standard Deviation\n",
    "\n",
    "A more sophisticated way of determining variation in a data set is using standard deviation.\n",
    "\n",
    "> **Standard Deviation**\n",
    "> The standard deviation is a measure of variation based on measuring how far each data value deviates, or is different, from the mean.\n",
    "\n",
    "A few important characteristics:\r",
    "* Standard deviation is always positive.\n",
    "* Standard deviation will be zero if all the data values are equal, and will get larger as the data spreads out.\n",
    "* Standard deviation has the same units as the original data.\n",
    "* Standard deviation, like the mean, can be highly influenced by outliers."
   ]
  },
  {
   "cell_type": "markdown",
   "id": "1b945e7e-5e97-49bc-8a89-057a32839375",
   "metadata": {},
   "source": [
    "To compute standard deviation\n",
    "\n",
    "1. Find the deviation of each data from the mean.  In other words, subtract the mean from the data value.\n",
    "2. Square each deviation.\n",
    "3. Add the squared deviations.\n",
    "4. Divide by $n$, the number of data values, if the data represents a whole population; divide by $n-1$ if the data is from a sample.\n",
    "5. Computer the square root of the result.\n",
    "\n",
    "This is a very tedious calculation to do by hand. Luckily, pandas does this easily for us."
   ]
  },
  {
   "cell_type": "markdown",
   "id": "70f30c48-8eb1-4d95-95f0-0e611522d495",
   "metadata": {},
   "source": [
    "#### Calculate the Standard Deviation\n",
    "\n",
    "We calculate the standard deviation with pandas using `std()`"
   ]
  },
  {
   "cell_type": "code",
   "execution_count": 10,
   "id": "94789549-466f-4d36-9e75-d81e467408ae",
   "metadata": {},
   "outputs": [
    {
     "data": {
      "text/plain": [
       "13.652759774579119"
      ]
     },
     "execution_count": 10,
     "metadata": {},
     "output_type": "execute_result"
    }
   ],
   "source": [
    "nhl['PTS'].std()\n"
   ]
  },
  {
   "cell_type": "markdown",
   "id": "ac03bd57-81a8-49f5-b253-3ed2c631f9ed",
   "metadata": {},
   "source": [
    "#### Try it Yourself\n",
    "\n",
    "Calculate the standard deviation of the `losses` column."
   ]
  },
  {
   "cell_type": "code",
   "execution_count": null,
   "id": "5e9cd913-575b-4d67-9f59-858d7efabfe8",
   "metadata": {},
   "outputs": [],
   "source": [
    "# find the standard deviation\n",
    "\n"
   ]
  },
  {
   "cell_type": "code",
   "execution_count": null,
   "id": "999bea61-c394-4fc0-a8b3-05a6c6e9a404",
   "metadata": {},
   "outputs": [],
   "source": []
  },
  {
   "cell_type": "markdown",
   "id": "2f81e1d5-a665-4c3e-9ce1-816166186e79",
   "metadata": {},
   "source": [
    "### Quartiles\n",
    "\n",
    "Where standard deviation is a measure of variation based on the mean, quartiles are based on the median.\n",
    "\n",
    "> **Quartiles**  \n",
    "> Quartiles are values that divide the data in quarters.\n",
    ">\n",
    "\n",
    "* The first quartile $(Q1)$ is the value so that $25\\%$  of the data values are below it\n",
    "* The second quartile is the same as the median, since the median is the value so that $50\\%$  of the data values are below it. \n",
    "* The third quartile $(Q3)$ is the value so that $75\\%$  of the data values are below it.\n",
    "\n",
    "This divides the data into quarters;  $25\\%$ of the data is between the minimum and $Q1$, $25\\%$ is between $Q1$ and the median, $25\\%$ is between the median and $Q3$, and $25\\%$is between $Q3$ and the maximum value.\n",
    "\n",
    "\r\n",
    "#### Calculate the Quartiles\n",
    "\n",
    "We calculate the standard deviation with pandas using `quantile([0.25, 0.5, 0.75])`."
   ]
  },
  {
   "cell_type": "code",
   "execution_count": 11,
   "id": "4af7fe25-3def-4a2e-a0d7-e910dad586bb",
   "metadata": {},
   "outputs": [
    {
     "data": {
      "text/plain": [
       "0.25     80.5\n",
       "0.50     93.0\n",
       "0.75    100.0\n",
       "Name: PTS, dtype: float64"
      ]
     },
     "execution_count": 11,
     "metadata": {},
     "output_type": "execute_result"
    }
   ],
   "source": [
    "nhl['PTS'].quantile([0.25, 0.5, 0.75])"
   ]
  },
  {
   "cell_type": "markdown",
   "id": "f1d96919-65fe-428d-885b-9637444c6de0",
   "metadata": {},
   "source": [
    "#### Try it Yourself\n",
    "\n",
    "Calculate the quartiles for the `GA` column. In a markdown cell below the output, write a sentence on how to read this data."
   ]
  },
  {
   "cell_type": "code",
   "execution_count": null,
   "id": "07b7439f-db89-453c-bec0-d0713e3c54cf",
   "metadata": {},
   "outputs": [],
   "source": [
    "# find the quartiles\n",
    "\n"
   ]
  },
  {
   "cell_type": "code",
   "execution_count": null,
   "id": "71b6b918-08f9-4069-9376-96d2e33cc2d3",
   "metadata": {},
   "outputs": [],
   "source": []
  },
  {
   "cell_type": "markdown",
   "id": "b0544294-6def-4d52-a08a-31e906302f34",
   "metadata": {},
   "source": [
    "## Five Number Summary\n",
    "\n",
    "Quartiles are used with the median, minimum, and maximum values to form a 5 number summary of the data.\n",
    "\n",
    "\n",
    "#### Calculate the Five Number Summary\n",
    "\n",
    "The pandas function `describe()` outputs a table of key information about a column. The following information is output.\n",
    "- **count**, which is equivalent to the number of cells (rows)\n",
    "- **mean**, the average of the values in the column\n",
    "- **std**, which is the standard deviation\n",
    "- **min**, the minimum value\n",
    "- **25%**, the 25th percentile of the values \n",
    "- **50%**, the 50th percentile of the values, which is the equivalent to the median\n",
    "- **75%**, the 75th percentile of the values\n",
    "- **max**, the maximum value\n",
    "\n",
    "We can see the output after running the code below."
   ]
  },
  {
   "cell_type": "code",
   "execution_count": 12,
   "id": "eb39d60e-f3d7-4dce-83e0-dbafb3c391bf",
   "metadata": {},
   "outputs": [
    {
     "data": {
      "text/plain": [
       "count     31.000000\n",
       "mean      90.741935\n",
       "std       13.652760\n",
       "min       64.000000\n",
       "25%       80.500000\n",
       "50%       93.000000\n",
       "75%      100.000000\n",
       "max      128.000000\n",
       "Name: PTS, dtype: float64"
      ]
     },
     "execution_count": 12,
     "metadata": {},
     "output_type": "execute_result"
    }
   ],
   "source": [
    "nhl['PTS'].describe()"
   ]
  },
  {
   "cell_type": "markdown",
   "id": "0f83a6cb-4236-430a-9419-185244bae0db",
   "metadata": {},
   "source": [
    "We calculate the five number summary with pandas using a subset of the output of `describe()`.\n"
   ]
  },
  {
   "cell_type": "code",
   "execution_count": 13,
   "id": "32ed8e2a-d223-4fde-89fa-5966076507b1",
   "metadata": {},
   "outputs": [
    {
     "data": {
      "text/plain": [
       "min     64.0\n",
       "25%     80.5\n",
       "50%     93.0\n",
       "75%    100.0\n",
       "max    128.0\n",
       "Name: PTS, dtype: float64"
      ]
     },
     "execution_count": 13,
     "metadata": {},
     "output_type": "execute_result"
    }
   ],
   "source": [
    "nhl['PTS'].describe().loc[['min', '25%', '50%', '75%', 'max']]"
   ]
  },
  {
   "cell_type": "markdown",
   "id": "87c3895d-7128-409d-bb33-93d2e82a2b5c",
   "metadata": {},
   "source": [
    "#### Try it Yourself\n",
    "\n",
    "Use the `describe()` function to output the key data measures for the `losses` column."
   ]
  },
  {
   "cell_type": "code",
   "execution_count": 14,
   "id": "f6467e2a-9083-433b-9fad-e31577940276",
   "metadata": {},
   "outputs": [
    {
     "data": {
      "text/plain": [
       "count    31.000000\n",
       "mean     32.258065\n",
       "std       6.371644\n",
       "min      16.000000\n",
       "25%      28.000000\n",
       "50%      32.000000\n",
       "75%      36.500000\n",
       "max      47.000000\n",
       "Name: losses, dtype: float64"
      ]
     },
     "execution_count": 14,
     "metadata": {},
     "output_type": "execute_result"
    }
   ],
   "source": [
    "# output the data summary\n",
    "\n",
    "nhl['losses'].describe()"
   ]
  },
  {
   "cell_type": "markdown",
   "id": "d0f600f0-7a2a-4e1a-bfe5-5ba7b04f8043",
   "metadata": {},
   "source": [
    "Fill out the values listed below based on this output.\n",
    "\n",
    "|         | Value |\n",
    "|:--------|--------:|\n",
    "|  Minimum   |     |\n",
    "|  Q1  |    |\n",
    "|  Median  |    |\n",
    "|  Q3   |   |\n",
    "|  Maximum   |     |\n"
   ]
  },
  {
   "cell_type": "markdown",
   "id": "a67167e1-7bbd-4db2-bcfb-93535b74f061",
   "metadata": {},
   "source": [
    "### Boxplots\n",
    "\n",
    "\n",
    "For visualizing data, there is a graphical representation of a 5-number summary called a box plot, or box and whisker graph.\n",
    "\n",
    "#### Create a Boxplot\n",
    "\n",
    "We create a boxplot using either matplotlib or with the direct pandas function `boxplot()` function. Note that this is a dataframe function, so we need to specify which column or columns we want within the function call."
   ]
  },
  {
   "cell_type": "code",
   "execution_count": 15,
   "id": "8f0532b2-8ac2-4ccd-be17-abf25d83273e",
   "metadata": {},
   "outputs": [
    {
     "data": {
      "image/png": "[encoded data removed]",
      "text/plain": [
       "<Figure size 640x480 with 1 Axes>"
      ]
     },
     "metadata": {},
     "output_type": "display_data"
    }
   ],
   "source": [
    "nhl.boxplot(column=['PTS'])\n",
    "plt.show()"
   ]
  },
  {
   "cell_type": "markdown",
   "id": "b2085b9e-597a-4bce-8026-4ee10299dd7a",
   "metadata": {},
   "source": [
    "We can also create multiple boxplots in the same plot. This can make it easier to compare the spread of different columns of data. However, it makes more sense to compare boxplots that have similar ranges of values."
   ]
  },
  {
   "cell_type": "code",
   "execution_count": 16,
   "id": "d3e38056-64b4-4f9a-aa5c-0a355a5f2796",
   "metadata": {},
   "outputs": [
    {
     "data": {
      "image/png": "[encoded data removed]",
      "text/plain": [
       "<Figure size 640x480 with 1 Axes>"
      ]
     },
     "metadata": {},
     "output_type": "display_data"
    }
   ],
   "source": [
    "nhl.boxplot(column=['wins','PTS'])\n",
    "plt.show()"
   ]
  },
  {
   "cell_type": "markdown",
   "id": "d4eaf8ee-33a9-4322-b9fa-970a16a18f6b",
   "metadata": {},
   "source": [
    "As we can see, comparing wins and PTS is not super helpful, even though we could assume that the team that wins more games will earn more points over the course of the season. Instead, let's try comparing goals scored for (GF) and goals against (GA)."
   ]
  },
  {
   "cell_type": "code",
   "execution_count": 17,
   "id": "d6215928-3518-4af8-9fdf-e2f412e6065d",
   "metadata": {},
   "outputs": [
    {
     "data": {
      "image/png": "[encoded data removed]",
      "text/plain": [
       "<Figure size 640x480 with 1 Axes>"
      ]
     },
     "metadata": {},
     "output_type": "display_data"
    }
   ],
   "source": [
    "nhl.boxplot(column=['GF','GA'])\n",
    "plt.show()"
   ]
  },
  {
   "cell_type": "markdown",
   "id": "9d914727-ed78-4a7d-8b3c-5d4a3e68fb69",
   "metadata": {},
   "source": [
    "These are on the same scale or relative range of values and so comparing these two columns makes much more sense visually."
   ]
  },
  {
   "cell_type": "markdown",
   "id": "096d0754-f8c4-48eb-9f79-36f27b3d570e",
   "metadata": {},
   "source": [
    "#### Try it Yourself\n",
    "\n",
    "Create a boxplot for the `wins` and `losses` columns."
   ]
  },
  {
   "cell_type": "code",
   "execution_count": null,
   "id": "fd1ef264-b784-4905-a28b-b4437d974827",
   "metadata": {},
   "outputs": [],
   "source": [
    "# create boxplot\n",
    "\n",
    "\n"
   ]
  },
  {
   "cell_type": "code",
   "execution_count": null,
   "id": "932123c0-812d-4d6e-abb0-44aaef2f8e8e",
   "metadata": {},
   "outputs": [],
   "source": []
  }
 ],
 "metadata": {
  "kernelspec": {
   "display_name": "Python 3 (ipykernel)",
   "language": "python",
   "name": "python3"
  },
  "language_info": {
   "codemirror_mode": {
    "name": "ipython",
    "version": 3
   },
   "file_extension": ".py",
   "mimetype": "text/x-python",
   "name": "python",
   "nbconvert_exporter": "python",
   "pygments_lexer": "ipython3",
   "version": "3.10.13"
  }
 },
 "nbformat": 4,
 "nbformat_minor": 5
}
