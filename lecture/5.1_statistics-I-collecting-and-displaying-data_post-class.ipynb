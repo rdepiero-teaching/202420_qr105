{
 "cells": [
  {
   "cell_type": "markdown",
   "id": "c183ed92-d96e-4ae5-8b08-f688250957f7",
   "metadata": {},
   "source": [
    "# 5.1 Statistics Part 1: Collecting & Displaying Data"
   ]
  },
  {
   "cell_type": "markdown",
   "id": "fa938abb-2955-498a-aad1-412f2589c01a",
   "metadata": {
    "jp-MarkdownHeadingCollapsed": true
   },
   "source": [
    "## Introduction\n",
    "\n",
    "Before we begin gathering and analyzing data we need to characterize the population we are studying.\n",
    "\n",
    "> **Population**  \n",
    "The population of a study is the group the collected data is intended to describe\n",
    "\n",
    "> **Sample**  \n",
    "A sample is a smaller subset of the entire population, ideally one that is fairly representative of the whole population."
   ]
  },
  {
   "cell_type": "markdown",
   "id": "38d10a1f-f629-4a17-a329-6b1d964a7427",
   "metadata": {},
   "source": [
    "## Sampling Methods\n",
    "\n",
    "Once a population is identified, you need to choose a sampling method. There are many ways to sample a population. In choosing a method to use, you want to be sure to avoid **sampling bias**. A sampling method is biased if every member of the population doesn’t have equal likelihood of being in the sample. There are many ways to sample a population, but there is one goal we need to keep in mind: we would like the sample to be representative of the population.\n",
    "\n",
    "We'll talk about a few types of sampling methods. By ensuring randomness in our sampling method, we're more likely to get results that represent the entire population.\n",
    "\n",
    "> **Simple Random Sample**  \n",
    "A random sample is one in which each member of the population has an equal probability of being chosen.  A simple random sample is one in which every member of the population and any group of members has an equal probability of being chosen.\n",
    "\n",
    "For example, using a random number generator to select students based on their student ID number.\n",
    "\n",
    "> **Stratified Sample**  \n",
    "In stratified sampling, a population is divided into a number of subgroups (or strata). Random samples are then taken from each subgroup with sample sizes proportional to the size of the subgroup in the population.\n",
    "\n",
    "For example, surveying students at Regis College, where random samples are taken from students that are Freshman, Sophomores, Juniors, or Seniors.\n",
    "\n",
    "> **Systematic Random Sample**  \n",
    "In systematic sampling, every $n$ th member of the population is selected to be in the sample.\n",
    "\n",
    "For example, choosing every 10th student in the roster organized by student ID number.\n",
    "\n",
    "> **Cluster Sample**  \n",
    "In cluster sampling, the population is divided into subgroups (clusters), and a set of subgroups are selected to be in the sample\n",
    "\n",
    "For example, selecting 10 classes and giving a survey to all students in those classes.\n",
    "\n",
    "### Where to go wrong\n",
    "\n",
    "There are many ways to go wrong in collecting data. Here are two major ways.\n",
    "\n",
    "> **Convenience sampling**  \n",
    "Convenience sampling is samples chosen by selecting whoever is convenient.\n",
    "\r\n",
    "For example, only surveying students outside the cafeteria about academics at Regis.\n",
    "\n",
    "> **Voluntary response**  \n",
    "VVoluntary response sampling is allowing the sample to volunteer  \n",
    "\n",
    "For example, asking students to volunteer responses about their experience in math class.\n",
    "\n",
    "Some other issues we can see\n",
    "\n",
    "* **Sampling bias**: when the sample is not representative of the population\n",
    "* **Voluntary response bias**: the sampling bias that often occurs when the sample is volunteers\n",
    "* **Self-interest study**: bias that can occur when the researchers have an interest in the outcome\n",
    "* **Response bias**: when the responder gives inaccurate responses for any reason\n",
    "* **Perceived lack of anonymity**: when the responder fears giving an honest answer might negatively affect them\n",
    "* **Loaded questions**: when the question wording influences the responses\n",
    "* **Non-response bias**: when people refusing to participate in the study can influence the validity of the outcomee"
   ]
  },
  {
   "cell_type": "markdown",
   "id": "179cb74c-d4b8-491f-99de-116be2264d49",
   "metadata": {},
   "source": [
    "\n",
    "\n",
    "\n",
    "## Categorizing Data\n",
    "Once you collect some data, you may need to classify it. There are two main types of data.\n",
    "> **Categorical Data**  \n",
    "Categorical (or qualitative) data are pieces of information that allow us to classify the objects under investigation into various categories.\n",
    "\n",
    "For example, surveying a population for their favorite type of ice cream.\n",
    "\n",
    "> **Quantitative Data**  \n",
    "Quantitative data are responses that are numerical in nature and with which we can perform meaningful arithmetic calculations.\n",
    "\n",
    "For example, surveying a population for the number of times they've had ice cream in the last mon\n",
    "\n",
    "Now that we have some basic understanding for collecting data we can discuss how to summarize and present it in a way that allows us to draw meaningful conclusions from it.\n",
    "\n",
    "### A word about misrepresenting data\n",
    "In this notebook, we'll be focusing on the appropriate ways to represent data visually. But it is worth noting that there are a TON of ways to create misleading graphs. Consult either of the textbooks for some examples of how this can happen."
   ]
  },
  {
   "cell_type": "markdown",
   "id": "b0e49f59-957f-4f01-a627-77d65d91f1e0",
   "metadata": {},
   "source": [
    "## Data in Python: Pandas, Numpy, and Matplotlib\n",
    "\n",
    "There are three major 3rd party libraries we will use when exploring statistics. They are Pandas, Numpy, and Matplotlib.\n",
    "\n",
    "* Pandas -  a fast, powerful, flexible and easy to use open source data analysis and manipulation tool.\n",
    "* Numpy - an open source project that enables numerical computing with Python.\n",
    "* Matplotlib - a library for creating static, animated, and interactive visualizations.\n",
    "\n",
    "These are already installed on your system so all we need to do is import them to make use of them in our notebook."
   ]
  },
  {
   "cell_type": "code",
   "execution_count": 1,
   "id": "9c07a53c-3f9a-4521-b8f1-24ec49be5c6c",
   "metadata": {},
   "outputs": [],
   "source": [
    "import pandas as pd\n",
    "import numpy as np\n",
    "import matplotlib.pyplot as plt"
   ]
  },
  {
   "cell_type": "markdown",
   "id": "b8dc8786-e108-4721-999b-fd6afc386ca1",
   "metadata": {},
   "source": [
    "### Pandas Dataframes\n",
    "Pandas allows us to take data and organize it in something called a *dataframe* or a *series*. Think of this like a table of data.\n",
    "\n",
    "* A **`Series`** is a one-dimensional array of values **with an index**.\n",
    "* A **`DataFrame`** is a two-dimensional array of values **with both a row and column index**.\n",
    "* It turns out - each column of a `DataFrame` is actually a `Series`!\n",
    "\n",
    "For small data sets, you can create a dataframe from lists or dictionaries of values."
   ]
  },
  {
   "cell_type": "code",
   "execution_count": 3,
   "id": "86c4d62f-46c4-4418-8a80-58b6f30cab18",
   "metadata": {},
   "outputs": [
    {
     "data": {
      "text/html": [
       "<div>\n",
       "<style scoped>\n",
       "    .dataframe tbody tr th:only-of-type {\n",
       "        vertical-align: middle;\n",
       "    }\n",
       "\n",
       "    .dataframe tbody tr th {\n",
       "        vertical-align: top;\n",
       "    }\n",
       "\n",
       "    .dataframe thead th {\n",
       "        text-align: right;\n",
       "    }\n",
       "</style>\n",
       "<table border=\"1\" class=\"dataframe\">\n",
       "  <thead>\n",
       "    <tr style=\"text-align: right;\">\n",
       "      <th></th>\n",
       "      <th>name</th>\n",
       "      <th>id_number</th>\n",
       "      <th>gender</th>\n",
       "      <th>class</th>\n",
       "    </tr>\n",
       "  </thead>\n",
       "  <tbody>\n",
       "    <tr>\n",
       "      <th>0</th>\n",
       "      <td>John</td>\n",
       "      <td>662383</td>\n",
       "      <td>Male</td>\n",
       "      <td>Freshman</td>\n",
       "    </tr>\n",
       "    <tr>\n",
       "      <th>1</th>\n",
       "      <td>Sarah</td>\n",
       "      <td>750648</td>\n",
       "      <td>Female</td>\n",
       "      <td>Senior</td>\n",
       "    </tr>\n",
       "    <tr>\n",
       "      <th>2</th>\n",
       "      <td>Michael</td>\n",
       "      <td>498152</td>\n",
       "      <td>Male</td>\n",
       "      <td>Junior</td>\n",
       "    </tr>\n",
       "    <tr>\n",
       "      <th>3</th>\n",
       "      <td>Alice</td>\n",
       "      <td>689413</td>\n",
       "      <td>Female</td>\n",
       "      <td>Sophomore</td>\n",
       "    </tr>\n",
       "    <tr>\n",
       "      <th>4</th>\n",
       "      <td>Diana</td>\n",
       "      <td>337491</td>\n",
       "      <td>Female</td>\n",
       "      <td>Freshman</td>\n",
       "    </tr>\n",
       "    <tr>\n",
       "      <th>5</th>\n",
       "      <td>Charlie</td>\n",
       "      <td>839573</td>\n",
       "      <td>Male</td>\n",
       "      <td>Senior</td>\n",
       "    </tr>\n",
       "  </tbody>\n",
       "</table>\n",
       "</div>"
      ],
      "text/plain": [
       "      name  id_number  gender      class\n",
       "0     John     662383    Male   Freshman\n",
       "1    Sarah     750648  Female     Senior\n",
       "2  Michael     498152    Male     Junior\n",
       "3    Alice     689413  Female  Sophomore\n",
       "4    Diana     337491  Female   Freshman\n",
       "5  Charlie     839573    Male     Senior"
      ]
     },
     "execution_count": 3,
     "metadata": {},
     "output_type": "execute_result"
    }
   ],
   "source": [
    "data = [\n",
    "    [\"John\", 662383, \"Male\", 'Freshman'],\n",
    "    [\"Sarah\", 750648, \"Female\", 'Senior'],\n",
    "    [\"Michael\", 498152, \"Male\", 'Junior'],\n",
    "    ['Alice', 689413, 'Female', 'Sophomore'],\n",
    "    [\"Diana\", 337491, 'Female', 'Freshman'],\n",
    "    ['Charlie', 839573, 'Male', 'Senior'],\n",
    "]\n",
    "## construct dataframe\n",
    "df = pd.DataFrame(data, columns = ['name', 'id_number', 'gender', 'class'])\n",
    "\n",
    "# show dataframe (jupyter nb only)\n",
    "df"
   ]
  },
  {
   "cell_type": "code",
   "execution_count": 4,
   "id": "d4579e0b-e2ca-4c9d-b720-21311955104d",
   "metadata": {},
   "outputs": [
    {
     "data": {
      "text/html": [
       "<div>\n",
       "<style scoped>\n",
       "    .dataframe tbody tr th:only-of-type {\n",
       "        vertical-align: middle;\n",
       "    }\n",
       "\n",
       "    .dataframe tbody tr th {\n",
       "        vertical-align: top;\n",
       "    }\n",
       "\n",
       "    .dataframe thead th {\n",
       "        text-align: right;\n",
       "    }\n",
       "</style>\n",
       "<table border=\"1\" class=\"dataframe\">\n",
       "  <thead>\n",
       "    <tr style=\"text-align: right;\">\n",
       "      <th></th>\n",
       "      <th>name</th>\n",
       "      <th>id_number</th>\n",
       "      <th>gender</th>\n",
       "      <th>class</th>\n",
       "    </tr>\n",
       "  </thead>\n",
       "  <tbody>\n",
       "    <tr>\n",
       "      <th>0</th>\n",
       "      <td>John</td>\n",
       "      <td>662383</td>\n",
       "      <td>Male</td>\n",
       "      <td>Freshman</td>\n",
       "    </tr>\n",
       "    <tr>\n",
       "      <th>1</th>\n",
       "      <td>Sarah</td>\n",
       "      <td>750648</td>\n",
       "      <td>Female</td>\n",
       "      <td>Senior</td>\n",
       "    </tr>\n",
       "    <tr>\n",
       "      <th>2</th>\n",
       "      <td>Michael</td>\n",
       "      <td>498152</td>\n",
       "      <td>Male</td>\n",
       "      <td>Junior</td>\n",
       "    </tr>\n",
       "    <tr>\n",
       "      <th>3</th>\n",
       "      <td>Alice</td>\n",
       "      <td>689413</td>\n",
       "      <td>Female</td>\n",
       "      <td>Sophomore</td>\n",
       "    </tr>\n",
       "    <tr>\n",
       "      <th>4</th>\n",
       "      <td>Diana</td>\n",
       "      <td>337491</td>\n",
       "      <td>Female</td>\n",
       "      <td>Freshman</td>\n",
       "    </tr>\n",
       "  </tbody>\n",
       "</table>\n",
       "</div>"
      ],
      "text/plain": [
       "      name  id_number  gender      class\n",
       "0     John     662383    Male   Freshman\n",
       "1    Sarah     750648  Female     Senior\n",
       "2  Michael     498152    Male     Junior\n",
       "3    Alice     689413  Female  Sophomore\n",
       "4    Diana     337491  Female   Freshman"
      ]
     },
     "execution_count": 4,
     "metadata": {},
     "output_type": "execute_result"
    }
   ],
   "source": [
    "# show part of a dataframe\n",
    "df.head()\n"
   ]
  },
  {
   "cell_type": "code",
   "execution_count": 5,
   "id": "cdbc5117-57ec-4df4-80cd-44c1c7c35711",
   "metadata": {},
   "outputs": [
    {
     "name": "stdout",
     "output_type": "stream",
     "text": [
      "<class 'pandas.core.frame.DataFrame'>\n",
      "RangeIndex: 6 entries, 0 to 5\n",
      "Data columns (total 4 columns):\n",
      " #   Column     Non-Null Count  Dtype \n",
      "---  ------     --------------  ----- \n",
      " 0   name       6 non-null      object\n",
      " 1   id_number  6 non-null      int64 \n",
      " 2   gender     6 non-null      object\n",
      " 3   class      6 non-null      object\n",
      "dtypes: int64(1), object(3)\n",
      "memory usage: 320.0+ bytes\n"
     ]
    }
   ],
   "source": [
    "df.info()"
   ]
  },
  {
   "cell_type": "markdown",
   "id": "56998051-c805-430c-bac9-948b83fd6b47",
   "metadata": {},
   "source": [
    "In a Jupyter notebook this prints out nicely in a table format. \n",
    "\n",
    "### Pandas Series\n",
    "\n",
    "Now, say we wanted to just look at the list of names. We use the column heading in square brackets."
   ]
  },
  {
   "cell_type": "code",
   "execution_count": 6,
   "id": "3eb343f5-6413-4bd9-a4ac-14fe95e00627",
   "metadata": {},
   "outputs": [
    {
     "data": {
      "text/plain": [
       "0       John\n",
       "1      Sarah\n",
       "2    Michael\n",
       "3      Alice\n",
       "4      Diana\n",
       "5    Charlie\n",
       "Name: name, dtype: object"
      ]
     },
     "execution_count": 6,
     "metadata": {},
     "output_type": "execute_result"
    }
   ],
   "source": [
    "df['name']"
   ]
  },
  {
   "cell_type": "markdown",
   "id": "967d5524-97ac-4dbd-ba87-325c68ab615d",
   "metadata": {},
   "source": [
    "A single column from a dataframe is called a *series*. There are different methods (i.e. functions) in pandas that work on series than on dataframes. It can sometimes be confusing which works for each object. Don't be afraid to search online for assistance if you get confused.\n",
    "\n",
    "We can also get multiple columns using double square brackets. We can also get them in any order we like."
   ]
  },
  {
   "cell_type": "code",
   "execution_count": 7,
   "id": "2a6adc05-4597-43aa-8edf-932ffff76593",
   "metadata": {},
   "outputs": [
    {
     "data": {
      "text/html": [
       "<div>\n",
       "<style scoped>\n",
       "    .dataframe tbody tr th:only-of-type {\n",
       "        vertical-align: middle;\n",
       "    }\n",
       "\n",
       "    .dataframe tbody tr th {\n",
       "        vertical-align: top;\n",
       "    }\n",
       "\n",
       "    .dataframe thead th {\n",
       "        text-align: right;\n",
       "    }\n",
       "</style>\n",
       "<table border=\"1\" class=\"dataframe\">\n",
       "  <thead>\n",
       "    <tr style=\"text-align: right;\">\n",
       "      <th></th>\n",
       "      <th>name</th>\n",
       "      <th>id_number</th>\n",
       "    </tr>\n",
       "  </thead>\n",
       "  <tbody>\n",
       "    <tr>\n",
       "      <th>0</th>\n",
       "      <td>John</td>\n",
       "      <td>662383</td>\n",
       "    </tr>\n",
       "    <tr>\n",
       "      <th>1</th>\n",
       "      <td>Sarah</td>\n",
       "      <td>750648</td>\n",
       "    </tr>\n",
       "    <tr>\n",
       "      <th>2</th>\n",
       "      <td>Michael</td>\n",
       "      <td>498152</td>\n",
       "    </tr>\n",
       "    <tr>\n",
       "      <th>3</th>\n",
       "      <td>Alice</td>\n",
       "      <td>689413</td>\n",
       "    </tr>\n",
       "    <tr>\n",
       "      <th>4</th>\n",
       "      <td>Diana</td>\n",
       "      <td>337491</td>\n",
       "    </tr>\n",
       "    <tr>\n",
       "      <th>5</th>\n",
       "      <td>Charlie</td>\n",
       "      <td>839573</td>\n",
       "    </tr>\n",
       "  </tbody>\n",
       "</table>\n",
       "</div>"
      ],
      "text/plain": [
       "      name  id_number\n",
       "0     John     662383\n",
       "1    Sarah     750648\n",
       "2  Michael     498152\n",
       "3    Alice     689413\n",
       "4    Diana     337491\n",
       "5  Charlie     839573"
      ]
     },
     "execution_count": 7,
     "metadata": {},
     "output_type": "execute_result"
    }
   ],
   "source": [
    "df[['name', 'id_number']]"
   ]
  },
  {
   "cell_type": "code",
   "execution_count": 8,
   "id": "60b71a24-10ad-485e-bea6-f93bfd324d50",
   "metadata": {},
   "outputs": [
    {
     "data": {
      "text/html": [
       "<div>\n",
       "<style scoped>\n",
       "    .dataframe tbody tr th:only-of-type {\n",
       "        vertical-align: middle;\n",
       "    }\n",
       "\n",
       "    .dataframe tbody tr th {\n",
       "        vertical-align: top;\n",
       "    }\n",
       "\n",
       "    .dataframe thead th {\n",
       "        text-align: right;\n",
       "    }\n",
       "</style>\n",
       "<table border=\"1\" class=\"dataframe\">\n",
       "  <thead>\n",
       "    <tr style=\"text-align: right;\">\n",
       "      <th></th>\n",
       "      <th>id_number</th>\n",
       "      <th>name</th>\n",
       "    </tr>\n",
       "  </thead>\n",
       "  <tbody>\n",
       "    <tr>\n",
       "      <th>0</th>\n",
       "      <td>662383</td>\n",
       "      <td>John</td>\n",
       "    </tr>\n",
       "    <tr>\n",
       "      <th>1</th>\n",
       "      <td>750648</td>\n",
       "      <td>Sarah</td>\n",
       "    </tr>\n",
       "    <tr>\n",
       "      <th>2</th>\n",
       "      <td>498152</td>\n",
       "      <td>Michael</td>\n",
       "    </tr>\n",
       "    <tr>\n",
       "      <th>3</th>\n",
       "      <td>689413</td>\n",
       "      <td>Alice</td>\n",
       "    </tr>\n",
       "    <tr>\n",
       "      <th>4</th>\n",
       "      <td>337491</td>\n",
       "      <td>Diana</td>\n",
       "    </tr>\n",
       "    <tr>\n",
       "      <th>5</th>\n",
       "      <td>839573</td>\n",
       "      <td>Charlie</td>\n",
       "    </tr>\n",
       "  </tbody>\n",
       "</table>\n",
       "</div>"
      ],
      "text/plain": [
       "   id_number     name\n",
       "0     662383     John\n",
       "1     750648    Sarah\n",
       "2     498152  Michael\n",
       "3     689413    Alice\n",
       "4     337491    Diana\n",
       "5     839573  Charlie"
      ]
     },
     "execution_count": 8,
     "metadata": {},
     "output_type": "execute_result"
    }
   ],
   "source": [
    "df[['id_number', 'name']]"
   ]
  },
  {
   "cell_type": "markdown",
   "id": "11de040b-7826-4f9d-b33d-4e7da46d3df0",
   "metadata": {},
   "source": [
    "#### Try it Yourself\n",
    "\n",
    "Get the `name`, `gender`, and `class` from the dataframe `df`."
   ]
  },
  {
   "cell_type": "code",
   "execution_count": 9,
   "id": "eca25945-f323-4bbf-8b0b-f3e610502300",
   "metadata": {},
   "outputs": [
    {
     "data": {
      "text/html": [
       "<div>\n",
       "<style scoped>\n",
       "    .dataframe tbody tr th:only-of-type {\n",
       "        vertical-align: middle;\n",
       "    }\n",
       "\n",
       "    .dataframe tbody tr th {\n",
       "        vertical-align: top;\n",
       "    }\n",
       "\n",
       "    .dataframe thead th {\n",
       "        text-align: right;\n",
       "    }\n",
       "</style>\n",
       "<table border=\"1\" class=\"dataframe\">\n",
       "  <thead>\n",
       "    <tr style=\"text-align: right;\">\n",
       "      <th></th>\n",
       "      <th>name</th>\n",
       "      <th>gender</th>\n",
       "      <th>class</th>\n",
       "    </tr>\n",
       "  </thead>\n",
       "  <tbody>\n",
       "    <tr>\n",
       "      <th>0</th>\n",
       "      <td>John</td>\n",
       "      <td>Male</td>\n",
       "      <td>Freshman</td>\n",
       "    </tr>\n",
       "    <tr>\n",
       "      <th>1</th>\n",
       "      <td>Sarah</td>\n",
       "      <td>Female</td>\n",
       "      <td>Senior</td>\n",
       "    </tr>\n",
       "    <tr>\n",
       "      <th>2</th>\n",
       "      <td>Michael</td>\n",
       "      <td>Male</td>\n",
       "      <td>Junior</td>\n",
       "    </tr>\n",
       "    <tr>\n",
       "      <th>3</th>\n",
       "      <td>Alice</td>\n",
       "      <td>Female</td>\n",
       "      <td>Sophomore</td>\n",
       "    </tr>\n",
       "    <tr>\n",
       "      <th>4</th>\n",
       "      <td>Diana</td>\n",
       "      <td>Female</td>\n",
       "      <td>Freshman</td>\n",
       "    </tr>\n",
       "    <tr>\n",
       "      <th>5</th>\n",
       "      <td>Charlie</td>\n",
       "      <td>Male</td>\n",
       "      <td>Senior</td>\n",
       "    </tr>\n",
       "  </tbody>\n",
       "</table>\n",
       "</div>"
      ],
      "text/plain": [
       "      name  gender      class\n",
       "0     John    Male   Freshman\n",
       "1    Sarah  Female     Senior\n",
       "2  Michael    Male     Junior\n",
       "3    Alice  Female  Sophomore\n",
       "4    Diana  Female   Freshman\n",
       "5  Charlie    Male     Senior"
      ]
     },
     "execution_count": 9,
     "metadata": {},
     "output_type": "execute_result"
    }
   ],
   "source": [
    "df[['name', 'gender', 'class']]\n"
   ]
  },
  {
   "cell_type": "code",
   "execution_count": null,
   "id": "5fd610ce-848d-4b29-ab0e-70371fb1b134",
   "metadata": {},
   "outputs": [],
   "source": [
    "# name and class"
   ]
  },
  {
   "cell_type": "markdown",
   "id": "71217168-f18c-403c-a72d-a41caac1f0ba",
   "metadata": {},
   "source": [
    "## Working with Categorical Data"
   ]
  },
  {
   "attachments": {},
   "cell_type": "markdown",
   "id": "b751d779-c575-4ec4-8eb8-bea5b1b1f8ca",
   "metadata": {},
   "source": [
    "### Frequency Table\n",
    "\n",
    "A frequency table gives us a means to summarize survey data.\n",
    "\n",
    "> **Frequency Table**\n",
    "A frequency table is a table with two columns. One column lists the categories, and another for the frequencies with which the items in the categories occur (how many items fit into each category).\n",
    "\n",
    "To demonstrate what this looks like, we'll discuss a simple example involving data collected that asked which social media platform a person uses most. The responses were 'Instagram', 'Twitter', 'Snapchat', 'None', and 'Facebook'.\n",
    "\n",
    "#### Creating a frequency table\n",
    "\n",
    "In this example, our responses are just given as a list of values. From this we'll construct a dataframe and then determine the count for each response. We'll separate out each step so we can see what's happening at each stage."
   ]
  },
  {
   "cell_type": "code",
   "execution_count": 11,
   "id": "ec9f58d7-e942-46fe-9406-edf161a101b3",
   "metadata": {},
   "outputs": [
    {
     "data": {
      "text/html": [
       "<div>\n",
       "<style scoped>\n",
       "    .dataframe tbody tr th:only-of-type {\n",
       "        vertical-align: middle;\n",
       "    }\n",
       "\n",
       "    .dataframe tbody tr th {\n",
       "        vertical-align: top;\n",
       "    }\n",
       "\n",
       "    .dataframe thead th {\n",
       "        text-align: right;\n",
       "    }\n",
       "</style>\n",
       "<table border=\"1\" class=\"dataframe\">\n",
       "  <thead>\n",
       "    <tr style=\"text-align: right;\">\n",
       "      <th></th>\n",
       "      <th>Platform</th>\n",
       "    </tr>\n",
       "  </thead>\n",
       "  <tbody>\n",
       "    <tr>\n",
       "      <th>0</th>\n",
       "      <td>None</td>\n",
       "    </tr>\n",
       "    <tr>\n",
       "      <th>1</th>\n",
       "      <td>Twitter</td>\n",
       "    </tr>\n",
       "    <tr>\n",
       "      <th>2</th>\n",
       "      <td>Snapchat</td>\n",
       "    </tr>\n",
       "    <tr>\n",
       "      <th>3</th>\n",
       "      <td>Snapchat</td>\n",
       "    </tr>\n",
       "    <tr>\n",
       "      <th>4</th>\n",
       "      <td>Twitter</td>\n",
       "    </tr>\n",
       "    <tr>\n",
       "      <th>5</th>\n",
       "      <td>Facebook</td>\n",
       "    </tr>\n",
       "    <tr>\n",
       "      <th>6</th>\n",
       "      <td>Instagram</td>\n",
       "    </tr>\n",
       "    <tr>\n",
       "      <th>7</th>\n",
       "      <td>Snapchat</td>\n",
       "    </tr>\n",
       "    <tr>\n",
       "      <th>8</th>\n",
       "      <td>Twitter</td>\n",
       "    </tr>\n",
       "    <tr>\n",
       "      <th>9</th>\n",
       "      <td>None</td>\n",
       "    </tr>\n",
       "  </tbody>\n",
       "</table>\n",
       "</div>"
      ],
      "text/plain": [
       "    Platform\n",
       "0       None\n",
       "1    Twitter\n",
       "2   Snapchat\n",
       "3   Snapchat\n",
       "4    Twitter\n",
       "5   Facebook\n",
       "6  Instagram\n",
       "7   Snapchat\n",
       "8    Twitter\n",
       "9       None"
      ]
     },
     "execution_count": 11,
     "metadata": {},
     "output_type": "execute_result"
    }
   ],
   "source": [
    "# data from survey responses.\n",
    "raw_data = ['None', 'Twitter', 'Snapchat', 'Snapchat', 'Twitter', 'Facebook', 'Instagram', 'Snapchat', 'Twitter', 'None', 'Snapchat', 'Instagram', 'Instagram', 'Facebook', 'None', 'Instagram', 'Snapchat', 'Twitter', 'Snapchat', 'Instagram', 'Instagram', 'Twitter', 'Snapchat', 'Twitter', 'Facebook', 'None', 'Instagram', 'Instagram', 'Twitter', 'Instagram']\n",
    "# construct a dataframe\n",
    "sm = pd.DataFrame(raw_data, columns=['Platform'])\n",
    "# display the dataframe constructed\n",
    "sm.head(10)"
   ]
  },
  {
   "cell_type": "markdown",
   "id": "c38fa7bb-f8b2-49d9-bcf9-c82569bc2a48",
   "metadata": {},
   "source": [
    "To get the counts for each category we apply the `value_counts()` function to the `'Platform'` column of our dataframe. This will create a series of our value counts. Storing this in a variable will make it easier to use later in constructing our plots."
   ]
  },
  {
   "cell_type": "code",
   "execution_count": 12,
   "id": "8e3784d7-6507-4623-8ed2-f8798e6351b8",
   "metadata": {},
   "outputs": [
    {
     "data": {
      "text/plain": [
       "Platform\n",
       "Instagram    9\n",
       "Twitter      7\n",
       "Snapchat     7\n",
       "None         4\n",
       "Facebook     3\n",
       "Name: count, dtype: int64"
      ]
     },
     "execution_count": 12,
     "metadata": {},
     "output_type": "execute_result"
    }
   ],
   "source": [
    "# make a series that stores the counts of each platform\n",
    "sm_counts = sm['Platform'].value_counts()\n",
    "sm_counts"
   ]
  },
  {
   "cell_type": "markdown",
   "id": "12728a1e-c06b-41ee-9f64-4173b111630b",
   "metadata": {},
   "source": [
    "The result is a frequency table - it shows us each category and the count of responses in each category. Much easier than doing this by hand!\n",
    "\n",
    "#### Try it Yourself\n",
    "\n",
    "Create a series called `animal_counts` that contains the entries for a frequency table (like the output from the cell above) using the following dataset.\n"
   ]
  },
  {
   "cell_type": "code",
   "execution_count": null,
   "id": "48e00c2a-4f5e-4091-a788-80d5e8295e6f",
   "metadata": {},
   "outputs": [],
   "source": [
    "animals_data = ['Mammal', 'Mammal', 'Reptile', 'Bird', 'Mammal', 'Amphibian', 'Mammal', 'Mammal', 'Mammal', 'Reptile', 'Mammal', 'Bird', 'Mammal', 'Bird', 'Reptile', 'Reptile', 'Amphibian', 'Mammal', 'Bird', 'Mammal', 'Amphibian', 'Mammal', 'Mammal', 'Bird']\n",
    "# construct a dataframe\n",
    "animals = pd.DataFrame(animals_data, columns=['animal_type'])\n",
    "# store the value counts in a pandas series\n",
    "animal_counts = animals['animal_type'].value_counts()\n",
    "# print the series\n",
    "animal_counts"
   ]
  },
  {
   "cell_type": "markdown",
   "id": "9b24902f-20d9-4e32-ba3a-aaaaebfb86af",
   "metadata": {},
   "source": [
    "### Bar Graphs\n",
    "\n",
    "Tables are nice ways of displaying data, but often we want different ways to visualize our data. There a ton of different ways data can be visually represented. You want to choose the one that helps you see trends or shows results that are easier to understand. The most basic of these is a bar graph.\n",
    "\n",
    "> **Bar Graph**  \n",
    "A bar graph is a graph that displays a bar for each category with the length of each bar indicating the frequency of that category.\n",
    "\n",
    "\n",
    "#### Creating a Bar Graph\n",
    "\n",
    "Now we'll make a bar graph using our `sm_counts` we stored earlier. AThis is where we use the library [Matplotlib](https://matplotlib.org/stable/users/index.html)."
   ]
  },
  {
   "cell_type": "code",
   "execution_count": 13,
   "id": "53b9b0ce-8cdb-4b3d-b488-8282a785350b",
   "metadata": {},
   "outputs": [
    {
     "data": {
      "text/plain": [
       "Text(0, 0.5, 'Count')"
      ]
     },
     "execution_count": 13,
     "metadata": {},
     "output_type": "execute_result"
    },
    {
     "data": {
      "image/png": "[encoded data removed]",
      "text/plain": [
       "<Figure size 640x480 with 1 Axes>"
      ]
     },
     "metadata": {},
     "output_type": "display_data"
    }
   ],
   "source": [
    "plt.bar(sm_counts.index, sm_counts.values)\n",
    "plt.title('Social Media Platforms') # gives plot a title\n",
    "plt.xlabel('Platform') # labels the x axis\n",
    "plt.ylabel('Count') # labels the y axis"
   ]
  },
  {
   "cell_type": "markdown",
   "id": "3b2ac8b1-51b2-47f6-b1b3-7c590d5fdda1",
   "metadata": {},
   "source": [
    "We can change colors for each of our bars as well. You can find more named colors in the [documentation](https://matplotlib.org/stable/gallery/color/named_colors)."
   ]
  },
  {
   "cell_type": "code",
   "execution_count": 14,
   "id": "cc39e8c5-05c6-4748-9eb3-004610795539",
   "metadata": {},
   "outputs": [
    {
     "data": {
      "text/plain": [
       "Text(0, 0.5, 'Count')"
      ]
     },
     "execution_count": 14,
     "metadata": {},
     "output_type": "execute_result"
    },
    {
     "data": {
      "image/png": "[encoded data removed]",
      "text/plain": [
       "<Figure size 640x480 with 1 Axes>"
      ]
     },
     "metadata": {},
     "output_type": "display_data"
    }
   ],
   "source": [
    "plt.bar(sm_counts.index, sm_counts.values, color=['deeppink', 'deepskyblue', 'gold', 'gray', 'tab:blue'])\n",
    "plt.title('Social Media Platforms') # gives plot a title\n",
    "plt.xlabel('Platform') # labels the x axis\n",
    "plt.ylabel('Count') # labels the y axis"
   ]
  },
  {
   "cell_type": "markdown",
   "id": "370d4ed8-188b-4760-98bf-aa3d6cdd21d3",
   "metadata": {},
   "source": [
    "There are a ton of ways to customize your plots. Options can be found in the documentation.\n",
    "\n",
    "#### Try it Yourself\n",
    "\n",
    "Use your `animal_counts` data you constructed above to make a bar graph of the animal counts. Make sure your plot has a relevant title, and x and y axis labels. Change the color of the bars to something other than the default blue."
   ]
  },
  {
   "cell_type": "code",
   "execution_count": null,
   "id": "75d8af4b-f767-4230-a404-1e98b8da7dbc",
   "metadata": {},
   "outputs": [],
   "source": [
    "# create bar chart\n",
    "plt.bar(animal_counts.index, animal_counts.values, color=['tab:green'])\n",
    "# add title & axis labels\n",
    "plt.title('Animal Counts') # gives plot a title\n",
    "plt.xlabel('Animal Type') # labels the x axis\n",
    "plt.ylabel('Count') # labels the y axis\n",
    "\n"
   ]
  },
  {
   "cell_type": "markdown",
   "id": "57908e88-6fcb-4eec-a497-e8ba77cdec6a",
   "metadata": {},
   "source": [
    "### Pie Charts\n",
    "\n",
    "Another common way to present data is in a Pie Chart. A pie chart uses percentages (or relative frequencies) rather than raw counts. In other words, a pie chart shows us how each data category is relative to the total number of categories. \n",
    "\n",
    "> **Pie Chart**  \n",
    "> A pie chart is a circle with wedges cut of varying sizes marked out like slices of pie or pizza.  The relative sizes of the wedges correspond to the relative frequencies of the categories.\n",
    "\n",
    "\n",
    "#### Create a Pie Chart\n",
    "First we need to find the percent of the total number of responses for each response category in our social media data. We can do this directly by using the `normalize` option in `value_counts()`.\n"
   ]
  },
  {
   "cell_type": "code",
   "execution_count": 16,
   "id": "583fd419-76ef-4680-8900-f7c887b99089",
   "metadata": {},
   "outputs": [
    {
     "data": {
      "text/plain": [
       "Platform\n",
       "Instagram    0.300000\n",
       "Twitter      0.233333\n",
       "Snapchat     0.233333\n",
       "None         0.133333\n",
       "Facebook     0.100000\n",
       "Name: proportion, dtype: float64"
      ]
     },
     "execution_count": 16,
     "metadata": {},
     "output_type": "execute_result"
    }
   ],
   "source": [
    "# save in a new series\n",
    "sm_percents = sm['Platform'].value_counts(normalize=1)\n",
    "sm_percents"
   ]
  },
  {
   "cell_type": "code",
   "execution_count": 17,
   "id": "fa6e59c2-fade-49ff-a85e-730f165374eb",
   "metadata": {},
   "outputs": [
    {
     "data": {
      "image/png": "[encoded data removed]",
      "text/plain": [
       "<Figure size 640x480 with 1 Axes>"
      ]
     },
     "metadata": {},
     "output_type": "display_data"
    }
   ],
   "source": [
    "# make pie chart\n",
    "plt.pie(x=sm_percents.values, labels=sm_percents.index, autopct='%1.2f%%');"
   ]
  },
  {
   "cell_type": "markdown",
   "id": "739d32ec-5d9b-4441-ab1d-b874e6ca2465",
   "metadata": {},
   "source": [
    "**Caution with Pie Charts**  \n",
    "Be careful with using pie charts and even more careful with data presented in a pie chart. Because relative frequencies are being used it's a lot more difficult to see some key information. For example, how many people were surveyed? 10? 100? 1000? Pie charts a great way to *misrepresent* data. Always be wary of them when looking at results of studies and always ask yourself if it's the best way to present data in your own work.\n",
    "\n",
    "#### Try it Yourself\n",
    "\n",
    "Use your `animal_counts` data you constructed above to make a pie chart of the animal counts. Make sure your plot has a relevant title. Don't forget that first you need to calculate the percents."
   ]
  },
  {
   "cell_type": "code",
   "execution_count": null,
   "id": "45b70c53-93c6-4f16-9f30-887f045000d7",
   "metadata": {},
   "outputs": [],
   "source": [
    "## calculate percents for animal counts\n",
    "a_percents = (animal_counts.values / animal_counts.values.sum())*100\n",
    "## save in new series named animal_percents\n",
    "animal_percents = animals['animal_type'].value_counts(normalize=1)\n",
    "## generate pie chart\n",
    "plt.pie(x=animal_percents.values, labels=animal_percents.index, autopct='%1.2f%%');"
   ]
  },
  {
   "cell_type": "markdown",
   "id": "7b7baeff-9205-4378-978b-9424d2b85cb6",
   "metadata": {},
   "source": [
    "## Working with Quantitative Data\n",
    "Now we'll see how to handle quantitative data. \n",
    "\n",
    "### Working with Larger Data Sets with Pandas\n",
    "\n",
    "Now that we've seen how to handle some basic data sets we need to look at how we can actually read in data from a larger data set that is stored in an outside file.\n",
    "\n",
    "The most common file type we will use is called a `.csv` file. This stands for *comma separated values*. You can save a spreadsheet created in Excel or Google Sheets or any other spreadsheet program as a `.csv` file.\n",
    "\n",
    "To import the data from our file we need to use the pandas function `read_csv`. When we use this function, we store the output in a variable to store the data as a pandas dataframe."
   ]
  },
  {
   "cell_type": "code",
   "execution_count": 19,
   "id": "68fb77bc-172b-433d-b16f-b7d4bdbdddb3",
   "metadata": {},
   "outputs": [
    {
     "data": {
      "text/html": [
       "<div>\n",
       "<style scoped>\n",
       "    .dataframe tbody tr th:only-of-type {\n",
       "        vertical-align: middle;\n",
       "    }\n",
       "\n",
       "    .dataframe tbody tr th {\n",
       "        vertical-align: top;\n",
       "    }\n",
       "\n",
       "    .dataframe thead th {\n",
       "        text-align: right;\n",
       "    }\n",
       "</style>\n",
       "<table border=\"1\" class=\"dataframe\">\n",
       "  <thead>\n",
       "    <tr style=\"text-align: right;\">\n",
       "      <th></th>\n",
       "      <th>Team</th>\n",
       "      <th>PTS</th>\n",
       "      <th>W</th>\n",
       "      <th>L</th>\n",
       "      <th>T</th>\n",
       "      <th>GF</th>\n",
       "      <th>GA</th>\n",
       "    </tr>\n",
       "  </thead>\n",
       "  <tbody>\n",
       "    <tr>\n",
       "      <th>0</th>\n",
       "      <td>Portland Thorns FC</td>\n",
       "      <td>44</td>\n",
       "      <td>13</td>\n",
       "      <td>6</td>\n",
       "      <td>5</td>\n",
       "      <td>33</td>\n",
       "      <td>17</td>\n",
       "    </tr>\n",
       "    <tr>\n",
       "      <th>1</th>\n",
       "      <td>OL Reign</td>\n",
       "      <td>42</td>\n",
       "      <td>13</td>\n",
       "      <td>8</td>\n",
       "      <td>3</td>\n",
       "      <td>37</td>\n",
       "      <td>24</td>\n",
       "    </tr>\n",
       "    <tr>\n",
       "      <th>2</th>\n",
       "      <td>Washington Spirit</td>\n",
       "      <td>39</td>\n",
       "      <td>11</td>\n",
       "      <td>7</td>\n",
       "      <td>6</td>\n",
       "      <td>29</td>\n",
       "      <td>26</td>\n",
       "    </tr>\n",
       "    <tr>\n",
       "      <th>3</th>\n",
       "      <td>Chicago Red Stars</td>\n",
       "      <td>38</td>\n",
       "      <td>11</td>\n",
       "      <td>8</td>\n",
       "      <td>5</td>\n",
       "      <td>28</td>\n",
       "      <td>28</td>\n",
       "    </tr>\n",
       "    <tr>\n",
       "      <th>4</th>\n",
       "      <td>NJ/NY Gotham FC</td>\n",
       "      <td>35</td>\n",
       "      <td>8</td>\n",
       "      <td>5</td>\n",
       "      <td>11</td>\n",
       "      <td>29</td>\n",
       "      <td>21</td>\n",
       "    </tr>\n",
       "  </tbody>\n",
       "</table>\n",
       "</div>"
      ],
      "text/plain": [
       "                 Team  PTS   W  L   T  GF  GA\n",
       "0  Portland Thorns FC   44  13  6   5  33  17\n",
       "1            OL Reign   42  13  8   3  37  24\n",
       "2   Washington Spirit   39  11  7   6  29  26\n",
       "3   Chicago Red Stars   38  11  8   5  28  28\n",
       "4     NJ/NY Gotham FC   35   8  5  11  29  21"
      ]
     },
     "execution_count": 19,
     "metadata": {},
     "output_type": "execute_result"
    }
   ],
   "source": [
    "nwsl = pd.read_csv('NWSL_data.csv')\n",
    "nwsl.head()"
   ]
  },
  {
   "cell_type": "markdown",
   "id": "1ec0f69c-68af-4fc2-b2e5-5b8a32cda7fb",
   "metadata": {},
   "source": [
    "> This data set is from the 2021 National Women’s Soccer League season. The columns are standings points (PTS; teams earn three points for a win and one point for a tie), wins (W), losses (L), ties (T), goals scored by that team (GF), and goals scored against that team (GA).\n",
    "\n",
    "Now that the data from the `.csv` file is stored in a dataframe, we can easily access a lot of information and do some data analysis. For now, we're just going to explore some of the basics of how to navigate a dataframe.\n",
    "\n",
    "Say we wanted to focus on a particular column or subset of columns. Each column has a heading name that allows us to reference it. We do this by using the heading name and square brackets as shown below."
   ]
  },
  {
   "cell_type": "code",
   "execution_count": 20,
   "id": "23020e26-a2dc-4466-90eb-d2e718cb6024",
   "metadata": {},
   "outputs": [
    {
     "data": {
      "text/plain": [
       "0        Portland Thorns FC\n",
       "1                  OL Reign\n",
       "2         Washington Spirit\n",
       "3         Chicago Red Stars\n",
       "4           NJ/NY Gotham FC\n",
       "5    North Carolina Courage\n",
       "6              Houston Dash\n",
       "7             Orlando Pride\n",
       "8      Racing Louisville FC\n",
       "9       Kansas City Current\n",
       "Name: Team, dtype: object"
      ]
     },
     "execution_count": 20,
     "metadata": {},
     "output_type": "execute_result"
    }
   ],
   "source": [
    "nwsl['Team']"
   ]
  },
  {
   "cell_type": "code",
   "execution_count": 21,
   "id": "8dff8451-bd49-4efd-910a-ff69410e91b7",
   "metadata": {},
   "outputs": [
    {
     "data": {
      "text/html": [
       "<div>\n",
       "<style scoped>\n",
       "    .dataframe tbody tr th:only-of-type {\n",
       "        vertical-align: middle;\n",
       "    }\n",
       "\n",
       "    .dataframe tbody tr th {\n",
       "        vertical-align: top;\n",
       "    }\n",
       "\n",
       "    .dataframe thead th {\n",
       "        text-align: right;\n",
       "    }\n",
       "</style>\n",
       "<table border=\"1\" class=\"dataframe\">\n",
       "  <thead>\n",
       "    <tr style=\"text-align: right;\">\n",
       "      <th></th>\n",
       "      <th>Team</th>\n",
       "      <th>PTS</th>\n",
       "      <th>GF</th>\n",
       "      <th>GA</th>\n",
       "    </tr>\n",
       "  </thead>\n",
       "  <tbody>\n",
       "    <tr>\n",
       "      <th>0</th>\n",
       "      <td>Portland Thorns FC</td>\n",
       "      <td>44</td>\n",
       "      <td>33</td>\n",
       "      <td>17</td>\n",
       "    </tr>\n",
       "    <tr>\n",
       "      <th>1</th>\n",
       "      <td>OL Reign</td>\n",
       "      <td>42</td>\n",
       "      <td>37</td>\n",
       "      <td>24</td>\n",
       "    </tr>\n",
       "    <tr>\n",
       "      <th>2</th>\n",
       "      <td>Washington Spirit</td>\n",
       "      <td>39</td>\n",
       "      <td>29</td>\n",
       "      <td>26</td>\n",
       "    </tr>\n",
       "    <tr>\n",
       "      <th>3</th>\n",
       "      <td>Chicago Red Stars</td>\n",
       "      <td>38</td>\n",
       "      <td>28</td>\n",
       "      <td>28</td>\n",
       "    </tr>\n",
       "    <tr>\n",
       "      <th>4</th>\n",
       "      <td>NJ/NY Gotham FC</td>\n",
       "      <td>35</td>\n",
       "      <td>29</td>\n",
       "      <td>21</td>\n",
       "    </tr>\n",
       "    <tr>\n",
       "      <th>5</th>\n",
       "      <td>North Carolina Courage</td>\n",
       "      <td>33</td>\n",
       "      <td>28</td>\n",
       "      <td>23</td>\n",
       "    </tr>\n",
       "    <tr>\n",
       "      <th>6</th>\n",
       "      <td>Houston Dash</td>\n",
       "      <td>32</td>\n",
       "      <td>31</td>\n",
       "      <td>31</td>\n",
       "    </tr>\n",
       "    <tr>\n",
       "      <th>7</th>\n",
       "      <td>Orlando Pride</td>\n",
       "      <td>28</td>\n",
       "      <td>27</td>\n",
       "      <td>32</td>\n",
       "    </tr>\n",
       "    <tr>\n",
       "      <th>8</th>\n",
       "      <td>Racing Louisville FC</td>\n",
       "      <td>22</td>\n",
       "      <td>21</td>\n",
       "      <td>40</td>\n",
       "    </tr>\n",
       "    <tr>\n",
       "      <th>9</th>\n",
       "      <td>Kansas City Current</td>\n",
       "      <td>16</td>\n",
       "      <td>15</td>\n",
       "      <td>36</td>\n",
       "    </tr>\n",
       "  </tbody>\n",
       "</table>\n",
       "</div>"
      ],
      "text/plain": [
       "                     Team  PTS  GF  GA\n",
       "0      Portland Thorns FC   44  33  17\n",
       "1                OL Reign   42  37  24\n",
       "2       Washington Spirit   39  29  26\n",
       "3       Chicago Red Stars   38  28  28\n",
       "4         NJ/NY Gotham FC   35  29  21\n",
       "5  North Carolina Courage   33  28  23\n",
       "6            Houston Dash   32  31  31\n",
       "7           Orlando Pride   28  27  32\n",
       "8    Racing Louisville FC   22  21  40\n",
       "9     Kansas City Current   16  15  36"
      ]
     },
     "execution_count": 21,
     "metadata": {},
     "output_type": "execute_result"
    }
   ],
   "source": [
    "# select a subset of columns\n",
    "nwsl[['Team', 'PTS', 'GF', 'GA']]"
   ]
  },
  {
   "cell_type": "markdown",
   "id": "144964e3-c8b4-43d7-864c-c54334c9107c",
   "metadata": {},
   "source": []
  },
  {
   "cell_type": "markdown",
   "id": "06168d5c-2179-457b-a326-3553da29187d",
   "metadata": {},
   "source": [
    "We'll explore more of how to use Pandas in the future. Now that we have our data set read in, we'll see how we can create a histogram."
   ]
  },
  {
   "cell_type": "markdown",
   "id": "3f963474-26b7-47bc-981c-a7703ef0451f",
   "metadata": {},
   "source": [
    "### Histogram\n",
    "\n",
    "One of the most common ways to visualize the distribution of data is in a histogram. Suppose we wanted to understand the range of losses teams experience in a season. A bar chart won't really make sense for this. It doesn't give us a sense of the distribution of losses."
   ]
  },
  {
   "cell_type": "code",
   "execution_count": 23,
   "id": "9c512e4e-ed0c-4902-bea7-90b1a695236c",
   "metadata": {},
   "outputs": [
    {
     "data": {
      "text/plain": [
       "Text(0.5, 1.0, 'Standing Points NWSL Bar Graph')"
      ]
     },
     "execution_count": 23,
     "metadata": {},
     "output_type": "execute_result"
    },
    {
     "data": {
      "image/png": "[encoded data removed]",
      "text/plain": [
       "<Figure size 640x480 with 1 Axes>"
      ]
     },
     "metadata": {},
     "output_type": "display_data"
    }
   ],
   "source": [
    "loss_counts = nwsl['PTS'].value_counts()\n",
    "plt.bar(loss_counts.index, loss_counts.values)\n",
    "plt.title('Standing Points NWSL Bar Graph') # gives plot a title"
   ]
  },
  {
   "cell_type": "markdown",
   "id": "d2c4e264-f6c3-496d-9db9-419da7a16014",
   "metadata": {},
   "source": [
    "It's going to make more sense to treat the horizontal axis like a number line. We then establish equally spaced sub intervals or 'bins' in which we will collect values that fall in a particular range. This is type graph is called a histogram. \n",
    "\n",
    "> **Histogram**  \n",
    "> A histogram is like a bar graph, but where the horizontal axis is a number line.\n",
    "\n",
    "We organize values that fall in a certain sub intervals into 'bins'\n",
    "\n",
    "#### Creating a Histogram\n",
    "To see the difference we'll make a histogram from the `PTS` column from the `nwsl` dataframe."
   ]
  },
  {
   "cell_type": "code",
   "execution_count": 22,
   "id": "aa6c1dd9-c3a9-428f-b3c0-2a5c82ddb999",
   "metadata": {},
   "outputs": [
    {
     "data": {
      "image/png": "[encoded data removed]",
      "text/plain": [
       "<Figure size 640x480 with 1 Axes>"
      ]
     },
     "metadata": {},
     "output_type": "display_data"
    }
   ],
   "source": [
    "# create series of PTS column\n",
    "pts = nwsl['PTS']\n",
    "\n",
    "# create histogram\n",
    "pts.hist(bins=6, edgecolor='k')\n",
    "plt.title('Standing Points NWSL 2021')\n",
    "plt.grid(False)"
   ]
  },
  {
   "cell_type": "markdown",
   "id": "fbb454b4-bdf2-4a63-b722-b12208f23a34",
   "metadata": {},
   "source": [
    "The histogram looks much different than our bar graph for the same data. This graph gives us a better understanding about the range, max number of standing points, minimum number of standing points, and the most teams that earned a particular number of standing points.\n",
    "\n",
    "#### Try it Yourself\n",
    "\n",
    "Create a histogram using the `'GA'` data from the `nwsl` dataframe. Give your histogram a relevant title and change the color for the bars to something other than the default blue."
   ]
  },
  {
   "cell_type": "code",
   "execution_count": null,
   "id": "b0c85a97-4d7a-4448-9f84-38f443c0680e",
   "metadata": {},
   "outputs": [],
   "source": [
    "# create series \n",
    "\n",
    "\n",
    "# create histogram\n",
    "\n",
    "\n",
    "# create title\n"
   ]
  },
  {
   "cell_type": "markdown",
   "id": "96a54ce7-d10b-4edb-8ddb-cbcb1e689f69",
   "metadata": {},
   "source": [
    "## Distribution of Data\n",
    "\n",
    "An important aspect we will want to visualize is the *distribution* of the data, or how the data are spread out over the range of possible values. Are the data points evenly spread out or is it 'heavier' in some places? Are there more data points on the low side, the high side, or somewhere in the middle?\n",
    "\n",
    "There are several ways we can describe data distributions.\n",
    "\n",
    "* **Uniform** - data are equally distributed across the range\n",
    "* **Symmetric** -data are bunched up in the middle, then taper off in the same way above and below the middle\n",
    "* **Left-skewed** - data are bunched up at the high end or larger values, and taper off toward the low end or smaller values\n",
    "* **Right-skewed** - data are bunched up at the low end, and taper off toward the high end.\n",
    "\n",
    "See figure below for examples of what this looks like.\n",
    "\n",
    "<img src=\"https://openstax.org/apps/archive/20240130.204924/resources/2fe824aa11c616f6beee34ee0dc0676099a55610\" \n",
    "    alt=\"Drawing\" \n",
    "    style=\"width: 600px\"/>\n",
    "\n"
   ]
  },
  {
   "cell_type": "code",
   "execution_count": null,
   "id": "7badcc41-d097-4bac-a3f7-01525b56f439",
   "metadata": {},
   "outputs": [],
   "source": []
  }
 ],
 "metadata": {
  "kernelspec": {
   "display_name": "Python 3 (ipykernel)",
   "language": "python",
   "name": "python3"
  },
  "language_info": {
   "codemirror_mode": {
    "name": "ipython",
    "version": 3
   },
   "file_extension": ".py",
   "mimetype": "text/x-python",
   "name": "python",
   "nbconvert_exporter": "python",
   "pygments_lexer": "ipython3",
   "version": "3.10.13"
  }
 },
 "nbformat": 4,
 "nbformat_minor": 5
}
