{
 "cells": [
  {
   "cell_type": "markdown",
   "id": "af2f980f-e909-4bc5-92e7-8d1b1c039fc8",
   "metadata": {},
   "source": [
    "# 2.2 Writing Functions\n",
    "Now we have code that calculates basic probability for us. Up until now, we can use this code to calculate different probabilities by just changing those first variables and then re-running the cell. What would be better is if we had a *function* that allowed us to re-use this block of code over and over again without having to copy or change anything. This would also allow us to combine calculations more easily.\n",
    "\n",
    "Eventually, we will organize these functions in a single file to create a python *module* that so we can easily use our functions in future projects without needing to write anything new.\n",
    "\n",
    "## How to Write a Function in Python\n",
    "\n",
    "Creating a function has two stages. First, we need to *define* the function. Second, we will *call* the function. \n",
    "\n",
    "Let's relate this to what we've seen in other math classes. Suppose we want to define the function $f(x) = x^2$. This would have the python syntax seen below.\n",
    "```\n",
    "def f(x):\n",
    "    return x**2\n",
    "```\n",
    "\n",
    "The `def` tells python that we are defining a function, `f` is what we are naming the function (and how we will call it in the future), and `return` is what we will get as an output or result. A function does not always need a `return` statement. \n",
    "> &#128187; **Tech Note**  \n",
    "When using a jupyter notebook, the output will automatically be printed to the screen. This will not be the case if we called this function within a script file unless we include a print statement.\n"
   ]
  },
  {
   "cell_type": "code",
   "execution_count": null,
   "id": "da44090e-7ba3-49e1-9168-c9d2d2cb3c01",
   "metadata": {},
   "outputs": [],
   "source": [
    "def f(x):\n",
    "    return x**2"
   ]
  },
  {
   "cell_type": "code",
   "execution_count": null,
   "id": "72775476-1a67-4421-80e4-dce42fc8c010",
   "metadata": {},
   "outputs": [],
   "source": [
    "[f(2), f(4), f(10)]"
   ]
  },
  {
   "cell_type": "code",
   "execution_count": null,
   "id": "82c2f5b8-41a2-4976-a52d-dafac7215bfe",
   "metadata": {},
   "outputs": [],
   "source": [
    "vals = [1, 2, 3, 4, 5, 6, 7, 8, 9, 10]\n",
    "\n",
    "for i in range(len(vals)):\n",
    "    print(f(vals[i]))"
   ]
  },
  {
   "cell_type": "markdown",
   "id": "22398483-3e17-4cb9-8b58-1b7b0c35dc24",
   "metadata": {},
   "source": [
    "We can write a function to do almost anything in Python. We can also use functions in the definition of other functions."
   ]
  },
  {
   "cell_type": "code",
   "execution_count": null,
   "id": "8ee28667-8576-43aa-b905-ab02ea895481",
   "metadata": {},
   "outputs": [],
   "source": [
    "def add_two_strings(string1, string2):\n",
    "    full_string = string1 + ' ' + string2\n",
    "\n",
    "    return full_string\n",
    "\n",
    "\n",
    "def print_two_strings(string1, string2):\n",
    "\n",
    "    # here we call the other function and store the output in a variable\n",
    "    print_string = add_two_strings(string1, string2) \n",
    "\n",
    "    # this prints a statement along with our new string\n",
    "    print('This is my full string: ', print_string)"
   ]
  },
  {
   "cell_type": "code",
   "execution_count": null,
   "id": "9f855116-de1a-4814-aa62-082ddda44304",
   "metadata": {},
   "outputs": [],
   "source": [
    "thing_1 = 'hello'\n",
    "\n",
    "thing_2 = 'there'\n",
    "\n",
    "print_two_strings(thing_1, thing_2)"
   ]
  },
  {
   "cell_type": "markdown",
   "id": "6c4bdeb3-76da-44c0-b3fc-6de8eeb18647",
   "metadata": {},
   "source": [
    "## Re-writing code as functions\n",
    "\n",
    "Now let's write our basic probability calculator as a function. Our function will need to take in two inputs or *parameters*, and output a value."
   ]
  },
  {
   "cell_type": "code",
   "execution_count": null,
   "id": "aaaf5f4d-5588-4da2-92e5-ad7c06f922e8",
   "metadata": {
    "tags": []
   },
   "outputs": [],
   "source": []
  },
  {
   "cell_type": "code",
   "execution_count": null,
   "id": "65f71cbd-f4a9-4f3d-98ee-c63e1ce95a9e",
   "metadata": {},
   "outputs": [],
   "source": []
  },
  {
   "cell_type": "markdown",
   "id": "e52d3f99-709b-4056-8b16-6bdf6cb186ee",
   "metadata": {},
   "source": [
    "## Let's get fancy - add an optional print statement\n",
    "\n",
    "To do this, we'll add a boolean variable. We'll also set a default value in the input parameters. This will allow us to use the function the same way we defined it above, but will give us the option to print the output if we want to by adding the parameter when we use our function.\n",
    "\n",
    "Note that there are variety of ways to add the ability to print output in a function. This is one of the more staight forward ways that will allow us to practice writing conditional statements."
   ]
  },
  {
   "cell_type": "code",
   "execution_count": null,
   "id": "92869f98-18fd-485a-b34c-50db8bd7b390",
   "metadata": {},
   "outputs": [],
   "source": []
  },
  {
   "cell_type": "code",
   "execution_count": null,
   "id": "db812bb6-f0c2-4ff0-8192-3dd7d45a2841",
   "metadata": {},
   "outputs": [],
   "source": []
  },
  {
   "cell_type": "code",
   "execution_count": null,
   "id": "1642e08b-ef00-447a-b932-634e1e861cec",
   "metadata": {},
   "outputs": [],
   "source": []
  },
  {
   "cell_type": "code",
   "execution_count": null,
   "id": "7e21b252-33fe-4149-bbb9-00b4276b28de",
   "metadata": {},
   "outputs": [],
   "source": []
  }
 ],
 "metadata": {
  "kernelspec": {
   "display_name": "Python 3 (ipykernel)",
   "language": "python",
   "name": "python3"
  },
  "language_info": {
   "codemirror_mode": {
    "name": "ipython",
    "version": 3
   },
   "file_extension": ".py",
   "mimetype": "text/x-python",
   "name": "python",
   "nbconvert_exporter": "python",
   "pygments_lexer": "ipython3",
   "version": "3.10.13"
  }
 },
 "nbformat": 4,
 "nbformat_minor": 5
}
