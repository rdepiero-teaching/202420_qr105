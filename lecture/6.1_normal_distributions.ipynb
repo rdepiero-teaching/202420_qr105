{
 "cells": [
  {
   "cell_type": "markdown",
   "id": "77fda540-ca6d-4e4d-82c4-db238349b044",
   "metadata": {},
   "source": [
    "# 6.1 Normal Distributions\n",
    "\n",
    "\n",
    "Normal distributions are perfectly symmetric, bell-shaped curves. These distributions can be totally descibed with only two values: the mean ($\\mu$) and the standard deviation ($\\sigma$).  \n",
    "\n",
    "\n",
    "The most common application of normal distributions in education is when it comes to *standardized tests*. The SAT, ACT, AP exams, and MCAS tests are all examples of standardized tests. Standardizing tests is a way to keep the mean and standard deviation consistent year to year and also allows for a way to compare performance between students who took different tests. \n",
    "\n",
    "Note: We are all part of the era when standardized testing became the big thing in education. There are pros and cons to it. It can be an interesting and controversial aspect of our education system. A basic awareness of the math behind it can be super important."
   ]
  },
  {
   "cell_type": "code",
   "execution_count": null,
   "id": "b152de46-9be0-4a17-86aa-f602197b1577",
   "metadata": {},
   "outputs": [],
   "source": [
    "import numpy as np\n",
    "import matplotlib.pyplot as plt\n",
    "from scipy.stats import norm"
   ]
  },
  {
   "cell_type": "code",
   "execution_count": null,
   "id": "8a80564c-a48c-4e48-a7c9-09229855a01c",
   "metadata": {},
   "outputs": [],
   "source": [
    "# Mean of the distribution \n",
    "mean = 100\n",
    " \n",
    "# satndard deviation of the distribution\n",
    "standard_deviation  = 5\n",
    "  \n",
    "# size\n",
    "size = 100000\n",
    "  \n",
    "# creating a normal distribution data\n",
    "values = np.random.normal(mean, standard_deviation, size)\n",
    "  \n",
    "# plotting histograph\n",
    "plt.hist(values, 100)\n",
    "# plotting mean line\n",
    "plt.axvline(values.mean(), color='k', linestyle='dashed', linewidth=2)\n",
    "plt.show()"
   ]
  },
  {
   "cell_type": "markdown",
   "id": "bd0071ef-59fe-49d9-b1bf-2528095a3a9f",
   "metadata": {
    "jp-MarkdownHeadingCollapsed": true
   },
   "source": [
    "## "
   ]
  },
  {
   "cell_type": "markdown",
   "id": "90d2dea4-a4fb-48d4-90fd-16b3df9c84f7",
   "metadata": {},
   "source": [
    "## Identifying the Mean $\\mu$\n",
    "\n",
    "For a normal distribution, the mean can be identified as the point where the curve is at it's highest peak."
   ]
  },
  {
   "cell_type": "code",
   "execution_count": null,
   "id": "575e5da6-6545-4ebb-8cd5-ac14a06dc6ab",
   "metadata": {},
   "outputs": [],
   "source": [
    "x = np.arange(-20, 70, 0.1)\n",
    "\n",
    "sigma = 10\n",
    "\n",
    "#define multiple normal distributions\n",
    "plt.plot(x, norm.pdf(x, 15, sigma), label='μ:15, σ: 10')\n",
    "plt.plot(x, norm.pdf(x, 25, sigma), label='μ:25, σ: 10')\n",
    "plt.plot(x, norm.pdf(x, 35, sigma), label='μ:35, σ: 10')\n",
    "\n",
    "# plt.axvline(15, color='tab:blue', linestyle='dashed', linewidth=1)\n",
    "# plt.axvline(25, color='tab:orange', linestyle='dashed', linewidth=1)\n",
    "# plt.axvline(35, color='tab:green', linestyle='dashed', linewidth=1)\n",
    "\n",
    "plt.legend()"
   ]
  },
  {
   "cell_type": "markdown",
   "id": "984fe27b-74b5-44d9-9bfd-356dadb5ac5b",
   "metadata": {},
   "source": [
    "## Identifying the Standard Deviation $\\sigma$\n",
    "The standard deviation can be trickier to spot. This is the point where the curve changes from turning upwards to turning downwards. This is also referred to as an **inflection point**. "
   ]
  },
  {
   "cell_type": "code",
   "execution_count": null,
   "id": "ae761ea3-8e5c-4bf1-8438-8e1a7fb04982",
   "metadata": {},
   "outputs": [],
   "source": [
    "x = np.arange(-50, 50, 0.1)\n",
    "\n",
    "mu = 0\n",
    "\n",
    "#define multiple normal distributions\n",
    "plt.plot(x, norm.pdf(x, mu, 10), label='μ: 0, σ: 1')\n",
    "plt.plot(x, norm.pdf(x, mu, 15), label='μ:0, σ: 1.5')\n",
    "plt.plot(x, norm.pdf(x, mu, 20), label='μ:0, σ: 2')\n",
    "\n",
    "plt.legend()\n"
   ]
  },
  {
   "cell_type": "markdown",
   "id": "762eac28-9339-4573-8aa7-314476ccdaa7",
   "metadata": {},
   "source": [
    "## The 68-95-99.7 Rule\n",
    "\n",
    "If a dataset is perfectly normally distributed, then \n",
    "* approximately 68% of the data values will fall within one standard deviation of the mean\n",
    "* Approximately 95% of a normally distributed dataset will fall within 2 standard deviations of the mean.\n",
    "* Approximately 99.7% of normally distributed data fall within 3 standard deviations of the mean."
   ]
  },
  {
   "cell_type": "code",
   "execution_count": null,
   "id": "a8717ad2-f3b3-4585-b147-9a1c75bae96b",
   "metadata": {},
   "outputs": [],
   "source": [
    "x = np.arange(-5, 5, 0.001)\n",
    "\n",
    "mu = 0\n",
    "sigma = 1\n",
    "\n",
    "# plot normal distribution\n",
    "plt.plot(x, norm.pdf(x, mu, sigma), label='μ:15, σ: 10')\n",
    "# plot vertical lines\n",
    "plt.axvline(1, ymax=0.6, color='gray', linestyle='dashed', linewidth=1)\n",
    "plt.axvline(-1, ymax=0.6, color='gray', linestyle='dashed', linewidth=1)\n",
    "plt.axvline(2, ymax=0.18, color='tab:blue', linestyle='dashed', linewidth=1)\n",
    "plt.axvline(-2, ymax=0.18, color='tab:blue', linestyle='dashed', linewidth=1)\n",
    "plt.axvline(3, ymax=0.05, color='tab:green', linestyle='dashed', linewidth=1)\n",
    "plt.axvline(-3, ymax=0.05, color='tab:green', linestyle='dashed', linewidth=1)"
   ]
  },
  {
   "cell_type": "markdown",
   "id": "9902c2c9-ab3d-42a2-8310-54163973493b",
   "metadata": {},
   "source": [
    "## Standardized Scores\n",
    "\n",
    "Applying the 68-95-99.7 Rule, we must first figure out how many standard deviations above or below the mean our data fall. This is known as the **standardized score**. \n",
    "\n",
    "Values above the mean have positive standardized scores, while those below the mean have negative standardized scores. We use $z$ to represent a standard score, this value is also often referred to as a $z$-score.\n",
    "\n",
    "> **$z$-score**\n",
    "> If $x$ is a member of a normally distributed dataset with mean $\\mu$ and standard deviation $\\sigma$, then the standardized score for $x$ is\n",
    "$$ z = \\frac{x - \\mu}{\\sigma}$$\n",
    "\n",
    " \n",
    "To get the original value $x$ from the $z$-score we solve the above equation for $x$\n",
    "$$ x = \\mu + z \\cdot \\sigma $$"
   ]
  },
  {
   "cell_type": "code",
   "execution_count": null,
   "id": "b9436cad-f1d9-4f5e-befd-6d6d41488155",
   "metadata": {},
   "outputs": [],
   "source": [
    "def zscore(x, mu, sigma):\n",
    "    z = (x - mu) / sigma\n",
    "    return z\n",
    "\n",
    "def xvalue(z, mu, sigma):\n",
    "    x = mu + z * sigma\n",
    "    return x"
   ]
  },
  {
   "cell_type": "markdown",
   "id": "2d17d298-e0a8-4363-aeec-23dd3604bbe4",
   "metadata": {},
   "source": [
    "Let's test it on some values"
   ]
  },
  {
   "cell_type": "code",
   "execution_count": null,
   "id": "7c41fceb-ed76-42ce-9d32-5bdc63d249c6",
   "metadata": {},
   "outputs": [],
   "source": [
    "mu = 50\n",
    "sigma = 6\n",
    "\n",
    "zscore(52, mu, sigma)"
   ]
  },
  {
   "cell_type": "code",
   "execution_count": null,
   "id": "83dd079e-783f-478d-baca-f06affb0bce1",
   "metadata": {},
   "outputs": [],
   "source": [
    "zscore(40, mu, sigma)"
   ]
  },
  {
   "cell_type": "code",
   "execution_count": null,
   "id": "15a0c313-06ab-49e0-a4c5-6724d26f1312",
   "metadata": {},
   "outputs": [],
   "source": [
    "zscore(68, mu, sigma)"
   ]
  },
  {
   "cell_type": "markdown",
   "id": "918d92e6-1c0d-434a-997c-1f4d4fc17b05",
   "metadata": {},
   "source": [
    "Now let's test our function to see if we get back the correct x value"
   ]
  },
  {
   "cell_type": "code",
   "execution_count": null,
   "id": "b4c8ac3a-6397-4f55-aced-a1b00c9954c0",
   "metadata": {},
   "outputs": [],
   "source": [
    "xvalue(1.4, mu, sigma)"
   ]
  },
  {
   "cell_type": "code",
   "execution_count": null,
   "id": "13e1cc7c-d1eb-4d83-9c2a-92406238bd3b",
   "metadata": {},
   "outputs": [],
   "source": [
    "xvalue(-0.9, mu, sigma)"
   ]
  },
  {
   "cell_type": "code",
   "execution_count": null,
   "id": "565be994-aa92-46ac-9377-8cf8868df36a",
   "metadata": {},
   "outputs": [],
   "source": [
    "xvalue(3.5, mu, sigma)"
   ]
  },
  {
   "cell_type": "markdown",
   "id": "6c4616d5-5ac1-4e52-b129-0f1c34df8f26",
   "metadata": {},
   "source": [
    "### How can we find the percentile with a given z-score?\n",
    "\n",
    "According to the Digest of Education Statistics, composite scores on the SAT have mean 1060 and standard deviation 195, while composite scores on the ACT have mean 21 and standard deviation 5.\n",
    "\n",
    "At what percentile would an SAT score of 990 fall?"
   ]
  },
  {
   "cell_type": "code",
   "execution_count": null,
   "id": "dfd5330f-289c-477b-ab35-ebf488bb18da",
   "metadata": {},
   "outputs": [],
   "source": [
    "sat_mu = 1060\n",
    "sat_sigma = 195\n",
    "\n",
    "norm.cdf(990, sat_mu, sat_sigma )"
   ]
  },
  {
   "cell_type": "markdown",
   "id": "463469b7-235b-4551-af5c-398858bc915f",
   "metadata": {},
   "source": [
    "What is the z-score of an ACT score of 27?"
   ]
  },
  {
   "cell_type": "code",
   "execution_count": null,
   "id": "550a082c-3f3f-406f-b6f5-55254cebbf97",
   "metadata": {},
   "outputs": [],
   "source": [
    "act_mu = 21\n",
    "act_sigma = 5\n",
    "\n",
    "norm.cdf(27, act_mu, act_sigma)"
   ]
  },
  {
   "cell_type": "markdown",
   "id": "da5f262b-c956-47e9-89bf-c1b26632d77a",
   "metadata": {},
   "source": [
    "Which is better: a score of 1450 on the SAT or 29 on the ACT?"
   ]
  },
  {
   "cell_type": "code",
   "execution_count": null,
   "id": "09decff3-3d09-4f6a-a5b2-4d4131e6ac4e",
   "metadata": {},
   "outputs": [],
   "source": [
    "sat_x = 1450\n",
    "\n",
    "norm.cdf(sat_x, sat_mu, sat_sigma)"
   ]
  },
  {
   "cell_type": "code",
   "execution_count": null,
   "id": "425b8f12-ca2c-411f-a95f-e07be7197fe4",
   "metadata": {},
   "outputs": [],
   "source": [
    "act_x = 29\n",
    "\n",
    "norm.cdf(act_x, act_mu, act_sigma)"
   ]
  },
  {
   "cell_type": "markdown",
   "id": "76a8dbb0-f268-4159-b865-07a06da1e2d0",
   "metadata": {},
   "source": [
    "Using $z$-scores"
   ]
  },
  {
   "cell_type": "code",
   "execution_count": null,
   "id": "b0de84b8-6a4e-4a6d-a7dd-a6268bc1924d",
   "metadata": {},
   "outputs": [],
   "source": [
    "zscore(act_x, act_mu, act_sigma)"
   ]
  },
  {
   "cell_type": "code",
   "execution_count": null,
   "id": "794020c1-b3c3-4ef4-a112-969f444b5c81",
   "metadata": {},
   "outputs": [],
   "source": [
    "zscore(sat_x, sat_mu, sat_sigma)"
   ]
  },
  {
   "cell_type": "code",
   "execution_count": null,
   "id": "925cd64d-11c6-48c1-8ba8-c22e64d9827a",
   "metadata": {},
   "outputs": [],
   "source": []
  }
 ],
 "metadata": {
  "kernelspec": {
   "display_name": "Python 3 (ipykernel)",
   "language": "python",
   "name": "python3"
  },
  "language_info": {
   "codemirror_mode": {
    "name": "ipython",
    "version": 3
   },
   "file_extension": ".py",
   "mimetype": "text/x-python",
   "name": "python",
   "nbconvert_exporter": "python",
   "pygments_lexer": "ipython3",
   "version": "3.10.13"
  }
 },
 "nbformat": 4,
 "nbformat_minor": 5
}
