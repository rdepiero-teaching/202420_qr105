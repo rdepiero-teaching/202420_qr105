{
 "cells": [
  {
   "cell_type": "markdown",
   "id": "203b876f-9c23-4f9a-aad6-5098fa2e8141",
   "metadata": {},
   "source": [
    "# 4.1 Expected Value"
   ]
  },
  {
   "cell_type": "markdown",
   "id": "94a4fc36-8916-4e20-846e-e1d7c1852c89",
   "metadata": {},
   "source": [
    "Expected value is perhaps the most useful probability concept we will discuss.  It has many applications, from insurance policies to making financial decisions, and it's one thing that the casinos and government agencies that run gambling operations and lotteries hope most people never learn about. \n",
    "\n",
    "> **Expected Value**  \n",
    "Expected value is the average gain or loss of an event if the procedure is repeated many times. \r\n",
    "We can compute the expected value by multiplying each outcome by the probability of that outcome, then adding up the product\n",
    "\n",
    "\n",
    "### Example 1\n",
    "Determine the expected value of a dice roll on a standard 6 sided die\n",
    "\n",
    "We know that the probability of rolling any number on a 6-sided die is $\\frac{1}{6}$. So the expected value is given by\n",
    "\n",
    "$$ E = 1 \\cdot \\frac{1}{6} + 2 \\cdot \\frac{1}{6} + 3 \\cdot \\frac{1}{6} + 4 \\cdot \\frac{1}{6} + 5 \\cdot \\frac{1}{6} + 6 \\cdot \\frac{1}{6} = \\frac{7}{2} = 3.5 $$"
   ]
  },
  {
   "cell_type": "code",
   "execution_count": 2,
   "id": "e359089c-861b-4a01-b079-9b0807b33d99",
   "metadata": {},
   "outputs": [
    {
     "name": "stdout",
     "output_type": "stream",
     "text": [
      "Expected value: 3.5\n"
     ]
    }
   ],
   "source": [
    "## list of probabilities and their associated values\n",
    "values = [1, 2, 3, 4, 5, 6]\n",
    "probs = [1/6, 1/6, 1/6, 1/6, 1/6, 1/6]\n",
    "\n",
    "## calculate expected value\n",
    "expected = 0\n",
    "\n",
    "for i in range(len(probs)):\n",
    "    expected = expected + values[i] * probs[i]\n",
    "\n",
    "\n",
    "print('Expected value:', expected)"
   ]
  },
  {
   "cell_type": "markdown",
   "id": "48b5ef53-eba6-4b5b-b9cf-6724376d8c85",
   "metadata": {},
   "source": [
    "We'll use this in a few more examples, so let's define a function that can calculate this for us"
   ]
  },
  {
   "cell_type": "code",
   "execution_count": 8,
   "id": "a92ed9cc-05f9-485f-9821-b255cdd5bae6",
   "metadata": {},
   "outputs": [],
   "source": [
    "# define a function to calculate expected value\n",
    "def expected_value(values, probs, printer=False):\n",
    "    \n",
    "    expected = 0\n",
    "\n",
    "    for i in range(len(probs)):\n",
    "        expected = expected + values[i] * probs[i]\n",
    "\n",
    "    if printer == True:\n",
    "        print(f'Expected value: {expected:.3f}')\n",
    "    else:\n",
    "        return expected"
   ]
  },
  {
   "cell_type": "code",
   "execution_count": 4,
   "id": "83abb9e1-9418-4dda-8e83-24b54302580b",
   "metadata": {},
   "outputs": [
    {
     "data": {
      "text/plain": [
       "3.5"
      ]
     },
     "execution_count": 4,
     "metadata": {},
     "output_type": "execute_result"
    }
   ],
   "source": [
    "# evaluate using the expected_value function\n",
    "expected_value([1, 2, 3, 4, 5, 6], [1/6, 1/6, 1/6, 1/6, 1/6, 1/6])"
   ]
  },
  {
   "cell_type": "code",
   "execution_count": 9,
   "id": "e4dafef1-89ca-4b30-ae34-2d531a23eff3",
   "metadata": {},
   "outputs": [
    {
     "name": "stdout",
     "output_type": "stream",
     "text": [
      "Expected value: 3.500\n"
     ]
    }
   ],
   "source": [
    "# evaluate using the expected_value function\n",
    "expected_value([1, 2, 3, 4, 5, 6], [1/6, 1/6, 1/6, 1/6, 1/6, 1/6], True)"
   ]
  },
  {
   "cell_type": "markdown",
   "id": "825c82c2-0421-4d5e-a740-a27dee36e1df",
   "metadata": {},
   "source": [
    "So what this means is *on average* we should expect to roll a value of 3.5 when we perform a lot of dice rolls. \n",
    "\n",
    "Let's test this out. Try re-running the code below and trying a different number of rolls.\r"
   ]
  },
  {
   "cell_type": "code",
   "execution_count": 29,
   "id": "e86a775d-c00a-4a78-b82c-f06c81e5e7e2",
   "metadata": {},
   "outputs": [
    {
     "name": "stdout",
     "output_type": "stream",
     "text": [
      "Number of Rolls:  10\n",
      "Dice Rolls:  [5, 3, 6, 6, 6, 6, 4, 2, 3, 2]\n",
      "Average value:  4.3\n"
     ]
    }
   ],
   "source": [
    "import random\n",
    "\n",
    "num_dice = 10\n",
    "results = []\n",
    "\n",
    "# roll the chosen number of dice\n",
    "\n",
    "for i in range(num_dice):\n",
    "    # roll a die\n",
    "    roll = random.randint(1,6)\n",
    "    # add roll to list of results\n",
    "    results.append(roll)\n",
    "\n",
    "# calculate the mean or average of all dice rolls\n",
    "mean = sum(results) / len(results)\n",
    "\n",
    "print('Number of Rolls: ', num_dice)\n",
    "print('Dice Rolls: ', results)\n",
    "print('Average value: ', mean)"
   ]
  },
  {
   "cell_type": "markdown",
   "id": "f289ec09-2258-495d-95e9-f9681ec7ddcc",
   "metadata": {},
   "source": [
    "As we complete more rolls, we can see that we stay closer to the expected value of 3.5. This is an example of *The Law of Large Numbers* in action. Meaning, the more times we run our expirement, the closer we'll get to the expected value."
   ]
  },
  {
   "cell_type": "markdown",
   "id": "9e529867-51b8-4ab6-8d9f-4de11854c38d",
   "metadata": {},
   "source": [
    "## Applying Expected Value\n",
    "\n",
    "So how to we interpret this?\n",
    "\n",
    "Suppose someone offers to play a game with you. If you roll a die and get a 6, you get $\\$10$. However, if you get a 5 or below, you lose $\\$1$. Is this a game you’d want to play? Let’s look at the expected value:\n",
    "\n",
    "The probability of winning is $\\frac{1}{6}$ and the probability of losing is $\\frac{5}{6}$ so\n",
    "$$ \\$10 \\cdot \\frac{1}{6} + (-\\$1)\\frac{5}{6} = \\frac{5}{6} \\approx \\$ 0.83$$\n",
    "On average, you'll be gaining $0.83 per roll."
   ]
  },
  {
   "cell_type": "code",
   "execution_count": 31,
   "id": "4ee5e5b9-8769-4631-a5d5-e72ef02fa1c6",
   "metadata": {},
   "outputs": [
    {
     "name": "stdout",
     "output_type": "stream",
     "text": [
      "Expected value: 0.833\n"
     ]
    }
   ],
   "source": [
    "# evaluate using our function \n",
    "expected_value([10, -1], [1/6, 5/6], printer=True)"
   ]
  },
  {
   "cell_type": "markdown",
   "id": "6e3c2b1c-db7f-4ab7-94e4-37f700070b5f",
   "metadata": {},
   "source": [
    "If we drop the reward to $\\$3$ a roll we have\n",
    "$$ \\$ 3 \\cdot \\frac{1}{6} + (-\\$1)\\frac{5}{6} = - \\frac{1}{3} \\approx - \\$ 0.33 $$\n",
    "On average, you'll be *losing* $0.33 per roll."
   ]
  },
  {
   "cell_type": "code",
   "execution_count": 32,
   "id": "b86c3344-1338-4258-9961-6944b6723127",
   "metadata": {
    "editable": true,
    "slideshow": {
     "slide_type": ""
    },
    "tags": []
   },
   "outputs": [
    {
     "name": "stdout",
     "output_type": "stream",
     "text": [
      "Expected value: -0.333\n"
     ]
    }
   ],
   "source": [
    "# evaluate using our function \n",
    "expected_value([3, -1], [1/6, 5/6], printer=True)"
   ]
  },
  {
   "cell_type": "markdown",
   "id": "8da36e63-a012-4ec4-92f9-004b8536fb4f",
   "metadata": {},
   "source": [
    "Casinos and lotteries are able to make money by ensuring players have a *negative* expected value.\n",
    "\n",
    "Expected value is also used to determine things like insurance pricing and other financial decisions. "
   ]
  },
  {
   "cell_type": "code",
   "execution_count": null,
   "id": "d18b8e6c-11cb-4781-82db-047b81b42ac6",
   "metadata": {},
   "outputs": [],
   "source": []
  },
  {
   "cell_type": "code",
   "execution_count": null,
   "id": "97d05434-c99b-4beb-82ea-cfaa566c8b2a",
   "metadata": {},
   "outputs": [],
   "source": []
  }
 ],
 "metadata": {
  "kernelspec": {
   "display_name": "Python 3 (ipykernel)",
   "language": "python",
   "name": "python3"
  },
  "language_info": {
   "codemirror_mode": {
    "name": "ipython",
    "version": 3
   },
   "file_extension": ".py",
   "mimetype": "text/x-python",
   "name": "python",
   "nbconvert_exporter": "python",
   "pygments_lexer": "ipython3",
   "version": "3.10.13"
  }
 },
 "nbformat": 4,
 "nbformat_minor": 5
}
