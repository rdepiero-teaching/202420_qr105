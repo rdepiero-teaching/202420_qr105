{
 "cells": [
  {
   "cell_type": "markdown",
   "id": "943b042c-d177-4d79-9dea-d2a7f5fecd8f",
   "metadata": {
    "tags": []
   },
   "source": [
    "This notebook covers some of the basics of coding in Python\n",
    "\n",
    "# 1.1 Intro to Coding: Part I\n",
    "\n"
   ]
  },
  {
   "cell_type": "markdown",
   "id": "4cb1098b-d486-46b8-9af4-7ee351f0ec9d",
   "metadata": {
    "tags": []
   },
   "source": [
    "## Jupyter Notebooks\n",
    "This is a Jupyter notebook. These are files that let you write both text (markdown Cells) and code (code cells) in the same place. Jupyter notebooks are great for learning and testing out code you're writing. It's an easy way to document what and why you're doing whatever you're doing.\n",
    "\n",
    "There are variety of ways to format a markdown cell. If you want to know how format things in markdown, go to the menu _Help > Markdown Reference._\n",
    "\n",
    "_**Get in the habit of leaving notes to yourself as you work.** You will forget what you were doing._\n",
    "\n",
    "### Printing Output in Notebooks\n",
    "\n",
    "A nice feature of using notebooks is that you don't need to write print statements to get output, making it an easy environment to test code. This is different from when you're using script files - print statements need to be used to print any output to the screen. \n",
    "\n",
    "I've used this in my own practice where I've tested code in a notebook and then translated what I've written to a script file that can all at once.\n",
    "\n",
    "The last line in any code cell will be printed below the cell."
   ]
  },
  {
   "cell_type": "code",
   "execution_count": 18,
   "id": "eb759e2d-8937-4eb7-bcb0-889fca5671cb",
   "metadata": {},
   "outputs": [
    {
     "data": {
      "text/plain": [
       "7"
      ]
     },
     "execution_count": 18,
     "metadata": {},
     "output_type": "execute_result"
    }
   ],
   "source": [
    "3+4"
   ]
  },
  {
   "cell_type": "code",
   "execution_count": 17,
   "id": "2efbaffb-5e33-4a8f-8d16-bee79a56464b",
   "metadata": {},
   "outputs": [
    {
     "data": {
      "text/plain": [
       "4.0"
      ]
     },
     "execution_count": 17,
     "metadata": {},
     "output_type": "execute_result"
    }
   ],
   "source": [
    "3+4\n",
    "5*6\n",
    "8/2"
   ]
  },
  {
   "cell_type": "code",
   "execution_count": 20,
   "id": "c3ec606a-3937-4510-8bf4-f5953d898f25",
   "metadata": {},
   "outputs": [
    {
     "name": "stdout",
     "output_type": "stream",
     "text": [
      "7\n",
      "30\n",
      "4.0\n"
     ]
    }
   ],
   "source": [
    "print(3+4)\n",
    "print(5*6)\n",
    "print(8/2)"
   ]
  },
  {
   "cell_type": "markdown",
   "id": "a9daa531-a9c6-4821-8c11-a984ed72a015",
   "metadata": {},
   "source": [
    "You can also use print statements if you want each line to be printed. This is how you must print output to the screen when using script files (we'll be using these later in the course)"
   ]
  },
  {
   "cell_type": "markdown",
   "id": "5d6e3b1b-933f-4de5-9285-1ab0ff278bb0",
   "metadata": {
    "tags": []
   },
   "source": [
    "## Datatypes\n",
    "\n",
    "There many different datatypes used in any programming language. A *datatype* is an item that is stored in a particular way in the computer. Operations may work differently depending on the datatype. The datatype of an item may not always be clear in Python (as opposed to other programming languages). Datatypes may look similar on the screen, but can be stored completely differently in the computer. A brief list of datatypes in Python is given below.\n",
    "- Numeric: ints, floats, boolean\n",
    "- Sequential: strings, lists, tuples\n",
    "- Mapping: dictionaries\n",
    "- Sets: sets\n",
    "- None: has no datatype\n",
    "\n",
    "It is also possible to define your own datatype via a Class. We won't get into this too much in this course.\n",
    "\n",
    "We can always get the type of an object by using the `type` function as shown below"
   ]
  },
  {
   "cell_type": "code",
   "execution_count": 22,
   "id": "de9c0479-924a-44d2-96bb-a7164c9d6c46",
   "metadata": {},
   "outputs": [
    {
     "data": {
      "text/plain": [
       "int"
      ]
     },
     "execution_count": 22,
     "metadata": {},
     "output_type": "execute_result"
    }
   ],
   "source": [
    "type(3)"
   ]
  },
  {
   "cell_type": "code",
   "execution_count": 23,
   "id": "d5ba40ea-4f87-4170-b3f3-ed868e16a0a2",
   "metadata": {},
   "outputs": [
    {
     "data": {
      "text/plain": [
       "float"
      ]
     },
     "execution_count": 23,
     "metadata": {},
     "output_type": "execute_result"
    }
   ],
   "source": [
    "type(3.0)"
   ]
  },
  {
   "cell_type": "markdown",
   "id": "2b48bd4a-a22c-4019-8d0e-8c566f105ff1",
   "metadata": {},
   "source": [
    "### Numeric Datatypes: ints, floats, and booleans\n",
    "\n",
    "#### Ints\n",
    "\n",
    "An int is just an integer. In most programming languages, ints can be stored as ints or long ints. In Python, all ints are long ints. We can perform the usual mathematical operations on ints."
   ]
  },
  {
   "cell_type": "code",
   "execution_count": 63,
   "id": "46a7694f-784a-4446-81e9-096f5a216469",
   "metadata": {},
   "outputs": [
    {
     "data": {
      "text/plain": [
       "7"
      ]
     },
     "execution_count": 63,
     "metadata": {},
     "output_type": "execute_result"
    }
   ],
   "source": [
    "3 + 4"
   ]
  },
  {
   "cell_type": "code",
   "execution_count": 64,
   "id": "0b10dd41-95ad-4a02-9e09-8ccd4c467bde",
   "metadata": {},
   "outputs": [
    {
     "data": {
      "text/plain": [
       "int"
      ]
     },
     "execution_count": 64,
     "metadata": {},
     "output_type": "execute_result"
    }
   ],
   "source": [
    "type(3 + 4)"
   ]
  },
  {
   "cell_type": "markdown",
   "id": "a12962e0-9c16-4879-b361-42fc2c4ea6c9",
   "metadata": {},
   "source": [
    "#### Floats\n",
    "\n",
    "Floats, put simply, are decimal values. A float can look like an int and this can get ambiguous in Python. To ensure you want to use decimal values in your calculations, always give these values a decimal."
   ]
  },
  {
   "cell_type": "code",
   "execution_count": 65,
   "id": "0c65e03e-06bd-42d5-ab20-3dc309fd7305",
   "metadata": {},
   "outputs": [
    {
     "data": {
      "text/plain": [
       "7.300000000000001"
      ]
     },
     "execution_count": 65,
     "metadata": {},
     "output_type": "execute_result"
    }
   ],
   "source": [
    "3.1 + 4.2"
   ]
  },
  {
   "cell_type": "code",
   "execution_count": 66,
   "id": "52426a28-b9f3-46fe-844a-b5464f2b5366",
   "metadata": {},
   "outputs": [
    {
     "data": {
      "text/plain": [
       "float"
      ]
     },
     "execution_count": 66,
     "metadata": {},
     "output_type": "execute_result"
    }
   ],
   "source": [
    "type(3.1 + 4.2)"
   ]
  },
  {
   "cell_type": "code",
   "execution_count": 67,
   "id": "4b8cf0d8-2734-479b-b309-d7fa678a8c80",
   "metadata": {},
   "outputs": [
    {
     "data": {
      "text/plain": [
       "float"
      ]
     },
     "execution_count": 67,
     "metadata": {},
     "output_type": "execute_result"
    }
   ],
   "source": [
    "type(3 + 4.0)"
   ]
  },
  {
   "cell_type": "code",
   "execution_count": 68,
   "id": "fb304bc0-d15b-4232-9481-7dc1f834f4ad",
   "metadata": {},
   "outputs": [
    {
     "data": {
      "text/plain": [
       "float"
      ]
     },
     "execution_count": 68,
     "metadata": {},
     "output_type": "execute_result"
    }
   ],
   "source": [
    "type(4.0 + 3)"
   ]
  },
  {
   "cell_type": "markdown",
   "id": "0b7874b4-49b8-4b14-ab2f-6519eab1a0da",
   "metadata": {},
   "source": [
    "#### Booleans\n",
    "\n",
    "Boolean values store either False or True. These also have the numeric value 0 or 1 respectively. We can perform some arithmetic operations on these datatypes."
   ]
  },
  {
   "cell_type": "code",
   "execution_count": 13,
   "id": "171a5198-d450-473a-a622-8df7881742f8",
   "metadata": {},
   "outputs": [
    {
     "data": {
      "text/plain": [
       "1"
      ]
     },
     "execution_count": 13,
     "metadata": {},
     "output_type": "execute_result"
    }
   ],
   "source": [
    "True + False"
   ]
  },
  {
   "cell_type": "code",
   "execution_count": 12,
   "id": "1902a25d-af50-4b64-856d-3279019808e6",
   "metadata": {},
   "outputs": [
    {
     "data": {
      "text/plain": [
       "2"
      ]
     },
     "execution_count": 12,
     "metadata": {},
     "output_type": "execute_result"
    }
   ],
   "source": [
    "True + True"
   ]
  },
  {
   "cell_type": "code",
   "execution_count": 14,
   "id": "bc975646-0b21-4cdc-bd8f-abc7a57b88c6",
   "metadata": {},
   "outputs": [
    {
     "data": {
      "text/plain": [
       "0"
      ]
     },
     "execution_count": 14,
     "metadata": {},
     "output_type": "execute_result"
    }
   ],
   "source": [
    "False + False"
   ]
  },
  {
   "cell_type": "markdown",
   "id": "1eaf2091-c99e-40da-a2dc-06f30595c635",
   "metadata": {},
   "source": [
    "### Sequential Datatypes: strings, lits, tuples\n",
    "\n",
    "\n",
    "#### Strings\n",
    "\n",
    "A string is an object that stores characters. If ultimately, computers operate with numbers, how is a character stored?\n",
    "\n",
    "[ASCII Lookup Table](https://www.lookuptables.com/text/ascii-table)\n",
    "\n",
    "In simplest terms, strings can be thought of as text information."
   ]
  },
  {
   "cell_type": "code",
   "execution_count": 5,
   "id": "15f1b755-d6d5-4320-81b6-6ab03bbc689f",
   "metadata": {},
   "outputs": [
    {
     "data": {
      "text/plain": [
       "'hello'"
      ]
     },
     "execution_count": 5,
     "metadata": {},
     "output_type": "execute_result"
    }
   ],
   "source": [
    "'hello'"
   ]
  },
  {
   "cell_type": "code",
   "execution_count": 69,
   "id": "585a0049-8749-4c57-8d06-455557b47caa",
   "metadata": {},
   "outputs": [
    {
     "name": "stdout",
     "output_type": "stream",
     "text": [
      "hello\n"
     ]
    }
   ],
   "source": [
    "print('hello')"
   ]
  },
  {
   "cell_type": "code",
   "execution_count": 70,
   "id": "f681b338-fab3-4f3a-b23a-791ce9ca4ab0",
   "metadata": {},
   "outputs": [
    {
     "data": {
      "text/plain": [
       "'helloworld'"
      ]
     },
     "execution_count": 70,
     "metadata": {},
     "output_type": "execute_result"
    }
   ],
   "source": [
    "'hello'+'world'"
   ]
  },
  {
   "cell_type": "code",
   "execution_count": 78,
   "id": "df6dd921-e830-41f3-b5f4-07f612508803",
   "metadata": {},
   "outputs": [],
   "source": [
    "# 'hello'-'world'"
   ]
  },
  {
   "cell_type": "code",
   "execution_count": 3,
   "id": "b4766f51-ea2a-42e1-b45a-7e5a56814877",
   "metadata": {},
   "outputs": [
    {
     "data": {
      "text/plain": [
       "'hello world'"
      ]
     },
     "execution_count": 3,
     "metadata": {},
     "output_type": "execute_result"
    }
   ],
   "source": [
    "'hello '+'world'"
   ]
  },
  {
   "cell_type": "code",
   "execution_count": 4,
   "id": "21f6d8c6-76e3-4e34-a123-68b353ed4f8f",
   "metadata": {},
   "outputs": [
    {
     "data": {
      "text/plain": [
       "'hello world'"
      ]
     },
     "execution_count": 4,
     "metadata": {},
     "output_type": "execute_result"
    }
   ],
   "source": [
    "'hello' + ' ' + 'world'"
   ]
  },
  {
   "cell_type": "markdown",
   "id": "bd085457-60cd-4adf-a4a3-c97065508385",
   "metadata": {},
   "source": [
    "Numbers can also be given as strings"
   ]
  },
  {
   "cell_type": "code",
   "execution_count": 8,
   "id": "792f6c27-d7e0-4311-8416-43059cf764d5",
   "metadata": {},
   "outputs": [
    {
     "data": {
      "text/plain": [
       "'3'"
      ]
     },
     "execution_count": 8,
     "metadata": {},
     "output_type": "execute_result"
    }
   ],
   "source": [
    "'3'"
   ]
  },
  {
   "cell_type": "markdown",
   "id": "e4240fb1-3211-4291-8218-5f6a3350a197",
   "metadata": {},
   "source": [
    "We cannot perform the same operations between different datatypes for example"
   ]
  },
  {
   "cell_type": "code",
   "execution_count": 146,
   "id": "1e18de24-2caa-4088-8798-add4e9cf46e2",
   "metadata": {},
   "outputs": [],
   "source": [
    "# '3' + 4"
   ]
  },
  {
   "cell_type": "code",
   "execution_count": 79,
   "id": "3730c534-9292-4521-9969-f1274ae22b46",
   "metadata": {},
   "outputs": [
    {
     "data": {
      "text/plain": [
       "55"
      ]
     },
     "execution_count": 79,
     "metadata": {},
     "output_type": "execute_result"
    }
   ],
   "source": [
    "# string vs a number - strings are stored as numbers\n",
    "ord('3') + 4"
   ]
  },
  {
   "cell_type": "code",
   "execution_count": 147,
   "id": "87b2b47d-575c-4fe2-9c34-2a48966ed0f3",
   "metadata": {},
   "outputs": [],
   "source": [
    "# int('3') + 4"
   ]
  },
  {
   "cell_type": "code",
   "execution_count": null,
   "id": "edee1178-15bd-4037-8ed3-d92d8dbfe54e",
   "metadata": {},
   "outputs": [],
   "source": []
  },
  {
   "cell_type": "markdown",
   "id": "fe3f2976-93d0-441c-8f53-3591317c0536",
   "metadata": {},
   "source": [
    "#### Lists\n",
    "\n",
    "This datatype is exactly what it sounds like: a list of items. These items, or elements, can be any datatype or a mix of datatypes. Lists are datatypes that are mutable, meaning they can be changed. We'll get into how to do this later."
   ]
  },
  {
   "cell_type": "code",
   "execution_count": 72,
   "id": "f8ebc86e-2276-4ac9-9267-d7cb462c8025",
   "metadata": {},
   "outputs": [
    {
     "data": {
      "text/plain": [
       "[1, 2, 3]"
      ]
     },
     "execution_count": 72,
     "metadata": {},
     "output_type": "execute_result"
    }
   ],
   "source": [
    "[1, 2, 3]"
   ]
  },
  {
   "cell_type": "code",
   "execution_count": 73,
   "id": "a10408e8-19e8-42be-904f-6c00a6c67552",
   "metadata": {},
   "outputs": [
    {
     "data": {
      "text/plain": [
       "[1, 'two', 3]"
      ]
     },
     "execution_count": 73,
     "metadata": {},
     "output_type": "execute_result"
    }
   ],
   "source": [
    "[1, 'two', 3]"
   ]
  },
  {
   "cell_type": "code",
   "execution_count": 74,
   "id": "f56d33ba-fc35-4d68-82c4-c26d91bd0c30",
   "metadata": {},
   "outputs": [
    {
     "data": {
      "text/plain": [
       "[1, 'two', False]"
      ]
     },
     "execution_count": 74,
     "metadata": {},
     "output_type": "execute_result"
    }
   ],
   "source": [
    "[1, 'two', False]"
   ]
  },
  {
   "cell_type": "code",
   "execution_count": 75,
   "id": "408fab1c-abed-4af6-982f-4c4f317bda0d",
   "metadata": {},
   "outputs": [
    {
     "data": {
      "text/plain": [
       "[1, 'two', [True, False, 'three']]"
      ]
     },
     "execution_count": 75,
     "metadata": {},
     "output_type": "execute_result"
    }
   ],
   "source": [
    "[1, 'two', [True, False, 'three']]"
   ]
  },
  {
   "cell_type": "code",
   "execution_count": 80,
   "id": "48bcbcfc-ebbb-4cba-adea-04ca4dfb6734",
   "metadata": {},
   "outputs": [
    {
     "data": {
      "text/plain": [
       "[1, 2, 3, 5, 6, 7]"
      ]
     },
     "execution_count": 80,
     "metadata": {},
     "output_type": "execute_result"
    }
   ],
   "source": [
    "[1, 2, 3] + [5, 6, 7]"
   ]
  },
  {
   "cell_type": "code",
   "execution_count": 117,
   "id": "4c55000e-967c-4d17-aa5c-bab8fc411549",
   "metadata": {},
   "outputs": [],
   "source": [
    "# [1, 2, 3] - [5, 6, 7]"
   ]
  },
  {
   "cell_type": "code",
   "execution_count": 82,
   "id": "6ccb60d9-90e2-4296-bc84-6d4e7609d5c1",
   "metadata": {},
   "outputs": [
    {
     "data": {
      "text/plain": [
       "[1, 2, 3, 1, 2, 3, 1, 2, 3]"
      ]
     },
     "execution_count": 82,
     "metadata": {},
     "output_type": "execute_result"
    }
   ],
   "source": [
    "3*[1,2,3]"
   ]
  },
  {
   "cell_type": "code",
   "execution_count": 83,
   "id": "042e8063-dfee-4973-ab13-6203c61f2a79",
   "metadata": {},
   "outputs": [
    {
     "data": {
      "text/plain": [
       "['Dan', 'Dan', 'Dan', 'Dan']"
      ]
     },
     "execution_count": 83,
     "metadata": {},
     "output_type": "execute_result"
    }
   ],
   "source": [
    "4*['Dan']"
   ]
  },
  {
   "cell_type": "code",
   "execution_count": 89,
   "id": "e24f6732-20a5-439e-a80f-b80f5e653bfe",
   "metadata": {},
   "outputs": [],
   "source": [
    "# 4 + ['Dan']"
   ]
  },
  {
   "cell_type": "code",
   "execution_count": 90,
   "id": "2581506b-2a50-454b-9794-217b947128fe",
   "metadata": {},
   "outputs": [],
   "source": [
    "# '4' + ['Dan']"
   ]
  },
  {
   "cell_type": "code",
   "execution_count": 91,
   "id": "fb6600d7-b670-4d4d-a7c9-4197a45982f4",
   "metadata": {},
   "outputs": [],
   "source": [
    "# [4] + ['Dan']"
   ]
  },
  {
   "cell_type": "code",
   "execution_count": 92,
   "id": "ccc5784d-356d-4aba-82d5-08f19dedee71",
   "metadata": {},
   "outputs": [],
   "source": [
    "# ['4'] + ['Dan']"
   ]
  },
  {
   "cell_type": "code",
   "execution_count": 93,
   "id": "073277ad-6646-43f9-b9e6-07dc61dc4a0d",
   "metadata": {},
   "outputs": [],
   "source": [
    "# 4*'Dan'"
   ]
  },
  {
   "cell_type": "markdown",
   "id": "4d43fc79-5413-4880-8c50-edd6305300d2",
   "metadata": {},
   "source": [
    "#### Tuples\n",
    "\n",
    "Think about this datatype like you would coordinates in a plane: a list of items, but in this case they are immutable, i.e. they cannot be changed. These items, or elements, can be any datatype or a mix of datatypes. We won't be using these too much (if at all)."
   ]
  },
  {
   "cell_type": "code",
   "execution_count": 15,
   "id": "46b667e2-e02c-44c9-b403-f71ee5335a2d",
   "metadata": {},
   "outputs": [
    {
     "data": {
      "text/plain": [
       "(False, 1)"
      ]
     },
     "execution_count": 15,
     "metadata": {},
     "output_type": "execute_result"
    }
   ],
   "source": [
    "(False, 1)"
   ]
  },
  {
   "cell_type": "markdown",
   "id": "cfaed759-eea0-43d4-81f5-459a974d17de",
   "metadata": {},
   "source": [
    "### Mapping Datatype: Dictionaries\n",
    "\n",
    "Dictionaries work like phone books (if you even know what those are). To find a phone number in a phone book, you look up the person's name, then get the number. The names in dictionaries are called 'keys' and the phone numbers are 'values'. These are refered to as 'key - value pairs'.\n",
    "\n",
    "We'll talk more about how these work later. For now, we'll just show the syntax for a dictionary."
   ]
  },
  {
   "cell_type": "code",
   "execution_count": 150,
   "id": "eef503a5-89fb-4ba8-9ec2-846ce4d43e9b",
   "metadata": {},
   "outputs": [
    {
     "data": {
      "text/plain": [
       "{'Sam': 'Freshman',\n",
       " 'Julie': 'Senior',\n",
       " 'Tom': 'Sophomore',\n",
       " 'Harley': 'Freshman'}"
      ]
     },
     "execution_count": 150,
     "metadata": {},
     "output_type": "execute_result"
    }
   ],
   "source": [
    "{'Sam': 'Freshman',\n",
    " 'Julie': 'Senior',\n",
    " 'Tom': 'Sophomore',\n",
    " 'Harley': 'Freshman',}"
   ]
  },
  {
   "cell_type": "code",
   "execution_count": null,
   "id": "711a787a-0067-427c-a4b2-539db3872157",
   "metadata": {},
   "outputs": [],
   "source": []
  },
  {
   "cell_type": "markdown",
   "id": "25242be4-0149-419f-9e8f-0941fb0bca88",
   "metadata": {},
   "source": [
    "#### Other Datatypes: Sets and Classes\n",
    "\n",
    "Sets and defining classes are two datatypes we won't really use in this class so we'll skip them for now."
   ]
  },
  {
   "cell_type": "markdown",
   "id": "0e7745fe-4277-405f-bf6c-af0d226dc1bd",
   "metadata": {},
   "source": [
    "## ABC - Always Be Commenting\n",
    "\n",
    "Two very important things to do when you're writing and testing code - Always leave yourself comments and don't delete things."
   ]
  },
  {
   "cell_type": "code",
   "execution_count": 26,
   "id": "2682efb6-7ea5-4d2f-bd1d-d93c97da9429",
   "metadata": {
    "tags": []
   },
   "outputs": [],
   "source": [
    "# this is a comment - anything written with # in front will not be run\n",
    "\n",
    "# z = 3 # testing one value here\n",
    "\n",
    "z = 3+4 # testing a second value here\n"
   ]
  },
  {
   "cell_type": "markdown",
   "id": "64861897-342a-467a-90ec-addc6a3e3451",
   "metadata": {
    "jp-MarkdownHeadingCollapsed": true
   },
   "source": []
  },
  {
   "cell_type": "markdown",
   "id": "cc881cb8-00a9-462e-812e-efeac46376ef",
   "metadata": {
    "jp-MarkdownHeadingCollapsed": true
   },
   "source": [
    "It's easy to comment out a few lines of code rather than delete them. You never know if you will need it again, or sometimes to see what didn't work. It's a way to track things you've already tested. Don't make more work for yourself by having to re-type things you already typed once!"
   ]
  },
  {
   "cell_type": "code",
   "execution_count": 97,
   "id": "cadc94a2-a109-4ebe-8092-e0cb5c7bfcd6",
   "metadata": {},
   "outputs": [
    {
     "data": {
      "text/plain": [
       "'ninjaturtles'"
      ]
     },
     "execution_count": 97,
     "metadata": {},
     "output_type": "execute_result"
    }
   ],
   "source": [
    "## a horrible mistake\n",
    "# x = 'ooze'\n",
    "# y = 'mutant' # live in sewers?\n",
    "\n",
    "# correction\n",
    "x = 'ninja'\n",
    "y = 'turtles'\n",
    "\n",
    "x + y"
   ]
  },
  {
   "cell_type": "markdown",
   "id": "2df00719-e827-410e-a78f-452e21c02eb6",
   "metadata": {
    "jp-MarkdownHeadingCollapsed": true
   },
   "source": [
    "When you're done testing and writing final code, you can always go back and clean up a code file and delete what you know for sure you don't need."
   ]
  },
  {
   "cell_type": "code",
   "execution_count": 25,
   "id": "9f417070-96e9-42a5-9877-f9969ba1b383",
   "metadata": {
    "tags": []
   },
   "outputs": [
    {
     "data": {
      "text/plain": [
       "3"
      ]
     },
     "execution_count": 25,
     "metadata": {},
     "output_type": "execute_result"
    }
   ],
   "source": [
    "x = 3\n",
    "x"
   ]
  },
  {
   "cell_type": "markdown",
   "id": "0b0ae316-24a9-4b02-890c-3168654b3d0b",
   "metadata": {
    "tags": []
   },
   "source": [
    "## Arithmetic - Python as a Calculator\n",
    "\n",
    "Python can be used like a calculator - you'll want to use it for more than that but the basic math operations can be used without any additional libraries or functions."
   ]
  },
  {
   "cell_type": "code",
   "execution_count": 15,
   "id": "430508ec-3277-4ba2-ad3e-ba2f88a5f00f",
   "metadata": {
    "tags": []
   },
   "outputs": [
    {
     "data": {
      "text/plain": [
       "7"
      ]
     },
     "execution_count": 15,
     "metadata": {},
     "output_type": "execute_result"
    }
   ],
   "source": [
    "# Addition\n",
    "3+4"
   ]
  },
  {
   "cell_type": "code",
   "execution_count": 16,
   "id": "a987399e-764f-498d-8729-98f091666cd4",
   "metadata": {
    "tags": []
   },
   "outputs": [
    {
     "data": {
      "text/plain": [
       "30"
      ]
     },
     "execution_count": 16,
     "metadata": {},
     "output_type": "execute_result"
    }
   ],
   "source": [
    "# Multiplication\n",
    "5*6"
   ]
  },
  {
   "cell_type": "code",
   "execution_count": 17,
   "id": "56db8e4a-6fcd-49db-8a8c-49d8a5d4de8c",
   "metadata": {
    "tags": []
   },
   "outputs": [
    {
     "data": {
      "text/plain": [
       "25"
      ]
     },
     "execution_count": 17,
     "metadata": {},
     "output_type": "execute_result"
    }
   ],
   "source": [
    "# Exponents\n",
    "5**2"
   ]
  },
  {
   "cell_type": "code",
   "execution_count": 18,
   "id": "7f34b07d-7976-4a1b-9a90-2a772e395399",
   "metadata": {
    "tags": []
   },
   "outputs": [
    {
     "data": {
      "text/plain": [
       "3.6666666666666665"
      ]
     },
     "execution_count": 18,
     "metadata": {},
     "output_type": "execute_result"
    }
   ],
   "source": [
    "# Division\n",
    "\n",
    "11/3"
   ]
  },
  {
   "cell_type": "markdown",
   "id": "e758410a-9795-42e8-8753-f711faefcb60",
   "metadata": {},
   "source": [
    "### Special Arithmetic Operators: floor and mod\n",
    "\n",
    "We'll talk more about how these work later. Below you can see the syntax for these operations. See if you can guess what's happening based on the examples."
   ]
  },
  {
   "cell_type": "code",
   "execution_count": 30,
   "id": "11f028f6-607d-4bd1-8356-6f87e8dd4313",
   "metadata": {},
   "outputs": [
    {
     "data": {
      "text/plain": [
       "2"
      ]
     },
     "execution_count": 30,
     "metadata": {},
     "output_type": "execute_result"
    }
   ],
   "source": [
    "5//2"
   ]
  },
  {
   "cell_type": "code",
   "execution_count": 32,
   "id": "7f86cd99-da87-4b6c-a404-f2ec806705b1",
   "metadata": {},
   "outputs": [
    {
     "data": {
      "text/plain": [
       "2"
      ]
     },
     "execution_count": 32,
     "metadata": {},
     "output_type": "execute_result"
    }
   ],
   "source": [
    "7//3"
   ]
  },
  {
   "cell_type": "code",
   "execution_count": 36,
   "id": "b6c93a1c-5c50-450d-9ee2-a26ac8951cfd",
   "metadata": {},
   "outputs": [
    {
     "data": {
      "text/plain": [
       "3"
      ]
     },
     "execution_count": 36,
     "metadata": {},
     "output_type": "execute_result"
    }
   ],
   "source": [
    "18//5"
   ]
  },
  {
   "cell_type": "markdown",
   "id": "43fbcce4-c1f3-4a65-93e4-472aad51b6a1",
   "metadata": {},
   "source": [
    "What do you think this is doing?"
   ]
  },
  {
   "cell_type": "code",
   "execution_count": 40,
   "id": "91037ce6-01ee-4567-88a1-20d17202d44d",
   "metadata": {},
   "outputs": [
    {
     "data": {
      "text/plain": [
       "1"
      ]
     },
     "execution_count": 40,
     "metadata": {},
     "output_type": "execute_result"
    }
   ],
   "source": [
    "5 % 2"
   ]
  },
  {
   "cell_type": "code",
   "execution_count": 43,
   "id": "0325313d-3492-4909-88ce-802469847917",
   "metadata": {},
   "outputs": [
    {
     "data": {
      "text/plain": [
       "0"
      ]
     },
     "execution_count": 43,
     "metadata": {},
     "output_type": "execute_result"
    }
   ],
   "source": [
    "8 % 1"
   ]
  },
  {
   "cell_type": "code",
   "execution_count": 44,
   "id": "d1ffd0ff-b0cc-443f-91eb-48810dfab84e",
   "metadata": {},
   "outputs": [
    {
     "data": {
      "text/plain": [
       "0"
      ]
     },
     "execution_count": 44,
     "metadata": {},
     "output_type": "execute_result"
    }
   ],
   "source": [
    "8 % 2"
   ]
  },
  {
   "cell_type": "code",
   "execution_count": 45,
   "id": "edee0084-cd14-4e3f-baea-e2c0a7b5d8a4",
   "metadata": {},
   "outputs": [
    {
     "data": {
      "text/plain": [
       "2"
      ]
     },
     "execution_count": 45,
     "metadata": {},
     "output_type": "execute_result"
    }
   ],
   "source": [
    "8 % 3"
   ]
  },
  {
   "cell_type": "code",
   "execution_count": 46,
   "id": "bb815122-3269-4c4d-ac64-9739d176bf3f",
   "metadata": {},
   "outputs": [
    {
     "data": {
      "text/plain": [
       "0"
      ]
     },
     "execution_count": 46,
     "metadata": {},
     "output_type": "execute_result"
    }
   ],
   "source": [
    "8 % 4"
   ]
  },
  {
   "cell_type": "markdown",
   "id": "e83245cd-85df-407c-83c9-2956f9469796",
   "metadata": {},
   "source": [
    "We can do modular arithmetic with `%`. This is most commonly used when iterating over a sequence or for testing conditions"
   ]
  },
  {
   "cell_type": "markdown",
   "id": "0a546c77-7eff-4e23-9ef7-38915faeb7c8",
   "metadata": {},
   "source": [
    "## Variables\n",
    "\n",
    "Variables allow us to store values and re-use values. We *assign* a value to a variable with the `=`. "
   ]
  },
  {
   "cell_type": "code",
   "execution_count": 108,
   "id": "c6359cd3-9190-42ba-961a-a615fcb41f53",
   "metadata": {},
   "outputs": [
    {
     "data": {
      "text/plain": [
       "2"
      ]
     },
     "execution_count": 108,
     "metadata": {},
     "output_type": "execute_result"
    }
   ],
   "source": [
    "m = 2\n",
    "m"
   ]
  },
  {
   "cell_type": "markdown",
   "id": "0dc13169-80f5-4b2e-931d-e05f40e1733c",
   "metadata": {},
   "source": [
    "A variable cannot be used until it has been assigned a value."
   ]
  },
  {
   "cell_type": "code",
   "execution_count": 110,
   "id": "d31090a2-67c1-44a0-8b29-5c4b9a559d16",
   "metadata": {},
   "outputs": [],
   "source": [
    "# n"
   ]
  },
  {
   "cell_type": "markdown",
   "id": "4ba32525-6f03-498f-95b5-2627836e788e",
   "metadata": {},
   "source": [
    "### Variable Naming Conventions\n",
    "You can name variables _almost_ whatever you want. There are a few rules that must be followed, and there are a few rules that are just good habits.\n",
    "\n",
    "**Required Variable Naming Conventions**\n",
    "- Names can only consist of letters, underscores, and numbers.\n",
    "- Names can't begin with numbers.\n",
    "- You can't name a variable after a built-in Python keyword (eg `if`).\n",
    "\n",
    "**Variable Naming Good Practices**\n",
    "- Names should _**always**_ be descriptive (ie, don't name variables `x` and `df`) - even if they're long it makes code more readable. There are lots of features in different coding tools (like Jupyter Lab) that make it easy to enter variable names when typing code.\n",
    "- No capital letters - you will get confused.\n",
    "- Variables should not begin with an underscore (this means something special)\n",
    "- When using multiple words to name something, use something called `snake_case`. This means using lower case letters and separate words with a single underscores.\n",
    "- Technically, you _can_ name variables after built-in Python _functions_ (like `print`), but don't - it can seriously confuse things later.\n",
    "    - Rule of thumb: If a variable name turns green, don't use it!\n",
    " \n",
    "In Jupyter Notebooks if you want to see the value of a variable, you can just type it and run the cell."
   ]
  },
  {
   "cell_type": "code",
   "execution_count": 104,
   "id": "9d09cbd8-67e3-46c0-8789-ae07fe5e375c",
   "metadata": {
    "tags": []
   },
   "outputs": [
    {
     "data": {
      "text/plain": [
       "5"
      ]
     },
     "execution_count": 104,
     "metadata": {},
     "output_type": "execute_result"
    }
   ],
   "source": [
    "x = 2\n",
    "x + 3"
   ]
  },
  {
   "cell_type": "code",
   "execution_count": 105,
   "id": "16bcbcca-24ce-46ee-ba70-db9557bef285",
   "metadata": {
    "tags": []
   },
   "outputs": [
    {
     "data": {
      "text/plain": [
       "2"
      ]
     },
     "execution_count": 105,
     "metadata": {},
     "output_type": "execute_result"
    }
   ],
   "source": [
    "x"
   ]
  },
  {
   "cell_type": "code",
   "execution_count": 100,
   "id": "2fae7ef6-f98f-4c27-a686-6900a495cd46",
   "metadata": {
    "tags": []
   },
   "outputs": [
    {
     "data": {
      "text/plain": [
       "5"
      ]
     },
     "execution_count": 100,
     "metadata": {},
     "output_type": "execute_result"
    }
   ],
   "source": [
    "y"
   ]
  },
  {
   "cell_type": "markdown",
   "id": "d0d6f8a7-b629-4a18-8780-38d59b37dce5",
   "metadata": {},
   "source": [
    "Now let's say I redefine my variable. We need to be careful about this. "
   ]
  },
  {
   "cell_type": "code",
   "execution_count": 111,
   "id": "bf8bced8-7345-4183-94f7-ef7fdf341de9",
   "metadata": {
    "tags": []
   },
   "outputs": [],
   "source": [
    "x = 3"
   ]
  },
  {
   "cell_type": "code",
   "execution_count": 112,
   "id": "ca975b59-72f4-4f8a-8e2a-0081035425d1",
   "metadata": {
    "tags": []
   },
   "outputs": [
    {
     "data": {
      "text/plain": [
       "3"
      ]
     },
     "execution_count": 112,
     "metadata": {},
     "output_type": "execute_result"
    }
   ],
   "source": [
    "x"
   ]
  },
  {
   "cell_type": "code",
   "execution_count": 113,
   "id": "5dd687e8-eedb-4f90-aa05-4a3c6258e4e2",
   "metadata": {
    "tags": []
   },
   "outputs": [
    {
     "data": {
      "text/plain": [
       "5"
      ]
     },
     "execution_count": 113,
     "metadata": {},
     "output_type": "execute_result"
    }
   ],
   "source": [
    "y"
   ]
  },
  {
   "cell_type": "code",
   "execution_count": 114,
   "id": "f166af4e-62f6-4790-b3d1-5b8c29d2a566",
   "metadata": {
    "tags": []
   },
   "outputs": [],
   "source": [
    "y = x + 3"
   ]
  },
  {
   "cell_type": "code",
   "execution_count": 14,
   "id": "8a7942d7-9174-460c-aaeb-e2fc345db0d9",
   "metadata": {
    "tags": []
   },
   "outputs": [
    {
     "data": {
      "text/plain": [
       "6"
      ]
     },
     "execution_count": 14,
     "metadata": {},
     "output_type": "execute_result"
    }
   ],
   "source": [
    "y\n"
   ]
  },
  {
   "cell_type": "code",
   "execution_count": 53,
   "id": "4a00831a-83cc-457a-ac60-76d335500b14",
   "metadata": {
    "tags": []
   },
   "outputs": [],
   "source": [
    "initial_value = 3\n",
    "terminal_value = 5\n",
    "important_variable_for_some_function = 7"
   ]
  },
  {
   "cell_type": "code",
   "execution_count": 54,
   "id": "f638a491-166c-4b17-92ae-070da635da2a",
   "metadata": {
    "tags": []
   },
   "outputs": [
    {
     "data": {
      "text/plain": [
       "-2"
      ]
     },
     "execution_count": 54,
     "metadata": {},
     "output_type": "execute_result"
    }
   ],
   "source": [
    "initial_value - terminal_value"
   ]
  },
  {
   "cell_type": "code",
   "execution_count": 55,
   "id": "7c186b5c-2d5b-4262-9be0-2cb64b6760d3",
   "metadata": {
    "tags": []
   },
   "outputs": [
    {
     "data": {
      "text/plain": [
       "4"
      ]
     },
     "execution_count": 55,
     "metadata": {},
     "output_type": "execute_result"
    }
   ],
   "source": [
    "important_variable_for_some_function - initial_value"
   ]
  },
  {
   "cell_type": "markdown",
   "id": "5f0dcf06-5ab7-4979-b520-66ae799398cc",
   "metadata": {},
   "source": [
    "### Exercise:\n",
    "\n",
    "Recall the quadratic formula you may have learned for solving a polynomial equation of the form\n",
    "$$ ax^2 + bx + c = 0$$\n",
    "with coefficients $a$, $b$, $c$:\n",
    "\n",
    "$$ x = \\frac{-b \\pm \\sqrt{b^2 - 4ac}}{2a} $$\n",
    "\n",
    "Turn this into code in the cells below. Use it to find the the solutions to\n",
    "$$3x^2 + 5x - 7 = 0 $$"
   ]
  },
  {
   "cell_type": "code",
   "execution_count": 116,
   "id": "8d3e12e3-4df4-4e1e-9157-76d384d59b62",
   "metadata": {},
   "outputs": [
    {
     "name": "stdout",
     "output_type": "stream",
     "text": [
      "x_1 =  0.9067177514850918\n",
      "x_2 =  -2.5733844181517584\n"
     ]
    }
   ],
   "source": [
    "# assign variables\n",
    "a = 3\n",
    "b = 5\n",
    "c = -7\n",
    "\n",
    "# minus\n",
    "x_1 = (-b + (b**2 - 4*a*c)**(1/2))/ (2*a)\n",
    "# plus\n",
    "x_2 = (-b - (b**2 - 4*a*c)**(1/2))/ (2*a)\n",
    "\n",
    "# print values\n",
    "print('x_1 = ', x_1)\n",
    "print('x_2 = ', x_2)"
   ]
  },
  {
   "cell_type": "markdown",
   "id": "588a8341-9a18-41bf-877b-0b4592a812f8",
   "metadata": {
    "jp-MarkdownHeadingCollapsed": true,
    "tags": []
   },
   "source": [
    "# 1.2 Intro to Coding: Part II"
   ]
  },
  {
   "cell_type": "markdown",
   "id": "8b0ad1ab-81f2-4eae-a542-8e60c2acc129",
   "metadata": {
    "tags": []
   },
   "source": [
    "## Branching: Conditional Statements\n",
    "\n",
    "This is where we introduce how the computer makes decisions in code. In their most simple form, they have the following form\n",
    "\n",
    "```\n",
    "if some condition is true:\n",
    "    do some stuff\n",
    "else:\n",
    "    do some other stuff\n",
    "```\n",
    "\n",
    "We can also have multiple choices available using `elif`. Think of this as a type of shortand for saying `else if`.\n",
    "\n",
    "```\n",
    "if some condition is true:\n",
    "    do some stuff\n",
    "\n",
    "elif this condition is true:\n",
    "    do different stuff\n",
    ".\n",
    ".\n",
    ".\n",
    "else:\n",
    "    do some other stuff\n",
    "```\n",
    "\n",
    "In order to test different conditions we will make use of the following sets of operators\n",
    "\n",
    "### Comparison Operators\n",
    "* `==` Equality\n",
    "* `!=` Inequality\n",
    "* `>` Greater than\n",
    "* `<` Less than\n",
    "* `>=` Greater than or equal to\n",
    "* `<=` Less than or equal to\n",
    "\n",
    "### Logical Operators\n",
    "\n",
    "* `and` means `x` and `y`\n",
    "* `or` means `x` or `y`\n",
    "* `not` means not `x`\n"
   ]
  },
  {
   "cell_type": "code",
   "execution_count": 121,
   "id": "4ac77c02-14b3-4d51-83c9-6fc877db80f2",
   "metadata": {},
   "outputs": [
    {
     "name": "stdout",
     "output_type": "stream",
     "text": [
      "False\n"
     ]
    }
   ],
   "source": [
    "x = 2\n",
    "y = 3\n",
    "\n",
    "if x > y:\n",
    "    print('True')\n",
    "else:\n",
    "    print('False')"
   ]
  },
  {
   "cell_type": "code",
   "execution_count": 123,
   "id": "b91f64ab-99a9-49ef-af0d-5b0da535399a",
   "metadata": {},
   "outputs": [
    {
     "name": "stdout",
     "output_type": "stream",
     "text": [
      "True\n"
     ]
    }
   ],
   "source": [
    "if (x < y) and (y == 3):\n",
    "    print('True')\n",
    "else:\n",
    "    print('False')"
   ]
  },
  {
   "cell_type": "code",
   "execution_count": 130,
   "id": "1aeea02e-6daa-423b-95fa-c73baefa6853",
   "metadata": {},
   "outputs": [
    {
     "name": "stdout",
     "output_type": "stream",
     "text": [
      "0\n",
      "1\n",
      "2\n",
      "3\n",
      "4\n"
     ]
    }
   ],
   "source": [
    "for i in range(5):\n",
    "    print(i)"
   ]
  },
  {
   "cell_type": "markdown",
   "id": "26b6cdfc-e3c2-44b5-a9d9-c85d4f84b20d",
   "metadata": {},
   "source": [
    "## Loops\n",
    "\n",
    "Loops allow you to repeat lines of code. \n",
    "\n",
    "### For Loops\n",
    "\n",
    "For loops repeat a statement or collection of statements for every element of an iterable sequence (`list`, `range`, `dict`, `file`, `str`). The statements are executed once for each element."
   ]
  },
  {
   "cell_type": "code",
   "execution_count": 2,
   "id": "4aa23273-a584-42cb-97e2-e1528ef26801",
   "metadata": {
    "tags": []
   },
   "outputs": [
    {
     "name": "stdout",
     "output_type": "stream",
     "text": [
      "Nicole\n",
      "Shae\n",
      "Shannon\n",
      "Leasly\n",
      "Mya\n",
      "Emma\n",
      "Kederson\n",
      "Lily\n",
      "Robert\n",
      "Cecelia\n"
     ]
    }
   ],
   "source": [
    "names = ['Nicole', 'Shae', 'Shannon', 'Leasly', 'Mya', 'Emma', 'Kederson', 'Lily', 'Robert', 'Cecelia']\n",
    "\n",
    "for name in names:\n",
    "    print(name)"
   ]
  },
  {
   "cell_type": "markdown",
   "id": "d2d96e21-b55c-4502-bbce-6029f62cb47d",
   "metadata": {
    "tags": []
   },
   "source": [
    "#### The Range Function\n",
    "\n",
    "If we don't have an existing sequence we want to iterate over, we can create one with the `range(n)` function. \n",
    "\n",
    "* `range(n)`:   $[0, 1, 2, 3, \\dots, n-1]$\n",
    "* `range(p, q)`:     $[p, p+1, p+2, \\dots, q-1]$\n",
    "* `range(p, q, r)`:  $[p, p+r, p+(2*r), \\dots, q-1]$"
   ]
  },
  {
   "cell_type": "code",
   "execution_count": 136,
   "id": "245ba93f-c2df-4210-88ad-ef4ba44ca1c3",
   "metadata": {},
   "outputs": [
    {
     "name": "stdout",
     "output_type": "stream",
     "text": [
      "0\n",
      "1\n",
      "2\n",
      "3\n",
      "4\n"
     ]
    }
   ],
   "source": [
    "for i in range(5):\n",
    "    print(i)"
   ]
  },
  {
   "cell_type": "code",
   "execution_count": 137,
   "id": "c6cbde00-9064-46be-9f01-7c6b333c9748",
   "metadata": {},
   "outputs": [
    {
     "name": "stdout",
     "output_type": "stream",
     "text": [
      "1\n",
      "2\n",
      "3\n",
      "4\n"
     ]
    }
   ],
   "source": [
    "for i in range(1, 5):\n",
    "    print(i)"
   ]
  },
  {
   "cell_type": "code",
   "execution_count": 138,
   "id": "d207c6ac-e305-4c12-ae08-c710b469f30b",
   "metadata": {},
   "outputs": [
    {
     "name": "stdout",
     "output_type": "stream",
     "text": [
      "0\n",
      "2\n",
      "4\n"
     ]
    }
   ],
   "source": [
    "for i in range(0, 5, 2):\n",
    "    print(i)"
   ]
  },
  {
   "cell_type": "markdown",
   "id": "9e0b8158-557c-45b4-b32a-2d6053d96be9",
   "metadata": {
    "tags": []
   },
   "source": [
    "#### Nested For Loops\n",
    "\n",
    "If we have to iterate over a sequence that also contains sequences, we can *nest* multiple for loops."
   ]
  },
  {
   "cell_type": "code",
   "execution_count": 141,
   "id": "d64e663d-8b6c-4b1a-9e97-bec829d7a5bf",
   "metadata": {},
   "outputs": [
    {
     "name": "stdout",
     "output_type": "stream",
     "text": [
      "--------------------\n",
      "Group  0\n",
      "--------------------\n",
      "Nicole\n",
      "Shae\n",
      "Shannon\n",
      "--------------------\n",
      "Group  1\n",
      "--------------------\n",
      "Leasly\n",
      "Mya\n",
      "Emma\n",
      "--------------------\n",
      "Group  2\n",
      "--------------------\n",
      "Kederson\n",
      "Lily\n",
      "Robert\n",
      "Cecelia\n"
     ]
    }
   ],
   "source": [
    "student_groups = [ ['Nicole', 'Shae', 'Shannon'] , ['Leasly', 'Mya', 'Emma'], ['Kederson', 'Lily', 'Robert', 'Cecelia'] ]\n",
    "\n",
    "for i in range(len(student_groups)):\n",
    "    \n",
    "    print(20*'-')\n",
    "    print('Group ', i)\n",
    "    print(20*'-')\n",
    "\n",
    "    for name in student_groups[i]:\n",
    "        print(name)"
   ]
  },
  {
   "cell_type": "markdown",
   "id": "5616b54d-4aa6-4a4f-b1fe-ba4a183bb88a",
   "metadata": {
    "tags": []
   },
   "source": [
    "### While Loops\n",
    "\n",
    "While loops contain a sequence of statements that are repeated over and over again until some condition is met."
   ]
  },
  {
   "cell_type": "code",
   "execution_count": 134,
   "id": "c8365125-9f6f-4b19-b960-fcda34b0e8d1",
   "metadata": {},
   "outputs": [
    {
     "name": "stdout",
     "output_type": "stream",
     "text": [
      "blah\n",
      "blah\n",
      "blah\n",
      "blah\n",
      "blah\n",
      "blah\n",
      "blah\n",
      "blah\n",
      "blah\n",
      "blah\n",
      "blah\n",
      "dan has been talking too long \n",
      "goodnight dan\n"
     ]
    }
   ],
   "source": [
    "count = 0\n",
    "dan = 'talking'\n",
    "\n",
    "while dan == 'talking':\n",
    "    print('blah')\n",
    "    count += 1    # += adds the value to the existing value and assigns the updated value to the variable\n",
    "    \n",
    "    if count > 10:\n",
    "        print('dan has been talking too long \\ngoodnight dan')\n",
    "        dan = 'sleeping'\n",
    "    "
   ]
  },
  {
   "cell_type": "markdown",
   "id": "b1e228c4-c2b3-4d1e-8534-0f03c9320295",
   "metadata": {},
   "source": [
    "### Break and Continue\n",
    "\n",
    "There may be times where we need to exit a loop after some condition is met. To do this, we use `break`. If a condition is met that has this statement, then the code immediately exits the loop."
   ]
  },
  {
   "cell_type": "code",
   "execution_count": 142,
   "id": "925b7319-6514-4010-9a55-d5cacc470f11",
   "metadata": {},
   "outputs": [
    {
     "name": "stdout",
     "output_type": "stream",
     "text": [
      "0\n",
      "1\n",
      "2\n",
      "3\n",
      "4\n",
      "5\n",
      "6\n",
      "7\n",
      "8\n"
     ]
    }
   ],
   "source": [
    "for i in range(10):\n",
    "\n",
    "    print(i)\n",
    "\n",
    "    if i == 8:\n",
    "        break"
   ]
  },
  {
   "cell_type": "markdown",
   "id": "6198c327-a4eb-44e1-a4f8-f1408e325d47",
   "metadata": {},
   "source": [
    "We also have `continue`. This lets us enter the next iteration, but skips any code in the loop that comes after this statement."
   ]
  },
  {
   "cell_type": "code",
   "execution_count": 144,
   "id": "adeee12d-7b57-4485-bf4b-edbfbfd53106",
   "metadata": {},
   "outputs": [
    {
     "name": "stdout",
     "output_type": "stream",
     "text": [
      "5\n",
      "10\n",
      "15\n",
      "20\n",
      "25\n"
     ]
    }
   ],
   "source": [
    "i = 1\n",
    "\n",
    "while i <= 25:\n",
    "    i = i + 1\n",
    "\n",
    "    if i % 5 != 0:  # for any value that isn't a multiple of 5, skip printing\n",
    "        continue\n",
    "\n",
    "    print(i)"
   ]
  },
  {
   "cell_type": "code",
   "execution_count": null,
   "id": "64a74109-5d74-4957-9d2c-854392d9bcf5",
   "metadata": {},
   "outputs": [],
   "source": []
  }
 ],
 "metadata": {
  "kernelspec": {
   "display_name": "Python 3 (ipykernel)",
   "language": "python",
   "name": "python3"
  },
  "language_info": {
   "codemirror_mode": {
    "name": "ipython",
    "version": 3
   },
   "file_extension": ".py",
   "mimetype": "text/x-python",
   "name": "python",
   "nbconvert_exporter": "python",
   "pygments_lexer": "ipython3",
   "version": "3.9.18"
  }
 },
 "nbformat": 4,
 "nbformat_minor": 5
}
