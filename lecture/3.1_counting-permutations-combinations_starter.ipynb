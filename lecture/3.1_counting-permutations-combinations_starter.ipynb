{
 "cells": [
  {
   "cell_type": "markdown",
   "id": "384f834d-3ee9-4f34-b640-3be2a7875fd5",
   "metadata": {},
   "source": [
    "# 3.1 Counting, Permutations & Combinations"
   ]
  },
  {
   "cell_type": "markdown",
   "id": "f6f9dfeb-1d74-4a4f-b589-2e0be418e492",
   "metadata": {},
   "source": [
    "## Basics of Python: Libraries & Lists\n",
    "\n",
    "### Libraries\n",
    "\n",
    "So far in this course we have only used the basic functionality of Python. Aside from our \"Guess the Number\" game, we have not yet had the need to import any additional libraries. In simplest terms, a library is a collection of functions.\n",
    "\n",
    "There are two types of libraries. The standard python libraries are the libraries that come with any standard installation of Python. A list of them can be found here at [python.org](https://docs.python.org/3/library/index.html)\n",
    "\n",
    "There are also non-standard libraries. Most of the ones we will use are already installed on your system because they come with the Anaconda distribution.\n",
    "\n",
    "We gain access to these functions using the `import` command. For example, in our \"Guess the Number\" game we used the `random` library. We were able to access these functions after we included the line\n",
    "\n",
    "```\n",
    "import random\n",
    "```\n",
    "This imported all of the functions from the `random` libary. Sometimes, we may want to only import a single function or a collection of functions from a library, which are organized into \"sub-libraries\". For example, in this notebook we'll make use of the functions `permutations()` and `combinations()` functions from the `itertools` library. We'll do this with the line\n",
    "```\n",
    "from itertools import permutations \n",
    "```\n",
    "and this will import the `permutations()` function. We can also import the entire library, but give it a 'nickname' or shorthand as we're coding by doing the following\n",
    "\n",
    "```\n",
    "import itertools as it\n",
    "```\n",
    "When writing a python script, good practice is to import all of your libaries at the top of the file (we'll see this next week). Python notebooks make this a little harder, because you can easily lose where you imported a particular library.\n",
    "\n",
    "> &#128187; **Tech Note**\n",
    "In this notebook, we'll use the bad practice of importing the library in the code cell that we need to use it. When doing your own work, you want to try and avoid this, and include a cell at the top of your notebook that includes all of the libraries you'll be using.\n",
    "\n",
    "### Working with Lists\n",
    "\n",
    "Recall the basic form of a list"
   ]
  },
  {
   "cell_type": "code",
   "execution_count": null,
   "id": "66e553a5-b2ab-4a9e-a799-2d14adae09da",
   "metadata": {},
   "outputs": [],
   "source": [
    "names = ['Nicole', 'Shae', 'Shannon', 'Leasly', 'Mya', 'Emma', 'Robert', 'Cecelia']"
   ]
  },
  {
   "cell_type": "markdown",
   "id": "25ff181e-05c6-4718-b363-d3a824ab255e",
   "metadata": {},
   "source": [
    "Note that these elements have the following indices\n",
    "\n",
    "```\n",
    "index       0        1         2        3         4       5       6          7      \n",
    "names  ['Nicole', 'Shae', 'Shannon', 'Leasly', 'Mya', 'Emma', 'Robert', 'Cecelia']\n",
    "``` "
   ]
  },
  {
   "cell_type": "markdown",
   "id": "d5abda9e-6c13-4bbf-94bc-7f9953ef1bed",
   "metadata": {},
   "source": [
    "We can call a particular element in the list by using it's index. Remember that Python starts indexing at 0.\n",
    "\n",
    "So if we want to get the third element in the list `names` we use the syntax"
   ]
  },
  {
   "cell_type": "code",
   "execution_count": null,
   "id": "3e8b3900-74f9-42f4-9c63-2236f7e58842",
   "metadata": {},
   "outputs": [],
   "source": []
  },
  {
   "cell_type": "markdown",
   "id": "ce07a4db-0dc2-4e06-95e4-85f8d97c3dcb",
   "metadata": {},
   "source": [
    "We can get a 'slice' of the list for a range of indices"
   ]
  },
  {
   "cell_type": "code",
   "execution_count": null,
   "id": "759675c9-8619-47e7-bab0-359a9d33202e",
   "metadata": {},
   "outputs": [],
   "source": []
  },
  {
   "cell_type": "markdown",
   "id": "d3bb25b1-2aae-46b3-8582-0e6fb6c26d44",
   "metadata": {},
   "source": [
    "We get the length or number of elements in a list by using `len`"
   ]
  },
  {
   "cell_type": "code",
   "execution_count": null,
   "id": "2797ab4b-d727-4207-b23b-073d1c90a9b7",
   "metadata": {},
   "outputs": [],
   "source": []
  },
  {
   "cell_type": "markdown",
   "id": "01394120-cad7-4d27-bde5-51c071553e29",
   "metadata": {},
   "source": [
    "We can add elements to the end of a list using `append`"
   ]
  },
  {
   "cell_type": "code",
   "execution_count": null,
   "id": "a931655f-1449-4bdb-b312-f6a753bafbc9",
   "metadata": {},
   "outputs": [],
   "source": []
  },
  {
   "cell_type": "markdown",
   "id": "032184b3-66ed-4bff-9d59-3a564f5cfa39",
   "metadata": {},
   "source": [
    "We can remove an element from the end of a list using `pop`"
   ]
  },
  {
   "cell_type": "code",
   "execution_count": null,
   "id": "fc951b8c-2cfe-4297-8f2a-b2068e271ffb",
   "metadata": {},
   "outputs": [],
   "source": []
  },
  {
   "cell_type": "markdown",
   "id": "a4b5f256-8fd2-4233-9100-f702407a82a6",
   "metadata": {},
   "source": [
    "We can also sort a list of values using `sort`. Note that you can only sort a list if it has one type of element (either strings or numerical values)"
   ]
  },
  {
   "cell_type": "code",
   "execution_count": null,
   "id": "0e40d47d-0e94-467e-8aa6-6c957440a6fc",
   "metadata": {},
   "outputs": [],
   "source": []
  },
  {
   "cell_type": "markdown",
   "id": "5d290a87-462f-44c2-b133-dda28a3e22d0",
   "metadata": {},
   "source": [
    "There are many other list manipulation options available, these are just some of the basics. More information is just a google search away!"
   ]
  },
  {
   "cell_type": "markdown",
   "id": "1ef190a0-3049-41c5-9624-cfdeb2bdddc1",
   "metadata": {},
   "source": [
    "## Counting\n",
    "\n",
    "> **Basic Counting Rule**  \n",
    "If asked to choose from $m$ items in one category and $n$ items in a second category, then the total number of available choices is given by $m \\cdot n$. This definition can be expanded for more than 2 categories.\n",
    "\n",
    "### Example 1\n",
    "\n",
    "Suppose at a particular restaurant you have \n",
    "* 8 choices for an appetizer,\n",
    "* 11 choices for a main course\n",
    "* 5 choices for dessert\n",
    "\n",
    "If you are allowed to choose exactly one item from each category for your meal, how many different meal options do you have?\n",
    "\n",
    "Applying the basic counting rule we have\n",
    "\n",
    "$$ 8 \\cdot 11 \\cdot 5 =  440$$\n",
    "\n",
    "Now let's try doing this with some code but now we're going to expand on what we know by employing a list. This will allow us to include any number of choices from any number of categories and our code will count things properly for us.\n",
    "\n",
    "First, we'll just write a block of code that does this once for a particular case. Then we'll write a general version and use it to define a function."
   ]
  },
  {
   "cell_type": "code",
   "execution_count": null,
   "id": "b10dd8d9-2357-4a70-b1cb-616935104312",
   "metadata": {},
   "outputs": [],
   "source": [
    "## solving Example 1\n",
    "\n"
   ]
  },
  {
   "cell_type": "code",
   "execution_count": null,
   "id": "b92c8699-57fb-4c4c-a88a-a2d0cd3eecb9",
   "metadata": {},
   "outputs": [],
   "source": [
    "## define basic_counting function\n",
    "\n"
   ]
  },
  {
   "cell_type": "code",
   "execution_count": null,
   "id": "56ea1f2c-8795-4f08-9940-e7fe7b05f958",
   "metadata": {},
   "outputs": [],
   "source": []
  },
  {
   "attachments": {},
   "cell_type": "markdown",
   "id": "c8640a66-f897-4fe0-9f1b-4d7544e7604c",
   "metadata": {},
   "source": [
    "## Permutations\n",
    "\n",
    "There is an even faster way to solve some of the problems we have already learned to solve by other means.\n",
    "\n",
    "For example: How many different ways can the letters of the word MATH be rearranged to form a four-letter code word?\n",
    "\n",
    "In this case, we are repeatedly choosing items from the same category (i.e. letters in MATH), so each time we choose an item we do not replace it, and so there is one fewer choice at the next stage. This gives\n",
    "\n",
    "* 4 choices for the first letter\n",
    "* 3 choices for the second\n",
    "* 2 choices for the next letter\n",
    "* 1 choice for the last\n",
    "\n",
    "This gives us \n",
    "$$ 4 \\cdot 3 \\cdot 2 \\cdot 1 = 24$$ \n",
    "\n",
    "and so there are 24 ways to create a word with the letters in MATH.\n",
    "\n",
    "The pattern in this calculation is known as a *factorial*.\n",
    "\n",
    "> **Factorial**  \n",
    "$$n! = n \\cdot (n - 1) \\cdot (n - 2) \\cdot \\cdot \\cdot 3 \\cdot 2 \\cdot 1$$\n",
    "\n",
    "We can write a simple bit of code that can calculate this for us."
   ]
  },
  {
   "cell_type": "code",
   "execution_count": null,
   "id": "02029633-f39d-42ed-9bcc-4070780fade0",
   "metadata": {},
   "outputs": [],
   "source": []
  },
  {
   "cell_type": "markdown",
   "id": "e0232d45-6b90-4211-a985-e17bb6f8295b",
   "metadata": {},
   "source": [
    "We can also make use of the factorial function in the `math` library."
   ]
  },
  {
   "cell_type": "code",
   "execution_count": null,
   "id": "17964997-d4f9-4d32-84e8-57279f488f62",
   "metadata": {},
   "outputs": [],
   "source": []
  },
  {
   "cell_type": "markdown",
   "id": "e0361778-4f24-4621-b4c9-0b415cf26eff",
   "metadata": {},
   "source": [
    "In the previous example, the order of selection mattered and we did not replace any items. This is a special case known as a *permutation*.\n",
    "\n",
    "> **Permutations**  \n",
    "The number of permutations of size $r$ that may be selected among $n$ choices without replacement when order matters is given by\n",
    "$$ _nP_r = n \\cdot (n - 1) \\cdot (n - 2) \\cdot \\cdot \\cdot (n - r + 1) = \\frac{n!}{(n-r)!}$$"
   ]
  },
  {
   "cell_type": "markdown",
   "id": "cba51948-6900-4dc8-93ba-e71f4043f4c0",
   "metadata": {},
   "source": [
    "### Finding Permutations with Python\n",
    "\n",
    "Python actually has a package that contains functions that will allow us to find all the permutations. Be careful though. For cases with a lot of possible outcomes may take your computer a while to compute."
   ]
  },
  {
   "cell_type": "code",
   "execution_count": null,
   "id": "3ae81bea-13d8-453f-a995-18d052714a1a",
   "metadata": {},
   "outputs": [],
   "source": [
    "from itertools import permutations\n",
    "\n",
    "math = permutations(['M', 'A', 'T', 'H'], 4)\n",
    "\n",
    "# turning permutations into a list we can iterate over.\n",
    "math_list = list(math)\n",
    "\n",
    "for i in math_list:\n",
    "    print(i)\n",
    "\n",
    "# math_list\n",
    "print('Num of Permutations: ', len(math_list))"
   ]
  },
  {
   "cell_type": "code",
   "execution_count": null,
   "id": "384d4901-6c4a-4e6f-92b5-838192a1fa29",
   "metadata": {},
   "outputs": [],
   "source": []
  },
  {
   "cell_type": "markdown",
   "id": "5d520e4a-5018-4171-9baa-fea10cfaf557",
   "metadata": {},
   "source": [
    "### Example 2\n",
    "\n",
    "\n",
    "How many ways can a four-person executive committee (president, vice-president, secretary, treasurer) be selected from a 16-member board of directors of a non-profit organization?\n",
    "\n",
    "We want to choose 4 people out of 16 without replacement and where the order of selection important. This gives us\n",
    "\n",
    "$$ _{16}P_4 = 16 \\cdot 15 \\cdot 14 \\cdot 13 = 43680 $$\n",
    "\n",
    "This notation is difficult enough to remember. So let's write some code that will do it for us.\n"
   ]
  },
  {
   "cell_type": "code",
   "execution_count": null,
   "id": "4c964efa-ef65-4e05-8509-693f739e858d",
   "metadata": {},
   "outputs": [],
   "source": [
    "## permutations\n"
   ]
  },
  {
   "cell_type": "markdown",
   "id": "c37959cd-42d5-4f3e-8bbc-1850ef4fc8db",
   "metadata": {},
   "source": [
    "## Combinations\n",
    "\n",
    "Next we explore situations where the order *doesn't* matter. This is known as a *combination*.\n",
    "\n",
    "> **Combinations**  \n",
    "The number of combinations of size $r$ that may be selected from among $n$ choices without replacement where order doesn't matter is given by\n",
    "$$ _nC_r = \\frac{_nP_r}{_rP_r} = \\frac{n!}{(n-r)! \\; r!}$$\n",
    "\n",
    "### Example 3\n",
    "\n",
    "A group of four students is to be chosen from a 35-member class to represent the class on the student council. How many ways can this be done?\n",
    "\n",
    "Since we are choosing 4 people out of 35 without replacement where the order of selection is not important there are\n",
    "\n",
    "$$_{35}C_4 = \\frac{_{35}P_4}{{_4}P_4} = \\frac{35 \\cdot 34 \\cdot 33 \\cdot 32}{4 \\cdot 3 \\cdot 2 \\cdot 1} $$\n",
    "\n",
    "Let's try this with some code."
   ]
  },
  {
   "cell_type": "code",
   "execution_count": null,
   "id": "8a237663-777e-41c8-a444-0e03df07eafa",
   "metadata": {},
   "outputs": [],
   "source": [
    "## combinations\n"
   ]
  },
  {
   "cell_type": "code",
   "execution_count": null,
   "id": "4acaff39-8263-4c0a-a72a-27dcb1e8d8fb",
   "metadata": {},
   "outputs": [],
   "source": []
  },
  {
   "cell_type": "markdown",
   "id": "8ec6e5f5-e5d9-49c0-9e77-872bf15b919d",
   "metadata": {},
   "source": [
    "## Probability with Permutations & Combinations\n",
    "\n",
    "To calculate probabilities with permutations and combinations, we'll need to involve our earlier definitions for calculating basic probability. Recall that we compute the probability of an event $E$ as\n",
    "$$P(E) = \\frac{\\text{Number of outcomes for the event }E}{\\text{Total number of equally-likely outcomes}} $$\n",
    "\n",
    "### Example 4\n",
    "Scrabble is a word-building board game. Players make hands of 7 letters by selecting tiles with single letters printed on them blindly from a bag (2 tiles have nothing printed on them; these blanks can stand for any letter). Players use the letters in their hands to spell out words on the board. Initially, there are 100 tiles in the bag. Of those, \n",
    "* 44 are vowels (9 As, 12 Es, 9 Is, 8 Os, 4 Us, and 2 blanks, we’ll treat Y as a consonant).\n",
    "* $100 - 44 = 56$ are consonants\n",
    "  \n",
    "What is the probability that your initial hand has no vowels?\n",
    "\n",
    "The number of possible starting combinations is given by\n",
    "\n",
    "$$_{100}C_7 = 16,007,560,800 $$\n",
    "\n",
    "The number of consonants in the bag is given by\n",
    "$$_{56}C_7 = 231 917 400 $$\n",
    "\n",
    "So the probability of drawing all consonants is given by\n",
    "\n",
    "$$ P(\\text{all consonants}) = \\frac{_{56}C_7}{_{100}C_7} = \\frac{231 917 400}{16,007,560,800}\\approx 0.0145$$\n",
    "\n"
   ]
  },
  {
   "cell_type": "code",
   "execution_count": null,
   "id": "0f569669-f4ea-4a49-b3c1-476dac8b35f9",
   "metadata": {},
   "outputs": [],
   "source": [
    "from math import factorial\n",
    "\n",
    "num_of_tiles = 100 \n",
    "num_of_vowels = 44\n",
    "num_of_consonants = num_of_tiles - num_of_vowels\n",
    "hand_size = 7 # size of set\n",
    "\n",
    "# combinations of all hands possible\n",
    "\n",
    "\n",
    "# combinations of consonant only hands possible\n",
    "\n",
    "\n",
    "### calculate probability\n",
    "\n"
   ]
  }
 ],
 "metadata": {
  "kernelspec": {
   "display_name": "Python 3 (ipykernel)",
   "language": "python",
   "name": "python3"
  },
  "language_info": {
   "codemirror_mode": {
    "name": "ipython",
    "version": 3
   },
   "file_extension": ".py",
   "mimetype": "text/x-python",
   "name": "python",
   "nbconvert_exporter": "python",
   "pygments_lexer": "ipython3",
   "version": "3.10.13"
  }
 },
 "nbformat": 4,
 "nbformat_minor": 5
}
