{
 "cells": [
  {
   "cell_type": "markdown",
   "id": "8b739754-1f27-488e-bbab-4af74690d756",
   "metadata": {},
   "source": [
    "# Project 1: Monte Carlo & Probability"
   ]
  },
  {
   "cell_type": "markdown",
   "id": "cd72c9b8-75c3-492f-9519-00c61e7ad219",
   "metadata": {},
   "source": [
    "**Table of Contents**\n",
    "\n",
    "* [Introduction](#intro)\n",
    "* [Experiments](#experiments)\n",
    "* [Disscussion of Results](#results)\n",
    "* [Reflection](#reflection)\n",
    "\n",
    "\n",
    "## I. Introduction <a class=\"anchor\" id=\"intro\"></a>\n",
    "\n",
    "### Game Description \n",
    "\n",
    "You can insert an image using the following:\n",
    "\n",
    "<img src=\"game_example_image.png\" \n",
    "    alt=\"Drawing\" \n",
    "    style=\"width: 400px\"/>\n",
    "\n",
    "### Game Outcomes\n",
    "\n",
    "Below is an example of how to make a table in markdown. You can read more about formatting here: https://saturncloud.io/blog/tables-in-markdown-in-jupyter/\n",
    "| Column 1 | Column 2 | Column 3 |\n",
    "|:--------:|:--------:|:--------:|\n",
    "|  Row 1   |  Row 1   |  Row 1   |\n",
    "|  Row 2   |  Row 2   |  Row 2   |\n",
    "|  Row 3   |  Row 3   |  Row 3   |\n"
   ]
  },
  {
   "cell_type": "markdown",
   "id": "6702139e-a679-40a3-af80-8153d2e19e53",
   "metadata": {},
   "source": []
  },
  {
   "cell_type": "markdown",
   "id": "18b0e618-ce23-4a4d-9514-e7baf8e926bc",
   "metadata": {},
   "source": [
    "## II. Experiments <a class=\"anchor\" id=\"experiments\"></a>\n",
    "\n",
    "\n",
    "\n",
    "### Expected Value\n",
    "\n"
   ]
  },
  {
   "cell_type": "code",
   "execution_count": null,
   "id": "6c2ac9af-2a1b-4d5a-a395-a8993dacd9f2",
   "metadata": {},
   "outputs": [],
   "source": []
  },
  {
   "cell_type": "code",
   "execution_count": null,
   "id": "ff0de903-14d1-446b-a019-545f99713451",
   "metadata": {},
   "outputs": [],
   "source": []
  },
  {
   "cell_type": "markdown",
   "id": "23a627d7-add9-492e-bf56-2a724919281a",
   "metadata": {},
   "source": [
    "### Monte Carlo Simulations "
   ]
  },
  {
   "cell_type": "code",
   "execution_count": null,
   "id": "78d578df-301d-4f55-966e-20c9c7229bac",
   "metadata": {},
   "outputs": [],
   "source": []
  },
  {
   "cell_type": "code",
   "execution_count": null,
   "id": "4a841605-03b9-4ba3-bcb3-0222cacba188",
   "metadata": {},
   "outputs": [],
   "source": []
  },
  {
   "cell_type": "markdown",
   "id": "4ab49852-adcb-40ca-8a9a-0d321452487a",
   "metadata": {},
   "source": [
    "## III. Discussion of Results <a class=\"anchor\" id=\"results\"></a>"
   ]
  },
  {
   "cell_type": "code",
   "execution_count": null,
   "id": "575b2895-c3e0-40c8-b92c-6f51aefcb4ca",
   "metadata": {},
   "outputs": [],
   "source": []
  },
  {
   "cell_type": "code",
   "execution_count": null,
   "id": "5209de69-3f79-4411-9394-04e1ee14c212",
   "metadata": {},
   "outputs": [],
   "source": []
  },
  {
   "cell_type": "markdown",
   "id": "d81613af-82b7-41d1-bb76-bf739bfb7638",
   "metadata": {
    "editable": true,
    "slideshow": {
     "slide_type": ""
    },
    "tags": []
   },
   "source": [
    "## IV. Reflection <a class=\"anchor\" id=\"reflection\"></a>"
   ]
  },
  {
   "cell_type": "code",
   "execution_count": null,
   "id": "4b04c91f-13a9-456f-b02d-af85ea8dd404",
   "metadata": {},
   "outputs": [],
   "source": []
  },
  {
   "cell_type": "code",
   "execution_count": null,
   "id": "17187d31-7cde-46aa-ad78-81e843025653",
   "metadata": {},
   "outputs": [],
   "source": []
  },
  {
   "cell_type": "markdown",
   "id": "d201c72e-a4c1-4475-990a-3b9bb8c2e6bd",
   "metadata": {},
   "source": [
    "## Citations\n",
    "\n",
    "\n"
   ]
  },
  {
   "cell_type": "markdown",
   "id": "bb32f73c-fa48-4359-9f7e-4ce7524de956",
   "metadata": {},
   "source": [
    "Be sure to list your references here. This includes, websites, books, videos, etc. that you use in completion of your project.\n",
    "Note that you also need to cite if you consulted or worked with any classmates in completing aspects of your project."
   ]
  },
  {
   "cell_type": "code",
   "execution_count": null,
   "id": "46e596f7-02bf-477f-b41f-dc5890cfd738",
   "metadata": {},
   "outputs": [],
   "source": []
  }
 ],
 "metadata": {
  "kernelspec": {
   "display_name": "Python 3 (ipykernel)",
   "language": "python",
   "name": "python3"
  },
  "language_info": {
   "codemirror_mode": {
    "name": "ipython",
    "version": 3
   },
   "file_extension": ".py",
   "mimetype": "text/x-python",
   "name": "python",
   "nbconvert_exporter": "python",
   "pygments_lexer": "ipython3",
   "version": "3.10.13"
  }
 },
 "nbformat": 4,
 "nbformat_minor": 5
}
