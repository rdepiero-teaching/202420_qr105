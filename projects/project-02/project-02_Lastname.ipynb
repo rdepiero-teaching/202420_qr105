{
 "cells": [
  {
   "cell_type": "markdown",
   "id": "9496b0d9-98ae-42cd-a2cb-1184cf4e95f2",
   "metadata": {},
   "source": [
    "# Project 2: Exploring MA Public School Data"
   ]
  },
  {
   "cell_type": "code",
   "execution_count": null,
   "id": "588c0854-ea4b-464b-9cb1-b72323c071c9",
   "metadata": {},
   "outputs": [],
   "source": []
  },
  {
   "cell_type": "code",
   "execution_count": null,
   "id": "9aaec156-1665-4cd4-a9ec-028f85410791",
   "metadata": {},
   "outputs": [],
   "source": []
  },
  {
   "cell_type": "code",
   "execution_count": null,
   "id": "c6cd2f7a-b0ec-46ac-b492-5926a093a244",
   "metadata": {},
   "outputs": [],
   "source": []
  },
  {
   "cell_type": "markdown",
   "id": "6680210f-f9a2-4b10-993b-63f53162e55c",
   "metadata": {},
   "source": [
    "## I. Basic Data Cleaning"
   ]
  },
  {
   "cell_type": "code",
   "execution_count": null,
   "id": "d9f1d29d-e584-4cb9-b7c1-f4887d201dd4",
   "metadata": {},
   "outputs": [],
   "source": []
  },
  {
   "cell_type": "code",
   "execution_count": null,
   "id": "00b61e1f-6e9c-4e66-99a4-6bce02484e81",
   "metadata": {},
   "outputs": [],
   "source": []
  },
  {
   "cell_type": "code",
   "execution_count": null,
   "id": "74bf62fb-d752-4dcd-9f01-009699f326f5",
   "metadata": {},
   "outputs": [],
   "source": []
  },
  {
   "cell_type": "markdown",
   "id": "141c8b7b-eaa8-4d78-a33f-0656d178483d",
   "metadata": {},
   "source": [
    "## II. Data Exploration"
   ]
  },
  {
   "cell_type": "code",
   "execution_count": null,
   "id": "e19ffd1c-0d17-4cc1-8e20-455fc27d7ca1",
   "metadata": {},
   "outputs": [],
   "source": []
  },
  {
   "cell_type": "code",
   "execution_count": null,
   "id": "d4b8e18a-ecae-4080-8e43-71c6fb4801e8",
   "metadata": {},
   "outputs": [],
   "source": []
  },
  {
   "cell_type": "code",
   "execution_count": null,
   "id": "d5105437-d09f-4a95-8561-4d2ffa0cd078",
   "metadata": {},
   "outputs": [],
   "source": []
  },
  {
   "cell_type": "markdown",
   "id": "b771b28e-21d8-40df-925c-8706161eeecc",
   "metadata": {},
   "source": [
    "## III. Data Visualizations"
   ]
  },
  {
   "cell_type": "code",
   "execution_count": null,
   "id": "b5b87bcf-e30c-4cf5-858d-b3700bcf0d98",
   "metadata": {},
   "outputs": [],
   "source": []
  },
  {
   "cell_type": "code",
   "execution_count": null,
   "id": "960502ad-90f6-45af-a349-38a095cce1e3",
   "metadata": {},
   "outputs": [],
   "source": []
  },
  {
   "cell_type": "code",
   "execution_count": null,
   "id": "997a1371-5520-404a-8eb4-77fe24c761aa",
   "metadata": {},
   "outputs": [],
   "source": []
  },
  {
   "cell_type": "code",
   "execution_count": null,
   "id": "4485c859-4cd6-485e-8f54-e7d7f263a5fb",
   "metadata": {},
   "outputs": [],
   "source": []
  },
  {
   "cell_type": "markdown",
   "id": "e90654de-67e9-4d4e-a546-6a872c753007",
   "metadata": {},
   "source": [
    "## IV. Conclusions & Future Investigations"
   ]
  },
  {
   "cell_type": "code",
   "execution_count": null,
   "id": "9e3959b7-ffef-4c12-87a7-6c7905a573ed",
   "metadata": {},
   "outputs": [],
   "source": []
  },
  {
   "cell_type": "code",
   "execution_count": null,
   "id": "55cec440-a9c2-41e2-b318-11ed2185046b",
   "metadata": {},
   "outputs": [],
   "source": []
  },
  {
   "cell_type": "code",
   "execution_count": null,
   "id": "81791bf9-0cad-47be-9067-b820fad2b5fe",
   "metadata": {},
   "outputs": [],
   "source": []
  },
  {
   "cell_type": "code",
   "execution_count": null,
   "id": "41f4bf2a-5451-4863-ad6f-ba69b5104f9d",
   "metadata": {},
   "outputs": [],
   "source": []
  }
 ],
 "metadata": {
  "kernelspec": {
   "display_name": "Python 3 (ipykernel)",
   "language": "python",
   "name": "python3"
  },
  "language_info": {
   "codemirror_mode": {
    "name": "ipython",
    "version": 3
   },
   "file_extension": ".py",
   "mimetype": "text/x-python",
   "name": "python",
   "nbconvert_exporter": "python",
   "pygments_lexer": "ipython3",
   "version": "3.10.13"
  }
 },
 "nbformat": 4,
 "nbformat_minor": 5
}
