{
 "cells": [
  {
   "cell_type": "markdown",
   "id": "d05c65d5-2815-4dbf-9bac-575e6ea3ad7d",
   "metadata": {},
   "source": [
    "# Project 3: Data Analysis with the Normal Curve"
   ]
  },
  {
   "cell_type": "code",
   "execution_count": 1,
   "id": "6637dddb-9087-4545-b0a3-d74abd485c7e",
   "metadata": {},
   "outputs": [],
   "source": [
    "# recommended libraries\n",
    "import numpy as np\n",
    "import matplotlib.pyplot as plt\n",
    "import pandas as pd\n",
    "from scipy.stats import norm\n",
    "\n",
    "sample_data = pd.read_csv('sample_scores.csv')\n",
    "\n"
   ]
  },
  {
   "cell_type": "code",
   "execution_count": null,
   "id": "0f45ec25-b1d9-4d6b-8a56-ae0cfd0400cf",
   "metadata": {},
   "outputs": [],
   "source": []
  },
  {
   "cell_type": "markdown",
   "id": "b31a6b48-91b1-4d10-b988-771d3493ca28",
   "metadata": {},
   "source": [
    "## Finding Cut-off Values"
   ]
  },
  {
   "cell_type": "code",
   "execution_count": null,
   "id": "71b138e5-a58e-43cb-ba58-3e79ae437f95",
   "metadata": {},
   "outputs": [],
   "source": []
  },
  {
   "cell_type": "code",
   "execution_count": null,
   "id": "35dd000a-392d-4a43-84c4-fa3bcac8ed1a",
   "metadata": {},
   "outputs": [],
   "source": []
  },
  {
   "cell_type": "code",
   "execution_count": null,
   "id": "7b67d951-95e6-433d-a877-cb04402f541a",
   "metadata": {},
   "outputs": [],
   "source": []
  },
  {
   "cell_type": "code",
   "execution_count": null,
   "id": "9498d3c2-29a4-485e-a3b5-1d9062c18013",
   "metadata": {},
   "outputs": [],
   "source": []
  },
  {
   "cell_type": "markdown",
   "id": "cf1e6e7f-6964-4393-849c-51c387af5c7f",
   "metadata": {},
   "source": [
    "## Determine Curved Grades"
   ]
  },
  {
   "cell_type": "code",
   "execution_count": null,
   "id": "eec7d52e-66a8-45c0-a6cd-c3a0a48fe181",
   "metadata": {},
   "outputs": [],
   "source": []
  },
  {
   "cell_type": "code",
   "execution_count": null,
   "id": "555b7ac9-0e31-413c-ab5a-b50e4e5c7898",
   "metadata": {},
   "outputs": [],
   "source": []
  },
  {
   "cell_type": "code",
   "execution_count": 1,
   "id": "23d3ee76-41da-4fa1-9ce7-20b6f815a336",
   "metadata": {},
   "outputs": [],
   "source": [
    "def curve_grades(raw_scores, cutoffs):\n",
    "\n",
    "\n",
    "    return "
   ]
  },
  {
   "cell_type": "markdown",
   "id": "ac7b00fb-24ce-49b7-a6b5-6ae52a01edd7",
   "metadata": {},
   "source": []
  },
  {
   "cell_type": "markdown",
   "id": "f5e46cf4-7bea-4bf8-b4ab-f37d224618a5",
   "metadata": {},
   "source": [
    "## Write a Function"
   ]
  },
  {
   "cell_type": "code",
   "execution_count": 2,
   "id": "131939ff-250d-4693-bac0-85da956ab602",
   "metadata": {},
   "outputs": [],
   "source": [
    "\n",
    "# THIS IS ONLY PARTIALLY COMPLETE. \n",
    "# ADD CODE UNDER CAPITALIZED COMMENTS TO PROPERLY COMPLETE THE FUNCTION\n",
    "\n",
    "def grade_curve_summary(raw_scores, cutoffs_1, cutoffs_2):\n",
    "    ## function that takes in raw scores, and two grade curves via cutoff values\n",
    "    \n",
    "    ## create a fresh dataframe each time function is used\n",
    "    test_class = pd.read_csv('sample_class_names.csv')\n",
    "\n",
    "    ## regular grade cutoffs\n",
    "    cutoffs_regular = [60, 70, 80, 90]\n",
    "    \n",
    "    ## add raw scores to dataframe\n",
    "    test_class['raw_score'] = raw_scores\n",
    "\n",
    "    # add raw letter grades to dataframe\n",
    "    test_class['raw_grade'] = curve_grades(raw_scores, cutoffs_regular)\n",
    "    \n",
    "    ## ------------------------------------\n",
    "    \n",
    "    ## ADD ALPHA CURVED GRADES TO DATAFRAME\n",
    "    \n",
    "    ## ADD BETA CURVED GRADES TO DATAFRAME\n",
    "\n",
    "    ## FIND MEAN AND STD DEVIATION (USE PANDAS!)\n",
    "    # mean = \n",
    "    # std = \n",
    "    \n",
    "    ## PRINT MEAN AND STD DEVIATION\n",
    "    \n",
    "    # print('Raw Mean: ', mean)\n",
    "    # print('Raw Standard Deviation: ', std)\n",
    "\n",
    "    \n",
    "    # PLOT HISTOGRAM\n",
    "\n",
    "    \n",
    "    return test_class\n"
   ]
  },
  {
   "cell_type": "code",
   "execution_count": null,
   "id": "2d9ea34c-4dc4-4b3c-a57e-c7b055784398",
   "metadata": {},
   "outputs": [],
   "source": []
  },
  {
   "cell_type": "markdown",
   "id": "48484264-bc90-4f47-b643-74567d1d7e72",
   "metadata": {},
   "source": [
    "## Test your Curves"
   ]
  },
  {
   "cell_type": "code",
   "execution_count": null,
   "id": "79f6738e-7fa9-441e-88a3-18de5e04a75a",
   "metadata": {},
   "outputs": [],
   "source": [
    "## OUTLINE FOR TESTING CURVES: \n",
    "## find a random set of grades (advised to use np.random) for 30 students\n",
    "\n",
    "# use function to print mean, std deviation, histogram, and table for each set of random data."
   ]
  },
  {
   "cell_type": "code",
   "execution_count": null,
   "id": "a732251d-5aa7-4cbb-a7a3-772b1943a172",
   "metadata": {},
   "outputs": [],
   "source": []
  },
  {
   "cell_type": "code",
   "execution_count": null,
   "id": "efe87a13-02aa-4de2-aa8c-994e4eb6f26f",
   "metadata": {},
   "outputs": [],
   "source": []
  },
  {
   "cell_type": "markdown",
   "id": "5112d554-4d6a-4fa1-bf7c-98a1a7dab7c8",
   "metadata": {},
   "source": [
    "## Reflection"
   ]
  },
  {
   "cell_type": "code",
   "execution_count": null,
   "id": "2a2417b3-23aa-416e-8112-64fb593d80df",
   "metadata": {},
   "outputs": [],
   "source": []
  },
  {
   "cell_type": "code",
   "execution_count": null,
   "id": "9511cd1b-a987-4c8c-b35e-5062a9ef2b9e",
   "metadata": {},
   "outputs": [],
   "source": []
  },
  {
   "cell_type": "code",
   "execution_count": null,
   "id": "2375f269-4a8b-42eb-b4ca-287a1e18df4c",
   "metadata": {},
   "outputs": [],
   "source": []
  },
  {
   "cell_type": "code",
   "execution_count": null,
   "id": "2f960914-57d9-41d2-bb53-ca64bb0da835",
   "metadata": {},
   "outputs": [],
   "source": []
  }
 ],
 "metadata": {
  "kernelspec": {
   "display_name": "Python 3 (ipykernel)",
   "language": "python",
   "name": "python3"
  },
  "language_info": {
   "codemirror_mode": {
    "name": "ipython",
    "version": 3
   },
   "file_extension": ".py",
   "mimetype": "text/x-python",
   "name": "python",
   "nbconvert_exporter": "python",
   "pygments_lexer": "ipython3",
   "version": "3.10.13"
  }
 },
 "nbformat": 4,
 "nbformat_minor": 5
}
