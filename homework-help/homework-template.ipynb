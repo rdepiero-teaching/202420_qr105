{
 "cells": [
  {
   "cell_type": "markdown",
   "id": "e15476a3-7355-4cf7-9599-1ad203229a03",
   "metadata": {},
   "source": [
    "# Homework X\n",
    "\n",
    "This is a template notebook you can use to organize code you write when doing your homework."
   ]
  },
  {
   "cell_type": "markdown",
   "id": "1eafe4a3-9e60-4b22-96f2-12c3da657793",
   "metadata": {},
   "source": [
    "### Import Libraries\n",
    "Import any libraries in the cell below. This makes it easy to see where they are located and ensures they are accessible in the entire notebook."
   ]
  },
  {
   "cell_type": "code",
   "execution_count": 2,
   "id": "5fee9553-911d-401c-b424-61a35a98dad9",
   "metadata": {},
   "outputs": [],
   "source": [
    "## add any libraries in this single code cell\n",
    "\n"
   ]
  },
  {
   "cell_type": "code",
   "execution_count": null,
   "id": "781b6f67-9090-4697-93a5-617e097e4613",
   "metadata": {},
   "outputs": [],
   "source": []
  },
  {
   "cell_type": "markdown",
   "id": "439f7eaa-2bdd-4ea1-8f90-562732eeaf2a",
   "metadata": {},
   "source": [
    "### Functions\n",
    "Add any functions you may write here. This makes it easy to see where they are located and ensures they are accessible in the entire notebook.\n"
   ]
  },
  {
   "cell_type": "code",
   "execution_count": 3,
   "id": "6b2bcec3-0965-428f-ac4d-663451018904",
   "metadata": {},
   "outputs": [],
   "source": [
    "### add any functions you write in this single code cell\n",
    "\n",
    "\n"
   ]
  },
  {
   "cell_type": "markdown",
   "id": "7d30fa83-37ae-4830-ab89-ddbd3ab77ab4",
   "metadata": {},
   "source": [
    "## Problem 1"
   ]
  },
  {
   "cell_type": "code",
   "execution_count": null,
   "id": "69b7af44-27a6-43c6-bc93-dd2af197a16a",
   "metadata": {},
   "outputs": [],
   "source": []
  },
  {
   "cell_type": "markdown",
   "id": "108ed165-5cab-4b61-a1cf-bcb6d0872390",
   "metadata": {},
   "source": [
    "## Problem 2"
   ]
  },
  {
   "cell_type": "code",
   "execution_count": null,
   "id": "e4ffa9e2-d165-4cf5-83f6-9c8ccfa19466",
   "metadata": {},
   "outputs": [],
   "source": []
  },
  {
   "cell_type": "markdown",
   "id": "57fff635-95c1-48f4-89dc-bc3ba5321605",
   "metadata": {},
   "source": [
    "## Problem 3"
   ]
  },
  {
   "cell_type": "code",
   "execution_count": null,
   "id": "5d3ac3e1-e8af-43e4-a748-6014dbf4b75f",
   "metadata": {},
   "outputs": [],
   "source": []
  },
  {
   "cell_type": "markdown",
   "id": "17fb58c7-5538-4a48-8976-fda338050b73",
   "metadata": {},
   "source": [
    "## Problem 4"
   ]
  },
  {
   "cell_type": "code",
   "execution_count": null,
   "id": "7079c054-99f6-46d3-8238-66c60483c4d2",
   "metadata": {},
   "outputs": [],
   "source": []
  },
  {
   "cell_type": "markdown",
   "id": "e013ed90-36bb-4fad-80f8-e15ab35f017e",
   "metadata": {},
   "source": [
    "## Problem 5"
   ]
  },
  {
   "cell_type": "code",
   "execution_count": null,
   "id": "00ad6c13-ad54-4638-a318-52ad12ea3cc5",
   "metadata": {},
   "outputs": [],
   "source": []
  },
  {
   "cell_type": "markdown",
   "id": "19011fba-5738-473e-9ec5-058234fd6a29",
   "metadata": {},
   "source": [
    "## Problem 6"
   ]
  },
  {
   "cell_type": "code",
   "execution_count": null,
   "id": "71cb9946-473b-4561-b0ac-5811f62306d0",
   "metadata": {},
   "outputs": [],
   "source": []
  },
  {
   "cell_type": "markdown",
   "id": "60079792-5411-4c33-b7dc-375d497dbfbc",
   "metadata": {},
   "source": [
    "## Problem 7"
   ]
  },
  {
   "cell_type": "code",
   "execution_count": null,
   "id": "f3720c6b-6a9d-45b1-b052-00e4326c48b5",
   "metadata": {},
   "outputs": [],
   "source": []
  },
  {
   "cell_type": "markdown",
   "id": "4cf968b2-71dc-44c4-8a30-1fdf503530a9",
   "metadata": {},
   "source": [
    "## Problem 8"
   ]
  },
  {
   "cell_type": "code",
   "execution_count": null,
   "id": "acfaa53d-a866-48d9-afb3-34f3f65b0eaf",
   "metadata": {},
   "outputs": [],
   "source": []
  },
  {
   "cell_type": "markdown",
   "id": "12d6060b-5244-4d68-a649-2275a4e5f2ae",
   "metadata": {},
   "source": [
    "## Problem 9"
   ]
  },
  {
   "cell_type": "code",
   "execution_count": null,
   "id": "96cd1a4c-b170-417b-80d0-4927957f41b1",
   "metadata": {},
   "outputs": [],
   "source": []
  },
  {
   "cell_type": "markdown",
   "id": "5a87b8c8-bb81-45f7-848c-5d996db07e56",
   "metadata": {},
   "source": [
    "## Problem 10"
   ]
  },
  {
   "cell_type": "code",
   "execution_count": null,
   "id": "b788bfe9-59a1-4b2c-8920-c356b1eb4c81",
   "metadata": {},
   "outputs": [],
   "source": []
  }
 ],
 "metadata": {
  "kernelspec": {
   "display_name": "Python 3 (ipykernel)",
   "language": "python",
   "name": "python3"
  },
  "language_info": {
   "codemirror_mode": {
    "name": "ipython",
    "version": 3
   },
   "file_extension": ".py",
   "mimetype": "text/x-python",
   "name": "python",
   "nbconvert_exporter": "python",
   "pygments_lexer": "ipython3",
   "version": "3.10.13"
  }
 },
 "nbformat": 4,
 "nbformat_minor": 5
}
